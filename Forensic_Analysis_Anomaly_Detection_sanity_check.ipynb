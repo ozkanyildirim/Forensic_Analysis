{
  "nbformat": 4,
  "nbformat_minor": 0,
  "metadata": {
    "kernelspec": {
      "display_name": "Python 3",
      "language": "python",
      "name": "python3"
    },
    "language_info": {
      "codemirror_mode": {
        "name": "ipython",
        "version": 3
      },
      "file_extension": ".py",
      "mimetype": "text/x-python",
      "name": "python",
      "nbconvert_exporter": "python",
      "pygments_lexer": "ipython3",
      "version": "3.8.5-final"
    },
    "colab": {
      "name": "Forensic_Analysis_Anomaly_Detection.ipynb",
      "provenance": [],
      "collapsed_sections": []
    }
  },
  "cells": [
    {
      "cell_type": "markdown",
      "metadata": {
        "id": "CkP9zoQB75NZ"
      },
      "source": [
        "# Unsupervised Anomaly Detection in Time Series of Bank Transactions"
      ]
    },
    {
      "cell_type": "markdown",
      "metadata": {
        "id": "KPhcwfxd75Nl"
      },
      "source": [
        "## 1. Data Cleaning & Exploratory Data Analysis"
      ]
    },
    {
      "cell_type": "code",
      "metadata": {
        "id": "cvq2UnqA75Nm"
      },
      "source": [
        "# Data and Stats Packages\n",
        "import pandas as pd\n",
        "import numpy as np\n",
        "import re\n",
        "import datetime as dt\n",
        "\n",
        "# Visualization Packages\n",
        "%matplotlib inline\n",
        "import matplotlib.pyplot as plt\n",
        "import seaborn as sns\n",
        "\n",
        "# Anomaly Detection Packages\n",
        "from sklearn import preprocessing\n",
        "from sklearn.ensemble import IsolationForest\n",
        "from sklearn.svm import OneClassSVM\n",
        "from sklearn.covariance import EllipticEnvelope\n",
        "from statsmodels.tsa.seasonal import seasonal_decompose\n",
        "\n",
        "\n",
        "import warnings\n",
        "warnings.filterwarnings(\"ignore\")"
      ],
      "execution_count": null,
      "outputs": []
    },
    {
      "cell_type": "code",
      "metadata": {
        "id": "wNrOuzyq75Nn"
      },
      "source": [
        "bank = pd.read_excel('Sample_bank_transaction_data.xlsx')\n",
        "bank_raw = bank.copy()"
      ],
      "execution_count": null,
      "outputs": []
    },
    {
      "cell_type": "code",
      "metadata": {
        "colab": {
          "base_uri": "https://localhost:8080/",
          "height": 204
        },
        "id": "jTuirrdg75Nn",
        "outputId": "35b781a3-3ac2-45d2-bdb5-1a55f085d084"
      },
      "source": [
        "bank.head()"
      ],
      "execution_count": null,
      "outputs": []
    },
    {
      "cell_type": "code",
      "metadata": {
        "colab": {
          "base_uri": "https://localhost:8080/",
          "height": 419
        },
        "id": "Tah9miIIqpv1",
        "outputId": "ceda35d9-f05f-4335-b184-519fe50c0f6a"
      },
      "source": [
        "bank[bank['BALANCE AMT']<0].shape"
      ],
      "execution_count": null,
      "outputs": []
    },
    {
      "cell_type": "code",
      "execution_count": null,
      "metadata": {},
      "outputs": [],
      "source": [
        "bank[bank['WITHDRAWAL AMT']<0].shape"
      ]
    },
    {
      "cell_type": "code",
      "execution_count": null,
      "metadata": {},
      "outputs": [],
      "source": [
        "bank[bank['DEPOSIT AMT']<0].shape"
      ]
    },
    {
      "cell_type": "code",
      "metadata": {
        "colab": {
          "base_uri": "https://localhost:8080/"
        },
        "id": "lddjlJiM75No",
        "outputId": "dcb7a191-f15e-4f94-ccf4-71dd449f8152"
      },
      "source": [
        "bank.shape"
      ],
      "execution_count": null,
      "outputs": []
    },
    {
      "cell_type": "code",
      "metadata": {
        "colab": {
          "base_uri": "https://localhost:8080/",
          "height": 297
        },
        "id": "ROz6yNxz75Np",
        "outputId": "e515f3b7-ac67-4107-fbf9-4e60b7966e3e"
      },
      "source": [
        "bank.describe()"
      ],
      "execution_count": null,
      "outputs": []
    },
    {
      "cell_type": "code",
      "metadata": {
        "colab": {
          "base_uri": "https://localhost:8080/",
          "height": 142
        },
        "id": "VCb85xnR75Nq",
        "outputId": "4ade250d-ad7a-4287-96e9-bb4d8fce627d"
      },
      "source": [
        "bank.rename(columns={'Account No': 'account_no', 'DATE':'date', 'TRANSACTION DETAILS':'details', 'CHQ.NO.':'chq_no', 'VALUE DATE':'value_date',\n",
        "       'WITHDRAWAL AMT':'withdrawal_amt', 'DEPOSIT AMT':'deposit_amt', 'BALANCE AMT':'balance_amt'}, inplace=True)\n",
        "bank.head(3)"
      ],
      "execution_count": null,
      "outputs": []
    },
    {
      "cell_type": "markdown",
      "metadata": {
        "id": "SODNDUFC75Nr"
      },
      "source": [
        "We have a time series data without anomaly labeling. Let's take a closer look at the features."
      ]
    },
    {
      "cell_type": "code",
      "metadata": {
        "id": "SQVH9BP_75Ns"
      },
      "source": [
        "def first_look(df, col):\n",
        "    \"\"\"\n",
        "    Enables a quick search for characteristics of a column in a data frame.\n",
        "    \n",
        "    df: Data Frame\n",
        "    col: Column of interest\n",
        "    \n",
        "    \"\"\"\n",
        "    val = pd.DataFrame(df[col].value_counts(dropna=False))\n",
        "    val = val.assign(percent=(df[col].value_counts(dropna=False, normalize=True).values)*100)\n",
        "    info = pd.DataFrame({'Column_Name': [col],'Null_Rows': [df[col].isna().sum()], 'Column_Type': [df[col].dtypes]}, index=['column_info'])\n",
        "    return info, val"
      ],
      "execution_count": null,
      "outputs": []
    },
    {
      "cell_type": "markdown",
      "metadata": {
        "id": "4KqfsWIr75Ns"
      },
      "source": [
        "### i. account_no"
      ]
    },
    {
      "cell_type": "code",
      "metadata": {
        "id": "VcN_JmHN75Nt"
      },
      "source": [
        "info , val = first_look(bank, bank.columns[0])"
      ],
      "execution_count": null,
      "outputs": []
    },
    {
      "cell_type": "code",
      "metadata": {
        "colab": {
          "base_uri": "https://localhost:8080/",
          "height": 80
        },
        "id": "kjVWzBS075Nu",
        "outputId": "55cd4970-9d4b-4531-cd9b-2f6694d7ef3c"
      },
      "source": [
        "info"
      ],
      "execution_count": null,
      "outputs": []
    },
    {
      "cell_type": "code",
      "metadata": {
        "colab": {
          "base_uri": "https://localhost:8080/",
          "height": 359
        },
        "id": "TUaTtkkh75Nu",
        "outputId": "95ca00bc-6a02-4743-aad2-a2b958099fb1"
      },
      "source": [
        "val"
      ],
      "execution_count": null,
      "outputs": []
    },
    {
      "cell_type": "markdown",
      "metadata": {
        "id": "uRLavIkE75Nv"
      },
      "source": [
        "Since **account_no** is a unique indicator of customers (in our case we have 10 customers who have rather unbalanced transaction frequencies), we should keep the data type as string and for future investigation purposes we will remove the **'** (last character)."
      ]
    },
    {
      "cell_type": "code",
      "metadata": {
        "id": "14vemxpP75Nw"
      },
      "source": [
        "bank['account_no'] = bank.account_no.str.extract(r'(\\d+)\\'')"
      ],
      "execution_count": null,
      "outputs": []
    },
    {
      "cell_type": "code",
      "metadata": {
        "colab": {
          "base_uri": "https://localhost:8080/",
          "height": 443
        },
        "id": "HS6Jr59Q75Nx",
        "outputId": "243254de-562d-44e3-a939-4e3b098a469b"
      },
      "source": [
        "plt.figure(figsize=(10,6))\n",
        "plt.xticks(rotation=45)\n",
        "fig = sns.countplot(data=bank, x='account_no', order=bank.account_no.value_counts().index)\n",
        "fig2 = fig.twinx()\n",
        "\n",
        "fig.yaxis.set_label_position('left')\n",
        "fig2.yaxis.set_label_position('right')\n",
        "\n",
        "fig2.set_ylabel('% of total')\n",
        "\n",
        "for p in fig.patches:\n",
        "    x=p.get_bbox().get_points()[:,0]\n",
        "    y=p.get_bbox().get_points()[1,1]\n",
        "    fig.annotate('{:.2f}%'.format(100.*y/len(bank)), (x.mean(), y), \n",
        "            ha='center', va='bottom') # set the alignment of the text\n",
        "fig2.grid(None)\n",
        "fig2.set_ylim(0,100)\n",
        "fig2.grid()\n",
        "plt.show()"
      ],
      "execution_count": null,
      "outputs": []
    },
    {
      "cell_type": "markdown",
      "metadata": {
        "id": "kUGQ1j0Z75Nz"
      },
      "source": [
        "### ii. date"
      ]
    },
    {
      "cell_type": "code",
      "metadata": {
        "id": "ajgYk08o75Nz"
      },
      "source": [
        "info , val = first_look(bank, bank.columns[1])"
      ],
      "execution_count": null,
      "outputs": []
    },
    {
      "cell_type": "code",
      "metadata": {
        "colab": {
          "base_uri": "https://localhost:8080/",
          "height": 80
        },
        "id": "SI3eAwaC75N0",
        "outputId": "4f8310e0-72d8-4a43-cf45-43a1a3357b9a"
      },
      "source": [
        "info"
      ],
      "execution_count": null,
      "outputs": []
    },
    {
      "cell_type": "code",
      "metadata": {
        "colab": {
          "base_uri": "https://localhost:8080/"
        },
        "id": "iLoZ7-r075N0",
        "outputId": "d2cab948-d6cf-4d1b-f78d-c3564e1d418c"
      },
      "source": [
        "bank.date.apply(lambda x: x.year).value_counts()"
      ],
      "execution_count": null,
      "outputs": []
    },
    {
      "cell_type": "code",
      "metadata": {
        "colab": {
          "base_uri": "https://localhost:8080/"
        },
        "id": "M1LvyxBx75N3",
        "outputId": "457e367d-1d2b-48c1-e20d-380331d23ebc"
      },
      "source": [
        "((bank.date).dt.dayofweek).value_counts()"
      ],
      "execution_count": null,
      "outputs": []
    },
    {
      "cell_type": "code",
      "metadata": {
        "id": "nfuG9xRz75N4"
      },
      "source": [
        "conditions = [((bank.date).dt.dayofweek  > 4), ((bank.date).dt.dayofweek  < 5)]\n",
        "values = [1, 0]\n",
        "bank['weekend_date'] = np.select(conditions, values)"
      ],
      "execution_count": null,
      "outputs": []
    },
    {
      "cell_type": "markdown",
      "metadata": {
        "id": "ehNg_rpA75N5"
      },
      "source": [
        "### iii. details"
      ]
    },
    {
      "cell_type": "code",
      "metadata": {
        "id": "DMnjTup775N5"
      },
      "source": [
        "info , val = first_look(bank, bank.columns[2])"
      ],
      "execution_count": null,
      "outputs": []
    },
    {
      "cell_type": "code",
      "metadata": {
        "colab": {
          "base_uri": "https://localhost:8080/",
          "height": 80
        },
        "id": "NEnpjIN775N6",
        "outputId": "992d053e-15b8-4291-b413-a5c32bc1dcc2"
      },
      "source": [
        "info"
      ],
      "execution_count": null,
      "outputs": []
    },
    {
      "cell_type": "code",
      "metadata": {
        "colab": {
          "base_uri": "https://localhost:8080/"
        },
        "id": "9X7396pa75N8",
        "outputId": "6bd868ba-dbc3-46d7-ae3b-092035d83780"
      },
      "source": [
        "bank[bank.details.isna()].account_no.value_counts()"
      ],
      "execution_count": null,
      "outputs": []
    },
    {
      "cell_type": "code",
      "metadata": {
        "colab": {
          "base_uri": "https://localhost:8080/"
        },
        "id": "5ktdawIz75N9",
        "outputId": "c0f5104e-6c64-41ee-b199-01234346653c"
      },
      "source": [
        "bank[bank.details.isna()].date.apply(lambda x: x.year).value_counts()"
      ],
      "execution_count": null,
      "outputs": []
    },
    {
      "cell_type": "code",
      "metadata": {
        "colab": {
          "base_uri": "https://localhost:8080/"
        },
        "id": "ybDP5PG975N9",
        "outputId": "e305a344-8bf9-4cd6-aa79-3aac4b838a4c"
      },
      "source": [
        "bank.details.sample(10)"
      ],
      "execution_count": null,
      "outputs": []
    },
    {
      "cell_type": "markdown",
      "metadata": {
        "id": "a9M0I_0975N-"
      },
      "source": [
        "This function has the potential to provide information about anomalies. It could help us find new features. For starters, let's define a column that indicates whether a transaction has no proper details value (Null or nonsense values)."
      ]
    },
    {
      "cell_type": "code",
      "metadata": {
        "id": "7I7KUCdO75N-"
      },
      "source": [
        "conditions = [(bank.details.isna())]\n",
        "values = [1]\n",
        "bank['details_null_penalty'] = np.select(conditions, values)"
      ],
      "execution_count": null,
      "outputs": []
    },
    {
      "cell_type": "code",
      "metadata": {
        "id": "3L6d_2-n75N_"
      },
      "source": [
        "conditions = [(bank.details.str.extract(r'(\\w+)')[0].isna())]\n",
        "values = [1]\n",
        "bank['details_numbers_penalty'] = np.select(conditions, values)"
      ],
      "execution_count": null,
      "outputs": []
    },
    {
      "cell_type": "code",
      "metadata": {
        "colab": {
          "base_uri": "https://localhost:8080/"
        },
        "id": "uWLEpKMZ75N_",
        "outputId": "2b832bb1-d4af-4fc5-c276-32d195ae2921"
      },
      "source": [
        "bank.details_null_penalty.value_counts()"
      ],
      "execution_count": null,
      "outputs": []
    },
    {
      "cell_type": "code",
      "metadata": {
        "colab": {
          "base_uri": "https://localhost:8080/"
        },
        "id": "XGJ837Ak75OE",
        "outputId": "f4ecf831-a352-4920-9631-7851d11eae67"
      },
      "source": [
        "bank.details_numbers_penalty.value_counts()"
      ],
      "execution_count": null,
      "outputs": []
    },
    {
      "cell_type": "markdown",
      "metadata": {
        "id": "c1PPiy3675OF"
      },
      "source": [
        "This penalty is not a red flag by itself, but can be an additional checkpoint for the anomaly detection results. Let's leave the **details** column at this point and move on to the next feature."
      ]
    },
    {
      "cell_type": "markdown",
      "metadata": {
        "id": "-nL7kvZc75OG"
      },
      "source": [
        "### iv. chq_no"
      ]
    },
    {
      "cell_type": "code",
      "metadata": {
        "id": "Mxs2Amrw75OH"
      },
      "source": [
        "info , val = first_look(bank, bank.columns[3])"
      ],
      "execution_count": null,
      "outputs": []
    },
    {
      "cell_type": "code",
      "metadata": {
        "colab": {
          "base_uri": "https://localhost:8080/",
          "height": 80
        },
        "id": "ju7Vy83L75OH",
        "outputId": "36331aa8-1565-4e1a-fddc-b5fa72b6be81"
      },
      "source": [
        "info"
      ],
      "execution_count": null,
      "outputs": []
    },
    {
      "cell_type": "code",
      "metadata": {
        "colab": {
          "base_uri": "https://localhost:8080/",
          "height": 419
        },
        "id": "pTmLjJnM75OI",
        "outputId": "68f79b01-179a-49e7-d820-e1563c27d4de"
      },
      "source": [
        "val"
      ],
      "execution_count": null,
      "outputs": []
    },
    {
      "cell_type": "code",
      "metadata": {
        "colab": {
          "base_uri": "https://localhost:8080/",
          "height": 1000
        },
        "id": "Zdh3PPi575OJ",
        "outputId": "84fc9102-ac8c-441b-d6bc-fc25b6269cf4"
      },
      "source": [
        "bank[bank.chq_no<10]"
      ],
      "execution_count": null,
      "outputs": []
    },
    {
      "cell_type": "code",
      "metadata": {
        "colab": {
          "base_uri": "https://localhost:8080/",
          "height": 549
        },
        "id": "uvsyOiP_75OK",
        "outputId": "90acde95-6b99-4b22-e1f1-f55a038cac4c"
      },
      "source": [
        "bank[~bank.chq_no.isna()].sample(10)"
      ],
      "execution_count": null,
      "outputs": []
    },
    {
      "cell_type": "code",
      "metadata": {
        "colab": {
          "base_uri": "https://localhost:8080/",
          "height": 309
        },
        "id": "nGljuzS875OK",
        "outputId": "62496e5a-a3f0-48bb-a0bc-b990288ecd0c"
      },
      "source": [
        "bank[bank.chq_no<100000].tail()"
      ],
      "execution_count": null,
      "outputs": []
    },
    {
      "cell_type": "code",
      "metadata": {
        "id": "8CtJBKjl75OL"
      },
      "source": [
        "bank['cheque_penalty'] = np.where(bank.chq_no<11, 1, 0)"
      ],
      "execution_count": null,
      "outputs": []
    },
    {
      "cell_type": "code",
      "metadata": {
        "colab": {
          "base_uri": "https://localhost:8080/"
        },
        "id": "cpMlPpGk75OM",
        "outputId": "d5b63a43-8ddb-4613-f096-d078730219b5"
      },
      "source": [
        "bank.cheque_penalty.value_counts()"
      ],
      "execution_count": null,
      "outputs": []
    },
    {
      "cell_type": "markdown",
      "metadata": {
        "id": "lJRnnk0075ON"
      },
      "source": [
        "Again, this penalty is not a red flag in itself, but on the other hand, given the incorrect check numbers, it can be an additional check point for the anomaly detection results. Let's leave the **chq_no** column at this point and move on to the next feature."
      ]
    },
    {
      "cell_type": "markdown",
      "metadata": {
        "id": "v4XctbSP75ON"
      },
      "source": [
        "### v. value_date"
      ]
    },
    {
      "cell_type": "code",
      "metadata": {
        "id": "kOhG2WQI75OO"
      },
      "source": [
        "info , val = first_look(bank, bank.columns[4])"
      ],
      "execution_count": null,
      "outputs": []
    },
    {
      "cell_type": "code",
      "metadata": {
        "colab": {
          "base_uri": "https://localhost:8080/",
          "height": 80
        },
        "id": "k47zPMqs75OO",
        "outputId": "e6d94511-f463-4ec2-8f21-e8365ba925e6"
      },
      "source": [
        "info"
      ],
      "execution_count": null,
      "outputs": []
    },
    {
      "cell_type": "code",
      "metadata": {
        "id": "oFZmuyDz75OO"
      },
      "source": [
        "bank['day_diff'] = ((bank.date - bank.value_date) / np.timedelta64(1,'D')).astype(int)"
      ],
      "execution_count": null,
      "outputs": []
    },
    {
      "cell_type": "code",
      "metadata": {
        "colab": {
          "base_uri": "https://localhost:8080/"
        },
        "id": "NgiTrYLo75OO",
        "outputId": "ce568304-b597-419d-dcbf-fc6eaa4e3e2a"
      },
      "source": [
        "bank.day_diff.value_counts()"
      ],
      "execution_count": null,
      "outputs": []
    },
    {
      "cell_type": "code",
      "metadata": {
        "colab": {
          "base_uri": "https://localhost:8080/",
          "height": 374
        },
        "id": "eIMiG8bc75OP",
        "outputId": "1cecc9e5-cf46-4c61-ffe7-ee431f112baa"
      },
      "source": [
        "bank[(bank.day_diff < 0) | (bank.day_diff > 5)]"
      ],
      "execution_count": null,
      "outputs": []
    },
    {
      "cell_type": "markdown",
      "metadata": {
        "id": "ZR4D9elR75OP"
      },
      "source": [
        "As one could obviously see, we have obtained an important feature that we will look at more closely in the anomaly analysis. Let's have a quick look whether we have weekend value_dates."
      ]
    },
    {
      "cell_type": "code",
      "metadata": {
        "colab": {
          "base_uri": "https://localhost:8080/"
        },
        "id": "PCVMn5Tx75OP",
        "outputId": "249280fc-1ee1-4405-c5ee-30710512bdd5"
      },
      "source": [
        "((bank.value_date).dt.dayofweek  > 4).value_counts()"
      ],
      "execution_count": null,
      "outputs": []
    },
    {
      "cell_type": "code",
      "metadata": {
        "id": "01tWZ9O675OQ"
      },
      "source": [
        "conditions = [((bank.value_date).dt.dayofweek  > 4), ((bank.value_date).dt.dayofweek  < 5)]\n",
        "values = [1, 0]\n",
        "bank['weekend_value_date'] = np.select(conditions, values)"
      ],
      "execution_count": null,
      "outputs": []
    },
    {
      "cell_type": "markdown",
      "metadata": {
        "id": "Wx1oqvkU75OQ"
      },
      "source": [
        "### vi. withdrawal_amt"
      ]
    },
    {
      "cell_type": "code",
      "metadata": {
        "id": "dRJct_Ve75OQ"
      },
      "source": [
        "info , val = first_look(bank, bank.columns[5])"
      ],
      "execution_count": null,
      "outputs": []
    },
    {
      "cell_type": "code",
      "metadata": {
        "colab": {
          "base_uri": "https://localhost:8080/",
          "height": 80
        },
        "id": "4Nuo0GYZ75OR",
        "outputId": "643d906d-71bd-4d9b-cfd7-83736cc73e15"
      },
      "source": [
        "info"
      ],
      "execution_count": null,
      "outputs": []
    },
    {
      "cell_type": "code",
      "metadata": {
        "colab": {
          "base_uri": "https://localhost:8080/"
        },
        "id": "GLRv0s9R75OR",
        "outputId": "487a676d-bdf9-4d0a-ea9e-0758da511619"
      },
      "source": [
        "bank.withdrawal_amt.describe()"
      ],
      "execution_count": null,
      "outputs": []
    },
    {
      "cell_type": "code",
      "metadata": {
        "colab": {
          "base_uri": "https://localhost:8080/"
        },
        "id": "whP9hhRA75OR",
        "outputId": "2f7268a0-3c30-4723-9661-af9c53fd7cf9"
      },
      "source": [
        "bank[~bank.withdrawal_amt.isna()].count()"
      ],
      "execution_count": null,
      "outputs": []
    },
    {
      "cell_type": "code",
      "metadata": {
        "colab": {
          "base_uri": "https://localhost:8080/"
        },
        "id": "0pErBc2k75OS",
        "outputId": "d9eb6737-c59c-4c87-9eff-a79881edb2b3"
      },
      "source": [
        "bank[bank.withdrawal_amt.isna()].count()"
      ],
      "execution_count": null,
      "outputs": []
    },
    {
      "cell_type": "code",
      "metadata": {
        "colab": {
          "base_uri": "https://localhost:8080/",
          "height": 390
        },
        "id": "1dN_Ej8E75OT",
        "outputId": "a91cacff-843b-401b-e312-419bc313caf5"
      },
      "source": [
        "pd.DataFrame(bank.groupby('account_no').withdrawal_amt.count()).sort_values('withdrawal_amt', ascending=False)"
      ],
      "execution_count": null,
      "outputs": []
    },
    {
      "cell_type": "code",
      "metadata": {
        "id": "7lKNtola75OU"
      },
      "source": [
        "conditions = [((bank.balance_amt+bank.withdrawal_amt)==0), ((bank.balance_amt+bank.withdrawal_amt)!=0)]\n",
        "values = [0, 100*(bank.withdrawal_amt/(bank.balance_amt+bank.withdrawal_amt))]\n",
        "bank['withdrawal_over_balance'] = np.select(conditions, values)"
      ],
      "execution_count": null,
      "outputs": []
    },
    {
      "cell_type": "code",
      "metadata": {
        "id": "1ewCxYHM75OU"
      },
      "source": [
        "bank['withdrawal_amt'] = bank.withdrawal_amt.fillna(0)"
      ],
      "execution_count": null,
      "outputs": []
    },
    {
      "cell_type": "code",
      "metadata": {
        "id": "96UosFGa75OU"
      },
      "source": [
        "bank['withdrawal_over_balance'] = bank.withdrawal_over_balance.fillna(0)"
      ],
      "execution_count": null,
      "outputs": []
    },
    {
      "cell_type": "code",
      "metadata": {
        "colab": {
          "base_uri": "https://localhost:8080/",
          "height": 394
        },
        "id": "Bqd2-8-775OV",
        "outputId": "1449d7c1-05f4-44ad-e441-4bfbf6d77c50"
      },
      "source": [
        "bank[bank.withdrawal_amt!=0].head()"
      ],
      "execution_count": null,
      "outputs": []
    },
    {
      "cell_type": "markdown",
      "metadata": {
        "id": "6n6iNEA275OW"
      },
      "source": [
        "### vii. deposit_amt"
      ]
    },
    {
      "cell_type": "code",
      "metadata": {
        "id": "-piR-SHf75OX"
      },
      "source": [
        "info , val = first_look(bank, bank.columns[6])"
      ],
      "execution_count": null,
      "outputs": []
    },
    {
      "cell_type": "code",
      "metadata": {
        "colab": {
          "base_uri": "https://localhost:8080/",
          "height": 80
        },
        "id": "WY3jffrJ75OX",
        "outputId": "00d76d5f-df7f-40f7-ddf0-be2a1407e465"
      },
      "source": [
        "info"
      ],
      "execution_count": null,
      "outputs": []
    },
    {
      "cell_type": "code",
      "metadata": {
        "colab": {
          "base_uri": "https://localhost:8080/"
        },
        "id": "18SQ2d3n75OX",
        "outputId": "a1cda581-7714-434c-cf85-ff7fb0d54002"
      },
      "source": [
        "bank.deposit_amt.describe()"
      ],
      "execution_count": null,
      "outputs": []
    },
    {
      "cell_type": "code",
      "metadata": {
        "colab": {
          "base_uri": "https://localhost:8080/"
        },
        "id": "8MAzIp7675OY",
        "outputId": "fad42645-35ec-4abd-ad42-9869060e05ff"
      },
      "source": [
        "bank[~bank.deposit_amt.isna()].count()"
      ],
      "execution_count": null,
      "outputs": []
    },
    {
      "cell_type": "code",
      "metadata": {
        "colab": {
          "base_uri": "https://localhost:8080/"
        },
        "id": "j7z3h-O475OY",
        "outputId": "a0909324-5803-44f4-89e8-2cfc2f1dce9b"
      },
      "source": [
        "bank[bank.deposit_amt.isna()].count()"
      ],
      "execution_count": null,
      "outputs": []
    },
    {
      "cell_type": "code",
      "metadata": {
        "colab": {
          "base_uri": "https://localhost:8080/",
          "height": 390
        },
        "id": "1bml1Tb375OZ",
        "outputId": "dc8a7d2b-6af8-4cc0-c1c1-e8340e03f0a5"
      },
      "source": [
        "pd.DataFrame(bank.groupby('account_no').deposit_amt.count()).sort_values('deposit_amt', ascending=False)"
      ],
      "execution_count": null,
      "outputs": []
    },
    {
      "cell_type": "code",
      "metadata": {
        "colab": {
          "base_uri": "https://localhost:8080/"
        },
        "id": "j3gYuOLH75OZ",
        "outputId": "6185058c-c4b5-48aa-8e95-d5d37cebae0e"
      },
      "source": [
        "bank[bank.deposit_amt.isna() & bank.withdrawal_amt.isna()].count()"
      ],
      "execution_count": null,
      "outputs": []
    },
    {
      "cell_type": "code",
      "metadata": {
        "id": "sCpRuuKz75OZ"
      },
      "source": [
        "conditions = [((bank.balance_amt-bank.deposit_amt)==0), ((bank.balance_amt-bank.deposit_amt)!=0)]\n",
        "values = [0, 100*(bank.deposit_amt/(bank.balance_amt-bank.deposit_amt))]\n",
        "bank['deposit_over_balance'] = np.select(conditions, values)\n",
        "bank['deposit_over_balance'] = bank.deposit_over_balance.fillna(0)"
      ],
      "execution_count": null,
      "outputs": []
    },
    {
      "cell_type": "code",
      "metadata": {
        "id": "Mi4DLIaA75Oa"
      },
      "source": [
        "bank['deposit_amt'] = bank.deposit_amt.fillna(0)"
      ],
      "execution_count": null,
      "outputs": []
    },
    {
      "cell_type": "markdown",
      "metadata": {
        "id": "MH7NzSPZ75Oa"
      },
      "source": [
        "### viii. balance_amt"
      ]
    },
    {
      "cell_type": "code",
      "metadata": {
        "colab": {
          "base_uri": "https://localhost:8080/"
        },
        "id": "yEK8y2908cDd",
        "outputId": "d04d3d37-019a-4f7c-88e0-42de0ea0c656"
      },
      "source": [
        "from google.colab import drive\n",
        "drive.mount('/content/drive')"
      ],
      "execution_count": null,
      "outputs": []
    },
    {
      "cell_type": "code",
      "metadata": {
        "id": "SjO4wqC375Oa"
      },
      "source": [
        "info , val = first_look(bank, bank.columns[7])"
      ],
      "execution_count": null,
      "outputs": []
    },
    {
      "cell_type": "code",
      "metadata": {
        "colab": {
          "base_uri": "https://localhost:8080/",
          "height": 80
        },
        "id": "MKRiI5al75Oa",
        "outputId": "0bdfd78c-ca47-4993-dcd3-5d5c2d0a98d4"
      },
      "source": [
        "info"
      ],
      "execution_count": null,
      "outputs": []
    },
    {
      "cell_type": "code",
      "metadata": {
        "colab": {
          "base_uri": "https://localhost:8080/"
        },
        "id": "lqxhystX75Ob",
        "outputId": "c20e23f0-ab92-4c4d-d527-c201658a0631"
      },
      "source": [
        "bank.balance_amt.describe()"
      ],
      "execution_count": null,
      "outputs": []
    },
    {
      "cell_type": "code",
      "metadata": {
        "colab": {
          "base_uri": "https://localhost:8080/"
        },
        "id": "rUyhELkM75Ob",
        "outputId": "f9f07144-710a-42e3-d8ec-c988ce34cb71"
      },
      "source": [
        "bank[bank.balance_amt.isna()].count()"
      ],
      "execution_count": null,
      "outputs": []
    },
    {
      "cell_type": "markdown",
      "metadata": {
        "id": "A66BnlZA75Ob"
      },
      "source": [
        "### ix. Dropping Empty Column"
      ]
    },
    {
      "cell_type": "code",
      "metadata": {
        "id": "MzgWQn7Y75Oc"
      },
      "source": [
        "info , val = first_look(bank, bank.columns[8])"
      ],
      "execution_count": null,
      "outputs": []
    },
    {
      "cell_type": "code",
      "metadata": {
        "colab": {
          "base_uri": "https://localhost:8080/",
          "height": 80
        },
        "id": "sesqQ5F375Oc",
        "outputId": "78daac4b-d090-48cf-fd09-2c4c3260ed2c"
      },
      "source": [
        "info"
      ],
      "execution_count": null,
      "outputs": []
    },
    {
      "cell_type": "code",
      "metadata": {
        "colab": {
          "base_uri": "https://localhost:8080/",
          "height": 80
        },
        "id": "f-QwFh7w75Oc",
        "outputId": "c2c72cb0-6f98-4bf5-d28b-927c5d55ab76"
      },
      "source": [
        "val"
      ],
      "execution_count": null,
      "outputs": []
    },
    {
      "cell_type": "code",
      "metadata": {
        "id": "N3CGQJBq75Od"
      },
      "source": [
        "bank.drop(columns=['.'], inplace=True, axis=1)"
      ],
      "execution_count": null,
      "outputs": []
    },
    {
      "cell_type": "code",
      "metadata": {
        "id": "J_BSdXf275Od"
      },
      "source": [
        "bank_detailed = bank.copy()"
      ],
      "execution_count": null,
      "outputs": []
    },
    {
      "cell_type": "code",
      "metadata": {
        "id": "QQsiRYsi75Od"
      },
      "source": [
        "bank = bank[['account_no', 'date', 'value_date', 'day_diff', 'weekend_date', 'weekend_value_date', 'withdrawal_amt', 'deposit_amt', 'balance_amt', 'withdrawal_over_balance', 'deposit_over_balance', 'details_null_penalty', 'details_numbers_penalty', 'cheque_penalty']]"
      ],
      "execution_count": null,
      "outputs": []
    },
    {
      "cell_type": "code",
      "metadata": {
        "colab": {
          "base_uri": "https://localhost:8080/",
          "height": 309
        },
        "id": "TA8nwktD75Od",
        "outputId": "ecaf14e3-18b7-4b93-85a2-12192782fd10"
      },
      "source": [
        "bank.head()"
      ],
      "execution_count": null,
      "outputs": []
    },
    {
      "cell_type": "markdown",
      "metadata": {
        "id": "WgtzUTNU75Od"
      },
      "source": [
        "## 2. Data Visualization"
      ]
    },
    {
      "cell_type": "code",
      "metadata": {
        "colab": {
          "base_uri": "https://localhost:8080/",
          "height": 1000
        },
        "id": "-tZpooW675Oe",
        "outputId": "07c46b66-33d4-42d1-cd85-e5a7ab2ce165"
      },
      "source": [
        "plt.figure(figsize=(18, 18))\n",
        "sns.heatmap(bank.corr(), annot=True)\n",
        "plt.yticks(rotation=0)\n",
        "plt.show()"
      ],
      "execution_count": null,
      "outputs": []
    },
    {
      "cell_type": "code",
      "metadata": {
        "id": "ZEIDfUZE75Oe"
      },
      "source": [
        "features = ['day_diff', 'withdrawal_amt', 'deposit_amt', 'balance_amt', 'withdrawal_over_balance', 'deposit_over_balance']"
      ],
      "execution_count": null,
      "outputs": []
    },
    {
      "cell_type": "code",
      "metadata": {
        "colab": {
          "base_uri": "https://localhost:8080/",
          "height": 873
        },
        "id": "Eb19bm0T75Oe",
        "outputId": "debd7680-cf41-4a16-93ef-03f17002d901"
      },
      "source": [
        "fig, axes = plt.subplots(2,3, sharex=False, figsize=(18, 12))\n",
        "fig.suptitle('Outliers by Feature', color='r' )\n",
        "\n",
        "for i in range(2):\n",
        "    for j in range(3):\n",
        "        sns.boxplot(ax=axes[i,j], x= features[3*i + j], data = bank)\n",
        "        axes[i,j].set_title(f'{features[3*i + j]}')\n",
        "\n",
        "plt.tight_layout()\n",
        "plt.show()"
      ],
      "execution_count": null,
      "outputs": []
    },
    {
      "cell_type": "code",
      "metadata": {
        "colab": {
          "base_uri": "https://localhost:8080/",
          "height": 1000
        },
        "id": "vNONQIrk75Oe",
        "outputId": "9d7b37d9-93e7-427a-d0de-3b434c27cd69"
      },
      "source": [
        "features = ['day_diff', 'withdrawal_amt', 'deposit_amt', 'balance_amt', 'withdrawal_over_balance', 'deposit_over_balance']\n",
        "fig, axes = plt.subplots(3,2, sharex=False, figsize=(18, 18))\n",
        "fig.suptitle('Lineplots by Account Number', color='r' )\n",
        "\n",
        "for i in range(3):\n",
        "    for j in range(2):\n",
        "        sns.lineplot(ax=axes[i,j], y= features[2*i + j], x = 'date', data = bank, hue = 'account_no')\n",
        "        axes[i,j].set_title(f'{features[2*i + j]}')\n",
        "\n",
        "plt.tight_layout()\n",
        "plt.show()"
      ],
      "execution_count": null,
      "outputs": []
    },
    {
      "cell_type": "markdown",
      "metadata": {
        "id": "lwbhM_9Y75Of"
      },
      "source": [
        "## 3. Anomaly Detection Whole Dataset (Account No. as a Feature)"
      ]
    },
    {
      "cell_type": "markdown",
      "metadata": {
        "id": "T85AM_Nc75Of"
      },
      "source": [
        "Before getting started with the anomaly detection we need to convert categorical variable into dummy/indicator variables. "
      ]
    },
    {
      "cell_type": "code",
      "metadata": {
        "id": "Iq8AAeAR75Of"
      },
      "source": [
        "bank_premodel = bank.copy()"
      ],
      "execution_count": null,
      "outputs": []
    },
    {
      "cell_type": "code",
      "metadata": {
        "id": "jYQ6p_QC75Og"
      },
      "source": [
        "bank = pd.get_dummies(bank, columns = ['account_no'])"
      ],
      "execution_count": null,
      "outputs": []
    },
    {
      "cell_type": "code",
      "metadata": {
        "colab": {
          "base_uri": "https://localhost:8080/"
        },
        "id": "AXhApjuw75Og",
        "outputId": "bee8bd0a-315f-4937-e298-aa1b46d25040"
      },
      "source": [
        "bank.columns"
      ],
      "execution_count": null,
      "outputs": []
    },
    {
      "cell_type": "code",
      "metadata": {
        "colab": {
          "base_uri": "https://localhost:8080/",
          "height": 213
        },
        "id": "P0YTF0kv75Oi",
        "outputId": "d2e72575-dd99-41cf-c1c2-39256476f16c"
      },
      "source": [
        "bank.head(3)"
      ],
      "execution_count": null,
      "outputs": []
    },
    {
      "cell_type": "code",
      "metadata": {
        "colab": {
          "base_uri": "https://localhost:8080/"
        },
        "id": "vZNBw_Yd75Oj",
        "outputId": "5d1ce503-645d-4193-9bbe-1bc31ba88767"
      },
      "source": [
        "(bank.weekend_date + bank.weekend_value_date).value_counts()"
      ],
      "execution_count": null,
      "outputs": []
    },
    {
      "cell_type": "markdown",
      "metadata": {
        "id": "6Okmw9R475Ok"
      },
      "source": [
        "### i. Isolation Forest Anomaly Detection"
      ]
    },
    {
      "cell_type": "markdown",
      "metadata": {
        "id": "NZpaJcAU75Ol"
      },
      "source": [
        "- Isolation Forest returns the anomaly score of each sample using the IsolationForest algorithm. \n",
        "\n",
        "- The IsolationForest ‘isolates’ observations by randomly selecting a feature and then randomly selecting a split value between the maximum and minimum values of the selected feature.\n",
        "\n",
        "- Since recursive partitioning can be represented by a tree structure, the number of splittings required to isolate a sample is equivalent to the path length from the root node to the terminating node.\n",
        "\n",
        "- This path length, averaged over a forest of such random trees, is a measure of normality and our decision function.\n",
        "\n",
        "- Random partitioning produces noticeably shorter paths for anomalies. Hence, when a forest of random trees collectively produce shorter path lengths for particular samples, they are highly likely to be anomalies.\n",
        "\n",
        "link : https://scikit-learn.org/stable/modules/generated/sklearn.ensemble.IsolationForest.html"
      ]
    },
    {
      "cell_type": "code",
      "metadata": {
        "id": "vLNivLvq75Ol"
      },
      "source": [
        "from sklearn.preprocessing import StandardScaler\n",
        "bank_iso = bank.drop(columns=['date', 'value_date'], axis=1) \n",
        "scaler = StandardScaler()\n",
        "bank_iso_scaled = pd.DataFrame(scaler.fit_transform(bank_iso), columns=bank_iso.columns)"
      ],
      "execution_count": null,
      "outputs": []
    },
    {
      "cell_type": "code",
      "metadata": {
        "id": "SzGuKiat75Om"
      },
      "source": [
        "bank_main = bank.copy()\n",
        "outliers_fraction = .007\n",
        "model = IsolationForest(contamination=outliers_fraction)\n",
        "model.fit(bank_iso_scaled)\n",
        "bank_main['anomaly_isolation_forest'] = pd.Series(model.predict(bank_iso_scaled)).apply(lambda x: 0 if x==1 else 1)"
      ],
      "execution_count": null,
      "outputs": []
    },
    {
      "cell_type": "code",
      "metadata": {
        "colab": {
          "base_uri": "https://localhost:8080/"
        },
        "id": "8QVffzBl75Oo",
        "outputId": "95273d4f-c8e2-45c1-9fde-c6627e10783d"
      },
      "source": [
        "bank_main['anomaly_isolation_forest'].value_counts()"
      ],
      "execution_count": null,
      "outputs": []
    },
    {
      "cell_type": "code",
      "metadata": {
        "colab": {
          "base_uri": "https://localhost:8080/",
          "height": 1000
        },
        "id": "e-JjpIni75Oo",
        "outputId": "150289f9-1950-440b-c8a5-6bfaec5bf1bc"
      },
      "source": [
        "features = ['account_no_1196428', 'account_no_1196711', 'account_no_409000362497', 'account_no_409000405747', 'account_no_409000425051', \\\n",
        "            'account_no_409000438611', 'account_no_409000438620', 'account_no_409000493201', 'account_no_409000493210', 'account_no_409000611074']\n",
        "fig, axes = plt.subplots(5,2, sharex=False, figsize=(18, 18))\n",
        "fig.suptitle('Anomalies by Account Number', color='r' )\n",
        "\n",
        "for i in range(5):\n",
        "    for j in range(2):\n",
        "        \n",
        "        df = bank_main[bank_main[features[2*i + j]]==1]\n",
        "        a= df.loc[df['anomaly_isolation_forest']==1, ['date', 'balance_amt']]\n",
        "\n",
        "        axes[i,j].plot(df['date'], df['balance_amt'], color='blue', label='Normal')\n",
        "        axes[i,j].scatter(a['date'], a['balance_amt'], color='red', label='Anomaly')\n",
        "        axes[i,j].set_title(f'Anomaly in Balance {features[2*i + j]}')\n",
        "        axes[i,j].set_xlabel('Date')\n",
        "        axes[i,j].set_ylabel('Balance amount')\n",
        "        axes[i,j].legend()\n",
        "\n",
        "plt.tight_layout()\n",
        "plt.show()"
      ],
      "execution_count": null,
      "outputs": []
    },
    {
      "cell_type": "code",
      "metadata": {
        "colab": {
          "base_uri": "https://localhost:8080/",
          "height": 624
        },
        "id": "t6sc-JSo75Oq",
        "outputId": "96037544-c1dc-41a6-b22e-c9efb09788fb"
      },
      "source": [
        "from mpl_toolkits.mplot3d import Axes3D\n",
        "labels = bank_main.anomaly_isolation_forest\n",
        "colors = {0:'blue', 1:'red'}\n",
        "\n",
        "fig = plt.figure(1, figsize=(8,8))\n",
        "ax = Axes3D(fig, rect=[0, 0, .95, 1], elev=48, azim=134)\n",
        "ax.scatter(bank_iso_scaled.iloc[:,3], bank_iso_scaled.iloc[:,4], bank_iso_scaled.iloc[:,5], c=labels.apply(lambda x:colors[x]))\n",
        "ax.set_title(f'ISOLATION FOREST (outliers_fraction = {100*outliers_fraction}%)', fontsize=14)\n",
        "ax.set_xlabel('withdrawal_amt')\n",
        "ax.set_ylabel('deposit_amt')\n",
        "ax.set_zlabel('balance_amt')"
      ],
      "execution_count": null,
      "outputs": []
    },
    {
      "cell_type": "markdown",
      "metadata": {
        "id": "0lqwBJLi75Or"
      },
      "source": [
        "### ii. OneClassSVM Anomaly Detection"
      ]
    },
    {
      "cell_type": "code",
      "metadata": {
        "id": "EMqAot0175Or"
      },
      "source": [
        "bank_svm = bank.drop(columns=['date', 'value_date'], axis=1) \n",
        "scaler = StandardScaler()\n",
        "bank_svm_scaled = pd.DataFrame(scaler.fit_transform(bank_svm), columns=bank_svm.columns)"
      ],
      "execution_count": null,
      "outputs": []
    },
    {
      "cell_type": "code",
      "metadata": {
        "id": "k52_qyQk75Os"
      },
      "source": [
        "outliers_fraction = .005\n",
        "model = OneClassSVM(nu=outliers_fraction, kernel='rbf', gamma=.01)\n",
        "model.fit(bank_svm_scaled)\n",
        "bank_main['anomaly_one_class_svm'] = pd.Series(model.predict(bank_svm_scaled)).apply(lambda x: 0 if x==1 else 1)"
      ],
      "execution_count": null,
      "outputs": []
    },
    {
      "cell_type": "code",
      "metadata": {
        "colab": {
          "base_uri": "https://localhost:8080/"
        },
        "id": "wXjPxx1475Os",
        "outputId": "5774b1b2-488d-4a5e-a9fe-9f710a49dc86"
      },
      "source": [
        "bank_main['anomaly_one_class_svm'].value_counts()"
      ],
      "execution_count": null,
      "outputs": []
    },
    {
      "cell_type": "code",
      "metadata": {
        "colab": {
          "base_uri": "https://localhost:8080/",
          "height": 1000
        },
        "id": "slA--sZD75Os",
        "outputId": "54af8d85-b9a9-46e2-d701-ecbfec87232b"
      },
      "source": [
        "features = ['account_no_1196428', 'account_no_1196711', 'account_no_409000362497', 'account_no_409000405747', 'account_no_409000425051', \\\n",
        "            'account_no_409000438611', 'account_no_409000438620', 'account_no_409000493201', 'account_no_409000493210', 'account_no_409000611074']\n",
        "fig, axes = plt.subplots(5,2, sharex=False, figsize=(18, 18))\n",
        "fig.suptitle('Anomalies by Account Number', color='r' )\n",
        "\n",
        "for i in range(5):\n",
        "    for j in range(2):\n",
        "        \n",
        "        df = bank_main[bank_main[features[2*i + j]]==1]\n",
        "        a= df.loc[df['anomaly_one_class_svm']==1, ['date', 'balance_amt']]\n",
        "\n",
        "        axes[i,j].plot(df['date'], df['balance_amt'], color='blue', label='Normal')\n",
        "        axes[i,j].scatter(a['date'], a['balance_amt'], color='red', label='Anomaly')\n",
        "        axes[i,j].set_title(f'Anomaly in Balance {features[2*i + j]}')\n",
        "        axes[i,j].set_xlabel('Date')\n",
        "        axes[i,j].set_ylabel('Balance amount')\n",
        "        axes[i,j].legend()\n",
        "\n",
        "plt.tight_layout()\n",
        "plt.show()"
      ],
      "execution_count": null,
      "outputs": []
    },
    {
      "cell_type": "code",
      "metadata": {
        "colab": {
          "base_uri": "https://localhost:8080/",
          "height": 624
        },
        "id": "irJm2olk75Ot",
        "outputId": "8c8cf077-b360-43d7-fe80-58acaa9c7c82"
      },
      "source": [
        "labels = bank_main.anomaly_one_class_svm\n",
        "colors = {0:'blue', 1:'red'}\n",
        "\n",
        "fig = plt.figure(1, figsize=(8,8))\n",
        "ax = Axes3D(fig, rect=[0, 0, .95, 1], elev=48, azim=134)\n",
        "ax.scatter(bank_svm_scaled.iloc[:,3], bank_svm_scaled.iloc[:,4], bank_svm_scaled.iloc[:,5], c=labels.apply(lambda x:colors[x]))\n",
        "ax.set_title(f'ONE CLASS SVM (outliers_fraction = {100*outliers_fraction}%)', fontsize=14)\n",
        "ax.set_xlabel('withdrawal_amt')\n",
        "ax.set_ylabel('deposit_amt')\n",
        "ax.set_zlabel('balance_amt')"
      ],
      "execution_count": null,
      "outputs": []
    },
    {
      "cell_type": "markdown",
      "metadata": {
        "id": "vXgDfMIn75Ot"
      },
      "source": [
        "### iii. Gaussian Distribution Anomaly Detection (Elliptic Envelope)"
      ]
    },
    {
      "cell_type": "code",
      "metadata": {
        "id": "Zng8ZPkM75Ou"
      },
      "source": [
        "bank_gauss = bank.drop(columns=['date', 'value_date'], axis=1) \n",
        "scaler = StandardScaler()\n",
        "bank_gauss_scaled = pd.DataFrame(scaler.fit_transform(bank_gauss), columns=bank_gauss.columns)"
      ],
      "execution_count": null,
      "outputs": []
    },
    {
      "cell_type": "code",
      "metadata": {
        "colab": {
          "base_uri": "https://localhost:8080/"
        },
        "id": "-eIjA-ph75Ou",
        "outputId": "71719d09-8eee-4d24-ce11-199095b5d295"
      },
      "source": [
        "outliers_fraction = .005\n",
        "envelope =  EllipticEnvelope(contamination = outliers_fraction) \n",
        "X_train = bank_gauss_scaled.values\n",
        "envelope.fit(X_train)\n",
        "bank_gauss_scaled['deviation'] = envelope.decision_function(X_train)\n",
        "bank_gauss_scaled['anomaly_gaussian'] = pd.Series(envelope.predict(X_train)).apply(lambda x: 0 if x==1 else 1)\n",
        "bank_gauss_scaled = bank_gauss_scaled.fillna(0)\n",
        "bank_main['anomaly_gaussian_elliptic_envelope'] = bank_gauss_scaled.anomaly_gaussian\n",
        "bank_main['anomaly_gaussian_elliptic_envelope'].value_counts(dropna=False)"
      ],
      "execution_count": null,
      "outputs": []
    },
    {
      "cell_type": "code",
      "metadata": {
        "colab": {
          "base_uri": "https://localhost:8080/",
          "height": 624
        },
        "id": "4CuoNaWy75Ou",
        "outputId": "93e5916e-fbf7-4739-8e9b-6f196cf48e75"
      },
      "source": [
        "labels = bank_main.anomaly_gaussian_elliptic_envelope\n",
        "colors = {0.0:'blue', 1.0:'red'}\n",
        "\n",
        "fig = plt.figure(1, figsize=(8,8))\n",
        "ax = Axes3D(fig, rect=[0, 0, .95, 1], elev=48, azim=134)\n",
        "ax.scatter(bank_gauss_scaled.iloc[:,3], bank_gauss_scaled.iloc[:,4], bank_gauss_scaled.iloc[:,5], c=labels.apply(lambda x:colors[x]))\n",
        "ax.set_title(f'GAUSSIAN DISTRIBUTION (outliers_fraction = {100*outliers_fraction}%)', fontsize=14)\n",
        "ax.set_xlabel('withdrawal_amt')\n",
        "ax.set_ylabel('deposit_amt')\n",
        "ax.set_zlabel('balance_amt')"
      ],
      "execution_count": null,
      "outputs": []
    },
    {
      "cell_type": "code",
      "metadata": {
        "colab": {
          "base_uri": "https://localhost:8080/",
          "height": 1000
        },
        "id": "6w_xQV_r75Ov",
        "outputId": "7eab9e1a-90b8-4d41-f7f6-e82f2187e36a"
      },
      "source": [
        "features = ['account_no_1196428', 'account_no_1196711', 'account_no_409000362497', 'account_no_409000405747', 'account_no_409000425051', \\\n",
        "            'account_no_409000438611', 'account_no_409000438620', 'account_no_409000493201', 'account_no_409000493210', 'account_no_409000611074']\n",
        "fig, axes = plt.subplots(5,2, sharex=False, figsize=(18, 18))\n",
        "fig.suptitle('Anomalies by Account Number', color='r' )\n",
        "\n",
        "for i in range(5):\n",
        "    for j in range(2):\n",
        "        \n",
        "        df = bank_main[bank_main[features[2*i + j]]==1]\n",
        "        a= df.loc[df['anomaly_gaussian_elliptic_envelope']==1, ['date', 'balance_amt']]\n",
        "\n",
        "        axes[i,j].plot(df['date'], df['balance_amt'], color='blue', label='Normal')\n",
        "        axes[i,j].scatter(a['date'], a['balance_amt'], color='red', label='Anomaly')\n",
        "        axes[i,j].set_title(f'Anomaly in Balance {features[2*i + j]}')\n",
        "        axes[i,j].set_xlabel('Date')\n",
        "        axes[i,j].set_ylabel('Balance amount')\n",
        "        axes[i,j].legend()\n",
        "\n",
        "plt.tight_layout()\n",
        "plt.show()"
      ],
      "execution_count": null,
      "outputs": []
    },
    {
      "cell_type": "markdown",
      "metadata": {
        "id": "Afz3oU3x75Ov"
      },
      "source": [
        "### v. Clustering-Based Anomaly Detection"
      ]
    },
    {
      "cell_type": "code",
      "metadata": {
        "id": "uFKXSxVi75Ox"
      },
      "source": [
        "from sklearn.cluster import KMeans\n",
        "from sklearn.preprocessing import StandardScaler\n",
        "from yellowbrick.cluster import KElbowVisualizer"
      ],
      "execution_count": null,
      "outputs": []
    },
    {
      "cell_type": "code",
      "metadata": {
        "id": "GNcm2Dfj75Ox"
      },
      "source": [
        "bank_clstr = bank.drop(columns=['date', 'value_date'], axis=1) \n",
        "scaler = StandardScaler()\n",
        "bank_scaled = scaler.fit_transform(bank_clstr)"
      ],
      "execution_count": null,
      "outputs": []
    },
    {
      "cell_type": "code",
      "metadata": {
        "colab": {
          "base_uri": "https://localhost:8080/",
          "height": 310
        },
        "id": "ss_dyuxU75Ox",
        "outputId": "f6fac6c1-c8f0-4893-a9f9-711986a7f85f"
      },
      "source": [
        "# Instantiate the clustering model and visualizer\n",
        "visualizer = KElbowVisualizer(KMeans(), k=(2,15))\n",
        "plt.figure(figsize=(8,4)).patch.set_facecolor('xkcd:white')\n",
        "visualizer.fit(bank_clstr)       # Fit the data to the visualizer\n",
        "# visualizer.show()       # Finalize and render the figure"
      ],
      "execution_count": null,
      "outputs": []
    },
    {
      "cell_type": "code",
      "metadata": {
        "colab": {
          "base_uri": "https://localhost:8080/"
        },
        "id": "4oweDnUU75Oy",
        "outputId": "0b52f191-5e34-4cb9-8f3e-da5890b8f47a"
      },
      "source": [
        "kmeans = KMeans(n_clusters=5)\n",
        "kmeans.fit(bank_clstr)"
      ],
      "execution_count": null,
      "outputs": []
    },
    {
      "cell_type": "markdown",
      "metadata": {
        "id": "YK27aELf75Oy"
      },
      "source": [
        "Let's visualise labeled clusters."
      ]
    },
    {
      "cell_type": "code",
      "metadata": {
        "colab": {
          "base_uri": "https://localhost:8080/",
          "height": 624
        },
        "id": "JsJHkk0L75Oy",
        "outputId": "8255ca73-424e-42bf-f352-31f2c2cbe6b1"
      },
      "source": [
        "labels = kmeans.labels_\n",
        "\n",
        "fig = plt.figure(1, figsize=(8,8))\n",
        "ax = Axes3D(fig, rect=[0, 0, .95, 1], elev=48, azim=134)\n",
        "ax.scatter(bank_clstr.iloc[:,3], bank_clstr.iloc[:,4], bank_clstr.iloc[:,5], c=labels.astype(np.float), cmap='rainbow')\n",
        "ax.set_title('K MEANS', fontsize=14)\n",
        "ax.set_xlabel('withdrawal_amt')\n",
        "ax.set_ylabel('deposit_amt')\n",
        "ax.set_zlabel('balance_amt')"
      ],
      "execution_count": null,
      "outputs": []
    },
    {
      "cell_type": "markdown",
      "metadata": {
        "id": "UsyRclVx75Oz"
      },
      "source": [
        "To overcome the curse of dimensionality, we need to figure out which components we want to keep."
      ]
    },
    {
      "cell_type": "code",
      "metadata": {
        "colab": {
          "base_uri": "https://localhost:8080/",
          "height": 349
        },
        "id": "JMOKQiZa75Oz",
        "outputId": "1b7242fd-79a1-41bd-b338-84b23f82f08a"
      },
      "source": [
        "# Standardize/scale the dataset and apply PCA\n",
        "from sklearn.decomposition import PCA\n",
        "from sklearn.pipeline import make_pipeline\n",
        "# Extract the names of the numerical columns\n",
        "x = bank_clstr\n",
        "scaler = StandardScaler()\n",
        "pca = PCA()\n",
        "pipeline = make_pipeline(scaler, pca)\n",
        "pipeline.fit(x)\n",
        "# Plot the principal components against their inertia\n",
        "features = range(pca.n_components_)\n",
        "_ = plt.figure(figsize=(15, 5))\n",
        "_ = plt.bar(features, pca.explained_variance_)\n",
        "_ = plt.xlabel('PCA feature')\n",
        "_ = plt.ylabel('Variance')\n",
        "_ = plt.xticks(features)\n",
        "_ = plt.title(\"Importance of the Principal Components based on inertia\")\n",
        "plt.show()\n"
      ],
      "execution_count": null,
      "outputs": []
    },
    {
      "cell_type": "code",
      "metadata": {
        "colab": {
          "base_uri": "https://localhost:8080/",
          "height": 349
        },
        "id": "ER9McrYH75O0",
        "outputId": "a7c07cdc-e07f-4193-98df-d8991d8374f6"
      },
      "source": [
        "bank_gen = bank_clstr[bank_clstr.columns[:11]]\n",
        "\n",
        "# Extract the names of the numerical columns\n",
        "x = bank_gen\n",
        "scaler = StandardScaler()\n",
        "pca = PCA()\n",
        "pipeline = make_pipeline(scaler, pca)\n",
        "pipeline.fit(x)\n",
        "# Plot the principal components against their inertia\n",
        "features = range(pca.n_components_)\n",
        "_ = plt.figure(figsize=(15, 5))\n",
        "_ = plt.bar(features, pca.explained_variance_)\n",
        "_ = plt.xlabel('PCA feature')\n",
        "_ = plt.ylabel('Variance')\n",
        "_ = plt.xticks(features)\n",
        "_ = plt.title(\"Importance of the Principal Components based on inertia\")\n",
        "plt.show()"
      ],
      "execution_count": null,
      "outputs": []
    },
    {
      "cell_type": "markdown",
      "metadata": {
        "id": "-Rb7SUA775O0"
      },
      "source": [
        "It turns out that even a data frame without customer columns PCA does not help too much in our case.\n",
        "\n",
        "In K-Means Clustering approach to anomaly detection we calculate the distance between each point and its nearest centroid and the biggest distances are considered as anomaly. We are going to take following steps:\n",
        "\n",
        "- We assume a proportion of data as outliers (outliers_fraction: proportion of the outliers present in our data set) and calculate number_of_outliers using outliers_fraction.\n",
        "- We set a threshold as the minimum distance of these outliers.\n",
        "- After labeling (0:normal, 1:anomaly) anomalies we will visualize them."
      ]
    },
    {
      "cell_type": "code",
      "metadata": {
        "id": "YYxRF8FM75O1"
      },
      "source": [
        "def getDistanceByPoint(data, model):\n",
        "    \"\"\" \n",
        "    Function that calculates the distance between a point and centroid of a cluster, \n",
        "    returns the distances in pandas series\n",
        "    \"\"\"\n",
        "    distance = []\n",
        "    for i in range(0,len(data)):\n",
        "        Xa = np.array(data.loc[i])\n",
        "        Xb = model.cluster_centers_[model.labels_[i]-1]\n",
        "        distance.append(np.linalg.norm(Xa-Xb))\n",
        "    return pd.Series(distance, index=data.index)\n",
        "\n",
        "bank_scaled = pd.DataFrame(bank_scaled, columns=bank_clstr.columns)\n",
        "kmeans = KMeans(n_clusters=5)\n",
        "kmeans.fit(bank_scaled)\n",
        "labels = kmeans.predict(bank_scaled)\n",
        "unique_elements, counts_elements = np.unique(labels, return_counts=True)\n",
        "clusters = np.asarray((unique_elements, counts_elements))\n",
        "\n",
        "# Assume that 0.5% of the entire data set are anomalies \n",
        "outliers_fraction = 0.005\n",
        "# get the distance between each point and its nearest centroid. The biggest distances are considered as anomaly\n",
        "distance = getDistanceByPoint(bank_scaled, kmeans)\n",
        "# number of observations that equate to the 0.5% of the entire data set\n",
        "number_of_outliers = int(outliers_fraction*len(distance))\n",
        "# Take the minimum of the largest 0.5% of the distances as the threshold\n",
        "threshold = distance.nlargest(number_of_outliers).min()\n",
        "# anomaly1 contain the anomaly result of the above method Cluster (0:normal, 1:anomaly) \n",
        "bank_scaled['anomaly_kmeans'] = (distance >= threshold).astype(int)"
      ],
      "execution_count": null,
      "outputs": []
    },
    {
      "cell_type": "code",
      "metadata": {
        "colab": {
          "base_uri": "https://localhost:8080/"
        },
        "id": "7J5nrBgL75O1",
        "outputId": "daf8e536-6d72-474c-d283-1848acf3d4aa"
      },
      "source": [
        "bank_scaled.anomaly_kmeans.value_counts()"
      ],
      "execution_count": null,
      "outputs": []
    },
    {
      "cell_type": "code",
      "metadata": {
        "colab": {
          "base_uri": "https://localhost:8080/",
          "height": 624
        },
        "id": "oyUrCuWx75O2",
        "outputId": "846f59a8-e24b-4ab8-ea0f-5d6ef38d5035"
      },
      "source": [
        "labels = bank_scaled.anomaly_kmeans\n",
        "colors = {0:'blue', 1:'red'}\n",
        "\n",
        "fig = plt.figure(1, figsize=(8,8))\n",
        "ax = Axes3D(fig, rect=[0, 0, .95, 1], elev=48, azim=134)\n",
        "ax.scatter(bank_scaled.iloc[:,3], bank_scaled.iloc[:,4], bank_scaled.iloc[:,5], c=labels.apply(lambda x:colors[x]))\n",
        "ax.set_title(f'K MEANS ANOMOLIES (outliers_fraction = {100*outliers_fraction})%', fontsize=14)\n",
        "ax.set_xlabel('withdrawal_amt')\n",
        "ax.set_ylabel('deposit_amt')\n",
        "ax.set_zlabel('balance_amt')"
      ],
      "execution_count": null,
      "outputs": []
    },
    {
      "cell_type": "code",
      "metadata": {
        "id": "B956LH7375O3"
      },
      "source": [
        "bank_main['anomaly_kmeans'] = bank_scaled.anomaly_kmeans"
      ],
      "execution_count": null,
      "outputs": []
    },
    {
      "cell_type": "code",
      "metadata": {
        "id": "RD5ZNmNr75O3"
      },
      "source": [
        "# bank_main = bank_clstr.copy()\n",
        "# bank_main['date'], bank_main['value_date'], bank_main['anomaly_kmeans'] = bank_premodel.date, bank_premodel.value_date, bank_scaled.anomaly_kmeans"
      ],
      "execution_count": null,
      "outputs": []
    },
    {
      "cell_type": "code",
      "metadata": {
        "colab": {
          "base_uri": "https://localhost:8080/",
          "height": 1000
        },
        "id": "ASt4vkEi75O4",
        "outputId": "56b72d14-a4e3-40cc-c79d-23ac6d8c0790"
      },
      "source": [
        "features = ['account_no_1196428', 'account_no_1196711', 'account_no_409000362497', 'account_no_409000405747', 'account_no_409000425051', \\\n",
        "            'account_no_409000438611', 'account_no_409000438620', 'account_no_409000493201', 'account_no_409000493210', 'account_no_409000611074']\n",
        "fig, axes = plt.subplots(5,2, sharex=False, figsize=(18, 18))\n",
        "fig.suptitle('Anomalies by Account Number', color='r' )\n",
        "\n",
        "for i in range(5):\n",
        "    for j in range(2):\n",
        "        \n",
        "        df = bank_main[bank_main[features[2*i + j]]==1]\n",
        "        a= df.loc[df['anomaly_kmeans']==1, ['date', 'balance_amt']]\n",
        "\n",
        "        axes[i,j].plot(df['date'], df['balance_amt'], color='blue', label='Normal')\n",
        "        axes[i,j].scatter(a['date'], a['balance_amt'], color='red', label='Anomaly')\n",
        "        axes[i,j].set_title(f'Anomaly in Balance {features[2*i + j]}')\n",
        "        axes[i,j].set_xlabel('Date')\n",
        "        axes[i,j].set_ylabel('Balance amount')\n",
        "        axes[i,j].legend()\n",
        "\n",
        "plt.tight_layout()\n",
        "plt.show()\n"
      ],
      "execution_count": null,
      "outputs": []
    },
    {
      "cell_type": "markdown",
      "metadata": {
        "id": "Fjyux9pE75O4"
      },
      "source": [
        "Let's follow the same process, **but this time customer by customer**. To do this, we will split the bank data frame and run the clustering approach for each individual data frame."
      ]
    },
    {
      "cell_type": "code",
      "metadata": {
        "colab": {
          "base_uri": "https://localhost:8080/"
        },
        "id": "mEPxO9nS75O4",
        "outputId": "0a887575-2b5b-4eb8-ebd6-43f24043826b"
      },
      "source": [
        "bank_main.columns"
      ],
      "execution_count": null,
      "outputs": []
    },
    {
      "cell_type": "code",
      "metadata": {
        "colab": {
          "base_uri": "https://localhost:8080/"
        },
        "id": "dHJ34kD175O5",
        "outputId": "42d17689-ab07-4ed1-a744-94fc9e9de90d"
      },
      "source": [
        "bank_main['anomaly_sum_1'] = bank_main.anomaly_kmeans + bank_main.anomaly_isolation_forest + bank_main.anomaly_one_class_svm + bank_main.anomaly_gaussian_elliptic_envelope\n",
        "bank_main.anomaly_sum_1.value_counts()"
      ],
      "execution_count": null,
      "outputs": []
    },
    {
      "cell_type": "markdown",
      "metadata": {
        "id": "Tc8jh6tg75O7"
      },
      "source": [
        "## 4. Anomaly Detection by Account Number"
      ]
    },
    {
      "cell_type": "markdown",
      "metadata": {
        "id": "DEBsCjjb75O8"
      },
      "source": [
        "In this section, we will analyze each account number independently."
      ]
    },
    {
      "cell_type": "code",
      "metadata": {
        "id": "FF5DNdHR75O8"
      },
      "source": [
        "accounts = ['1196428', '409000362497', '409000438620', '1196711', '409000493210', '409000438611', '409000611074', '409000493201', '409000425051', '409000405747']\n",
        "\n",
        "acc1, acc2, acc3, acc4, acc5, acc6, acc7, acc8, acc9, acc10  = bank_premodel[bank_premodel.account_no== accounts[0]].drop('account_no', axis=1),\\\n",
        "    bank_premodel[bank_premodel.account_no == accounts[1]].drop('account_no', axis=1), bank_premodel[bank_premodel.account_no == accounts[2]].drop('account_no', axis=1),\\\n",
        "    bank_premodel[bank_premodel.account_no == accounts[3]].drop('account_no', axis=1), bank_premodel[bank_premodel.account_no == accounts[4]].drop('account_no', axis=1),\\\n",
        "    bank_premodel[bank_premodel.account_no == accounts[5]].drop('account_no', axis=1), bank_premodel[bank_premodel.account_no == accounts[6]].drop('account_no', axis=1),\\\n",
        "    bank_premodel[bank_premodel.account_no == accounts[7]].drop('account_no', axis=1), bank_premodel[bank_premodel.account_no == accounts[8]].drop('account_no', axis=1),\\\n",
        "    bank_premodel[bank_premodel.account_no == accounts[9]].drop('account_no', axis=1)\n",
        "df_list = [acc1, acc2, acc3, acc4, acc5, acc6, acc7, acc8, acc9, acc10]"
      ],
      "execution_count": null,
      "outputs": []
    },
    {
      "cell_type": "markdown",
      "metadata": {
        "id": "z_JpCd5P75O-"
      },
      "source": [
        "### i. Isolation Forest Anomaly Detection"
      ]
    },
    {
      "cell_type": "markdown",
      "metadata": {
        "id": "4jyoP65m75O-"
      },
      "source": [
        "#### &emsp;(I)  Isolation Forest account_no: 1196428"
      ]
    },
    {
      "cell_type": "code",
      "metadata": {
        "colab": {
          "base_uri": "https://localhost:8080/",
          "height": 162
        },
        "id": "jA4I9A-g75O-",
        "outputId": "9f690e04-caf5-470f-8d2e-5f5cfbc3add4"
      },
      "source": [
        "acc1_iso = acc1.copy() \n",
        "scaler = StandardScaler()\n",
        "acc1_iso_scaled = pd.DataFrame(scaler.fit_transform(acc1_iso[acc1.columns[2:]]), columns=acc1.columns[2:])\n",
        "acc1_iso_scaled.set_index(acc1_iso.index, drop=True, inplace=True)\n",
        "acc1_iso_scaled.head(3)"
      ],
      "execution_count": null,
      "outputs": []
    },
    {
      "cell_type": "code",
      "metadata": {
        "colab": {
          "base_uri": "https://localhost:8080/"
        },
        "id": "iq5Q4G0R75PA",
        "outputId": "d89f50fa-3690-4b3f-c992-dc209ac4c13b"
      },
      "source": [
        "outliers_fraction = .005\n",
        "model = IsolationForest(contamination=outliers_fraction)\n",
        "model.fit(acc1_iso_scaled)"
      ],
      "execution_count": null,
      "outputs": []
    },
    {
      "cell_type": "code",
      "metadata": {
        "colab": {
          "base_uri": "https://localhost:8080/"
        },
        "id": "admt7MVV75PB",
        "outputId": "07e8f7fd-016c-454b-90e2-6168079c0e37"
      },
      "source": [
        "acc1_iso_scaled['anomaly_iso'] = pd.Series(model.predict(acc1_iso_scaled)).apply(lambda x: 0 if x==1 else 1).values\n",
        "acc1_iso['anomaly_iso'] = acc1_iso_scaled['anomaly_iso']\n",
        "acc1_iso_scaled['anomaly_iso'].value_counts()"
      ],
      "execution_count": null,
      "outputs": []
    },
    {
      "cell_type": "code",
      "metadata": {
        "colab": {
          "base_uri": "https://localhost:8080/"
        },
        "id": "4-QXl6Qh75PC",
        "outputId": "0c69d7bc-15d2-4447-b3b3-079e468215d1"
      },
      "source": [
        "bank_main['iso_1'] = 0\n",
        "bank_main.loc[acc1_iso_scaled.index,'iso_1'] = acc1_iso_scaled['anomaly_iso']\n",
        "bank_main['iso_1'].value_counts()"
      ],
      "execution_count": null,
      "outputs": []
    },
    {
      "cell_type": "code",
      "metadata": {
        "colab": {
          "base_uri": "https://localhost:8080/",
          "height": 624
        },
        "id": "3Oe8mBB475PC",
        "outputId": "23569818-1b1f-4e71-ba0a-76f4bc5932d3"
      },
      "source": [
        "labels = acc1_iso_scaled.anomaly_iso\n",
        "colors = {0:'blue', 1:'red'}\n",
        "\n",
        "fig = plt.figure(1, figsize=(8,8))\n",
        "ax = Axes3D(fig, rect=[0, 0, .95, 1], elev=48, azim=134)\n",
        "ax.scatter(acc1_iso_scaled.iloc[:,3], acc1_iso_scaled.iloc[:,4], acc1_iso_scaled.iloc[:,5], c=labels.apply(lambda x:colors[x]))\n",
        "ax.set_title(f'ISOLATION FOREST (account_no = {accounts[0]}, outliers_fraction = {100*outliers_fraction}%)', fontsize=14)\n",
        "ax.set_xlabel('withdrawal_amt')\n",
        "ax.set_ylabel('deposit_amt')\n",
        "ax.set_zlabel('balance_amt')"
      ],
      "execution_count": null,
      "outputs": []
    },
    {
      "cell_type": "code",
      "metadata": {
        "colab": {
          "base_uri": "https://localhost:8080/",
          "height": 512
        },
        "id": "4X1JdwTG75PD",
        "outputId": "91be4170-e2d7-4acd-acab-904cb10e4551"
      },
      "source": [
        "df = acc1_iso.copy()\n",
        "a= df.loc[df['anomaly_iso']==1, ['date', 'balance_amt']]\n",
        "plt.figure(figsize=(20,8))\n",
        "plt.plot(df['date'], df['balance_amt'], color='blue', label='Normal')\n",
        "plt.scatter(a['date'], a['balance_amt'], color='red', label='Anomaly')\n",
        "plt.title(f'{accounts[0]} Isolation Forest Anomalies')\n",
        "plt.xlabel('Date')\n",
        "plt.ylabel('balance_amt')\n",
        "plt.legend()\n",
        "plt.show()"
      ],
      "execution_count": null,
      "outputs": []
    },
    {
      "cell_type": "markdown",
      "metadata": {
        "id": "fstx_yZT75PD"
      },
      "source": [
        "#### &emsp;(II)  Isolation Forest account_no: 409000362497"
      ]
    },
    {
      "cell_type": "code",
      "metadata": {
        "colab": {
          "base_uri": "https://localhost:8080/",
          "height": 162
        },
        "id": "1Uhodjg575PD",
        "outputId": "8af085c7-135b-462d-82d3-5dd3eae8b913"
      },
      "source": [
        "acc2_iso = acc2.copy() \n",
        "scaler = StandardScaler()\n",
        "acc2_iso_scaled = pd.DataFrame(scaler.fit_transform(acc2_iso[acc2.columns[2:]]), columns=acc2.columns[2:])\n",
        "acc2_iso_scaled.set_index(acc2_iso.index, drop=True, inplace=True)\n",
        "acc2_iso_scaled.head(3)"
      ],
      "execution_count": null,
      "outputs": []
    },
    {
      "cell_type": "code",
      "metadata": {
        "colab": {
          "base_uri": "https://localhost:8080/"
        },
        "id": "qqwVg0kq75PE",
        "outputId": "de1e70ca-bda3-46db-e39a-8a345879b90c"
      },
      "source": [
        "outliers_fraction = .005\n",
        "model = IsolationForest(contamination=outliers_fraction)\n",
        "model.fit(acc2_iso_scaled)"
      ],
      "execution_count": null,
      "outputs": []
    },
    {
      "cell_type": "code",
      "metadata": {
        "colab": {
          "base_uri": "https://localhost:8080/"
        },
        "id": "oYKMsWMN75PE",
        "outputId": "d01a95e7-52bc-4543-d1f3-d5842fca7c47"
      },
      "source": [
        "acc2_iso_scaled['anomaly_iso'] = pd.Series(model.predict(acc2_iso_scaled)).apply(lambda x: 0 if x==1 else 1).values\n",
        "acc2_iso['anomaly_iso'] = acc2_iso_scaled['anomaly_iso']\n",
        "acc2_iso_scaled['anomaly_iso'].value_counts()"
      ],
      "execution_count": null,
      "outputs": []
    },
    {
      "cell_type": "code",
      "metadata": {
        "colab": {
          "base_uri": "https://localhost:8080/"
        },
        "id": "0euIJFcz75PF",
        "outputId": "aea0ca96-a263-48d0-b4b2-61f243c0d1b9"
      },
      "source": [
        "bank_main['iso_2'] = 0\n",
        "bank_main.loc[acc2_iso_scaled.index,'iso_2'] = acc2_iso_scaled['anomaly_iso']\n",
        "bank_main['iso_2'].value_counts()"
      ],
      "execution_count": null,
      "outputs": []
    },
    {
      "cell_type": "code",
      "metadata": {
        "colab": {
          "base_uri": "https://localhost:8080/",
          "height": 624
        },
        "id": "q0mUhisM75PF",
        "outputId": "564bb815-5a99-4fd2-b6c3-f01457ba5c4a"
      },
      "source": [
        "labels = acc2_iso_scaled.anomaly_iso\n",
        "colors = {0:'blue', 1:'red'}\n",
        "\n",
        "fig = plt.figure(1, figsize=(8,8))\n",
        "ax = Axes3D(fig, rect=[0, 0, .95, 1], elev=48, azim=134)\n",
        "ax.scatter(acc2_iso_scaled.iloc[:,3], acc2_iso_scaled.iloc[:,4], acc2_iso_scaled.iloc[:,5], c=labels.apply(lambda x:colors[x]))\n",
        "ax.set_title(f'ISOLATION FOREST (account_no = {accounts[1]}, outliers_fraction = {100*outliers_fraction}%)', fontsize=14)\n",
        "ax.set_xlabel('withdrawal_amt')\n",
        "ax.set_ylabel('deposit_amt')\n",
        "ax.set_zlabel('balance_amt')"
      ],
      "execution_count": null,
      "outputs": []
    },
    {
      "cell_type": "code",
      "metadata": {
        "colab": {
          "base_uri": "https://localhost:8080/",
          "height": 512
        },
        "id": "ymfOfDBp75PF",
        "outputId": "fbed294c-2d8a-426c-cf05-9a52215fdf5a"
      },
      "source": [
        "\n",
        "df = acc2_iso.copy()\n",
        "a= df.loc[df['anomaly_iso']==1, ['date', 'balance_amt']]\n",
        "plt.figure(figsize=(20,8))\n",
        "plt.plot(df['date'], df['balance_amt'], color='blue', label='Normal')\n",
        "plt.scatter(a['date'], a['balance_amt'], color='red', label='Anomaly')\n",
        "plt.title(f'{accounts[1]} Isolation Forest Anomalies')\n",
        "plt.xlabel('Date')\n",
        "plt.ylabel('balance_amt')\n",
        "plt.legend()\n",
        "plt.show()"
      ],
      "execution_count": null,
      "outputs": []
    },
    {
      "cell_type": "markdown",
      "metadata": {
        "id": "rAO-6qMj75PF"
      },
      "source": [
        "#### &emsp;(III)  Isolation Forest account_no: 409000438620"
      ]
    },
    {
      "cell_type": "code",
      "metadata": {
        "colab": {
          "base_uri": "https://localhost:8080/",
          "height": 162
        },
        "id": "bg7vb-Ct75PG",
        "outputId": "dfdd38bf-d94d-416c-b229-05c1fcdaaf35"
      },
      "source": [
        "acc3_iso = acc3.copy() \n",
        "scaler = StandardScaler()\n",
        "acc3_iso_scaled = pd.DataFrame(scaler.fit_transform(acc3_iso[acc3.columns[2:]]), columns=acc3.columns[2:])\n",
        "acc3_iso_scaled.set_index(acc3_iso.index, drop=True, inplace=True)\n",
        "acc3_iso_scaled.head(3)"
      ],
      "execution_count": null,
      "outputs": []
    },
    {
      "cell_type": "code",
      "metadata": {
        "colab": {
          "base_uri": "https://localhost:8080/"
        },
        "id": "m8fbBzwM75PG",
        "outputId": "8aa1e1e1-0c99-4694-d9d8-e3f4763ca432"
      },
      "source": [
        "outliers_fraction = .01\n",
        "model = IsolationForest(contamination=outliers_fraction)\n",
        "model.fit(acc3_iso_scaled)"
      ],
      "execution_count": null,
      "outputs": []
    },
    {
      "cell_type": "code",
      "metadata": {
        "colab": {
          "base_uri": "https://localhost:8080/"
        },
        "id": "I6Sibdu_75PG",
        "outputId": "e7413d66-4a75-47cd-cf14-a2d6d148e95b"
      },
      "source": [
        "acc3_iso_scaled['anomaly_iso'] = pd.Series(model.predict(acc3_iso_scaled)).apply(lambda x: 0 if x==1 else 1).values\n",
        "acc3_iso['anomaly_iso'] = acc3_iso_scaled['anomaly_iso']\n",
        "acc3_iso_scaled['anomaly_iso'].value_counts()"
      ],
      "execution_count": null,
      "outputs": []
    },
    {
      "cell_type": "code",
      "metadata": {
        "colab": {
          "base_uri": "https://localhost:8080/"
        },
        "id": "jkpzvUh375PG",
        "outputId": "f0c0dd85-18a7-4c2d-edb1-c768dd1aecdc"
      },
      "source": [
        "bank_main['iso_3'] = 0\n",
        "bank_main.loc[acc3_iso_scaled.index,'iso_3'] = acc3_iso_scaled['anomaly_iso']\n",
        "bank_main['iso_3'].value_counts()"
      ],
      "execution_count": null,
      "outputs": []
    },
    {
      "cell_type": "code",
      "metadata": {
        "colab": {
          "base_uri": "https://localhost:8080/",
          "height": 624
        },
        "id": "0UGq3Edq75PH",
        "outputId": "3145dc3c-2295-4f5a-b1d6-fb59e54cef88"
      },
      "source": [
        "labels = acc3_iso_scaled.anomaly_iso\n",
        "colors = {0:'blue', 1:'red'}\n",
        "\n",
        "fig = plt.figure(1, figsize=(8,8))\n",
        "ax = Axes3D(fig, rect=[0, 0, .95, 1], elev=48, azim=134)\n",
        "ax.scatter(acc3_iso_scaled.iloc[:,3], acc3_iso_scaled.iloc[:,4], acc3_iso_scaled.iloc[:,5], c=labels.apply(lambda x:colors[x]))\n",
        "ax.set_title(f'ISOLATION FOREST (account_no = {accounts[2]}, outliers_fraction = {100*outliers_fraction}%)', fontsize=14)\n",
        "ax.set_xlabel('withdrawal_amt')\n",
        "ax.set_ylabel('deposit_amt')\n",
        "ax.set_zlabel('balance_amt')"
      ],
      "execution_count": null,
      "outputs": []
    },
    {
      "cell_type": "code",
      "metadata": {
        "colab": {
          "base_uri": "https://localhost:8080/",
          "height": 512
        },
        "id": "8Bk2S20-75PI",
        "outputId": "efde3863-4c18-4b05-a0cc-52b90958095e"
      },
      "source": [
        "df = acc3_iso.copy()\n",
        "a= df.loc[df['anomaly_iso']==1, ['date', 'balance_amt']]\n",
        "plt.figure(figsize=(20,8))\n",
        "plt.plot(df['date'], df['balance_amt'], color='blue', label='Normal')\n",
        "plt.scatter(a['date'], a['balance_amt'], color='red', label='Anomaly')\n",
        "plt.title(f'{accounts[2]} Isolation Forest Anomalies')\n",
        "plt.xlabel('Date')\n",
        "plt.ylabel('balance_amt')\n",
        "plt.legend()\n",
        "plt.show()"
      ],
      "execution_count": null,
      "outputs": []
    },
    {
      "cell_type": "markdown",
      "metadata": {
        "id": "0vTjY7nR75PJ"
      },
      "source": [
        "#### &emsp;(IV)  Isolation Forest account_no: 1196711"
      ]
    },
    {
      "cell_type": "code",
      "metadata": {
        "colab": {
          "base_uri": "https://localhost:8080/",
          "height": 162
        },
        "id": "FCAWKz2Z75PJ",
        "outputId": "10f01795-3aad-46ed-810b-0481b72c7690"
      },
      "source": [
        "acc4_iso = acc4.copy() \n",
        "scaler = StandardScaler()\n",
        "acc4_iso_scaled = pd.DataFrame(scaler.fit_transform(acc4_iso[acc4.columns[2:]]), columns=acc4.columns[2:])\n",
        "acc4_iso_scaled.set_index(acc4_iso.index, drop=True, inplace=True)\n",
        "acc4_iso_scaled.head(3)"
      ],
      "execution_count": null,
      "outputs": []
    },
    {
      "cell_type": "code",
      "metadata": {
        "colab": {
          "base_uri": "https://localhost:8080/"
        },
        "id": "SO1KtdRB75PJ",
        "outputId": "cf939f39-f359-4bdb-f483-e87859e6cc9c"
      },
      "source": [
        "outliers_fraction = .01\n",
        "model = IsolationForest(contamination=outliers_fraction)\n",
        "model.fit(acc4_iso_scaled)"
      ],
      "execution_count": null,
      "outputs": []
    },
    {
      "cell_type": "code",
      "metadata": {
        "colab": {
          "base_uri": "https://localhost:8080/"
        },
        "id": "dP5Ilrky75PJ",
        "outputId": "4490cc37-ccf2-4bcb-9917-b74b7575e4fc"
      },
      "source": [
        "acc4_iso_scaled['anomaly_iso'] = pd.Series(model.predict(acc4_iso_scaled)).apply(lambda x: 0 if x==1 else 1).values\n",
        "acc4_iso['anomaly_iso'] = acc4_iso_scaled['anomaly_iso']\n",
        "acc4_iso_scaled['anomaly_iso'].value_counts()"
      ],
      "execution_count": null,
      "outputs": []
    },
    {
      "cell_type": "code",
      "metadata": {
        "colab": {
          "base_uri": "https://localhost:8080/"
        },
        "id": "3VjXdPQC75PK",
        "outputId": "bd1a158c-63dd-4c79-ea70-20aa573a8afb"
      },
      "source": [
        "bank_main['iso_4'] = 0\n",
        "bank_main.loc[acc4_iso_scaled.index,'iso_4'] = acc4_iso_scaled['anomaly_iso']\n",
        "bank_main['iso_4'].value_counts()"
      ],
      "execution_count": null,
      "outputs": []
    },
    {
      "cell_type": "code",
      "metadata": {
        "colab": {
          "base_uri": "https://localhost:8080/",
          "height": 624
        },
        "id": "bTYVlPiP75PK",
        "outputId": "82f1e5f9-10a4-4aa5-e500-b4637242a1e7"
      },
      "source": [
        "labels = acc4_iso_scaled.anomaly_iso\n",
        "colors = {0:'blue', 1:'red'}\n",
        "\n",
        "fig = plt.figure(1, figsize=(8,8))\n",
        "ax = Axes3D(fig, rect=[0, 0, .95, 1], elev=48, azim=134)\n",
        "ax.scatter(acc4_iso_scaled.iloc[:,3], acc4_iso_scaled.iloc[:,4], acc4_iso_scaled.iloc[:,5], c=labels.apply(lambda x:colors[x]))\n",
        "ax.set_title(f'ISOLATION FOREST (account_no = {accounts[3]}, outliers_fraction = {100*outliers_fraction}%)', fontsize=14)\n",
        "ax.set_xlabel('withdrawal_amt')\n",
        "ax.set_ylabel('deposit_amt')\n",
        "ax.set_zlabel('balance_amt')"
      ],
      "execution_count": null,
      "outputs": []
    },
    {
      "cell_type": "code",
      "metadata": {
        "colab": {
          "base_uri": "https://localhost:8080/",
          "height": 512
        },
        "id": "YYLPmufZ75PN",
        "outputId": "7e87cb34-3e16-472e-a8b8-92399ad992d9"
      },
      "source": [
        "df = acc4_iso.copy()\n",
        "a= df.loc[df['anomaly_iso']==1, ['date', 'balance_amt']]\n",
        "plt.figure(figsize=(20,8))\n",
        "plt.plot(df['date'], df['balance_amt'], color='blue', label='Normal')\n",
        "plt.scatter(a['date'], a['balance_amt'], color='red', label='Anomaly')\n",
        "plt.title(f'{accounts[3]} Isolation Forest Anomalies')\n",
        "plt.xlabel('Date')\n",
        "plt.ylabel('balance_amt')\n",
        "plt.legend()\n",
        "plt.show()"
      ],
      "execution_count": null,
      "outputs": []
    },
    {
      "cell_type": "markdown",
      "metadata": {
        "id": "Skc0VdcU75PN"
      },
      "source": [
        "#### &emsp;(V)  Isolation Forest account_no: 409000493210"
      ]
    },
    {
      "cell_type": "code",
      "metadata": {
        "colab": {
          "base_uri": "https://localhost:8080/",
          "height": 162
        },
        "id": "w8g9TCGZ75PO",
        "outputId": "f3b4e5ae-94d0-4af7-d65b-ce3cf754f86b"
      },
      "source": [
        "acc5_iso = acc5.copy() \n",
        "scaler = StandardScaler()\n",
        "acc5_iso_scaled = pd.DataFrame(scaler.fit_transform(acc5_iso[acc5.columns[2:]]), columns=acc5.columns[2:])\n",
        "acc5_iso_scaled.set_index(acc5_iso.index, drop=True, inplace=True)\n",
        "acc5_iso_scaled.head(3)"
      ],
      "execution_count": null,
      "outputs": []
    },
    {
      "cell_type": "code",
      "metadata": {
        "colab": {
          "base_uri": "https://localhost:8080/"
        },
        "id": "an59_ICq75PQ",
        "outputId": "e096a13b-c365-4f90-b490-1776edbe6c21"
      },
      "source": [
        "outliers_fraction = .01\n",
        "model = IsolationForest(contamination=outliers_fraction)\n",
        "model.fit(acc5_iso_scaled)"
      ],
      "execution_count": null,
      "outputs": []
    },
    {
      "cell_type": "code",
      "metadata": {
        "colab": {
          "base_uri": "https://localhost:8080/"
        },
        "id": "CDD1ZCpC75PQ",
        "outputId": "e3bd2dd1-8ece-4c6d-93f2-01866043a324"
      },
      "source": [
        "acc5_iso_scaled['anomaly_iso'] = pd.Series(model.predict(acc5_iso_scaled)).apply(lambda x: 0 if x==1 else 1).values\n",
        "acc5_iso['anomaly_iso'] = acc5_iso_scaled['anomaly_iso']\n",
        "acc5_iso_scaled['anomaly_iso'].value_counts()"
      ],
      "execution_count": null,
      "outputs": []
    },
    {
      "cell_type": "code",
      "metadata": {
        "colab": {
          "base_uri": "https://localhost:8080/"
        },
        "id": "ev7NeM2E75PQ",
        "outputId": "ae3938ca-3994-4b67-98bc-1af7257b6a9b"
      },
      "source": [
        "bank_main['iso_5'] = 0\n",
        "bank_main.loc[acc5_iso_scaled.index,'iso_5'] = acc5_iso_scaled['anomaly_iso']\n",
        "bank_main['iso_5'].value_counts()"
      ],
      "execution_count": null,
      "outputs": []
    },
    {
      "cell_type": "code",
      "metadata": {
        "colab": {
          "base_uri": "https://localhost:8080/",
          "height": 624
        },
        "id": "CV0obJ6r75PR",
        "outputId": "8007e359-a3aa-48c5-9d7c-a9feb561c39e"
      },
      "source": [
        "labels = acc5_iso_scaled.anomaly_iso\n",
        "colors = {0:'blue', 1:'red'}\n",
        "\n",
        "fig = plt.figure(1, figsize=(8,8))\n",
        "ax = Axes3D(fig, rect=[0, 0, .95, 1], elev=48, azim=134)\n",
        "ax.scatter(acc5_iso_scaled.iloc[:,3], acc5_iso_scaled.iloc[:,4], acc5_iso_scaled.iloc[:,5], c=labels.apply(lambda x:colors[x]))\n",
        "ax.set_title(f'ISOLATION FOREST (account_no = {accounts[4]}, outliers_fraction = {100*outliers_fraction}%)', fontsize=14)\n",
        "ax.set_xlabel('withdrawal_amt')\n",
        "ax.set_ylabel('deposit_amt')\n",
        "ax.set_zlabel('balance_amt')"
      ],
      "execution_count": null,
      "outputs": []
    },
    {
      "cell_type": "code",
      "metadata": {
        "colab": {
          "base_uri": "https://localhost:8080/",
          "height": 512
        },
        "id": "2W_nmj0N75PR",
        "outputId": "8b653d24-bb5a-4318-929a-3b28068b12e2"
      },
      "source": [
        "df = acc5_iso.copy()\n",
        "a= df.loc[df['anomaly_iso']==1, ['date', 'balance_amt']]\n",
        "plt.figure(figsize=(20,8))\n",
        "plt.plot(df['date'], df['balance_amt'], color='blue', label='Normal')\n",
        "plt.scatter(a['date'], a['balance_amt'], color='red', label='Anomaly')\n",
        "plt.title(f'{accounts[4]} Isolation Forest Anomalies')\n",
        "plt.xlabel('Date')\n",
        "plt.ylabel('balance_amt')\n",
        "plt.legend()\n",
        "plt.show()"
      ],
      "execution_count": null,
      "outputs": []
    },
    {
      "cell_type": "markdown",
      "metadata": {
        "id": "kMSlbA6D75PR"
      },
      "source": [
        "#### &emsp;(VI)  Isolation Forest account_no: 409000438611"
      ]
    },
    {
      "cell_type": "code",
      "metadata": {
        "colab": {
          "base_uri": "https://localhost:8080/",
          "height": 162
        },
        "id": "Elaz5yrX75PS",
        "outputId": "7e68e514-3355-4784-def9-88b20b7fa1c5"
      },
      "source": [
        "acc6_iso = acc6.copy() \n",
        "scaler = StandardScaler()\n",
        "acc6_iso_scaled = pd.DataFrame(scaler.fit_transform(acc6_iso[acc6.columns[2:]]), columns=acc6.columns[2:])\n",
        "acc6_iso_scaled.set_index(acc6_iso.index, drop=True, inplace=True)\n",
        "acc6_iso_scaled.head(3)"
      ],
      "execution_count": null,
      "outputs": []
    },
    {
      "cell_type": "code",
      "metadata": {
        "colab": {
          "base_uri": "https://localhost:8080/"
        },
        "id": "fo5RsS2N75PS",
        "outputId": "0f5a2973-6a91-4d14-c829-db7d46342405"
      },
      "source": [
        "outliers_fraction = .01\n",
        "model = IsolationForest(contamination=outliers_fraction)\n",
        "model.fit(acc6_iso_scaled)"
      ],
      "execution_count": null,
      "outputs": []
    },
    {
      "cell_type": "code",
      "metadata": {
        "colab": {
          "base_uri": "https://localhost:8080/"
        },
        "id": "kolnBH3J75PT",
        "outputId": "885e3529-844d-4b0e-acfd-7f6555618a7c"
      },
      "source": [
        "acc6_iso_scaled['anomaly_iso'] = pd.Series(model.predict(acc6_iso_scaled)).apply(lambda x: 0 if x==1 else 1).values\n",
        "acc6_iso['anomaly_iso'] = acc6_iso_scaled['anomaly_iso']\n",
        "acc6_iso_scaled['anomaly_iso'].value_counts()"
      ],
      "execution_count": null,
      "outputs": []
    },
    {
      "cell_type": "code",
      "metadata": {
        "colab": {
          "base_uri": "https://localhost:8080/"
        },
        "id": "Tg12gc7s75PV",
        "outputId": "c809207f-76ff-4f31-9966-d6798ed2c8cc"
      },
      "source": [
        "bank_main['iso_6'] = 0\n",
        "bank_main.loc[acc6_iso_scaled.index,'iso_6'] = acc6_iso_scaled['anomaly_iso']\n",
        "bank_main['iso_6'].value_counts()"
      ],
      "execution_count": null,
      "outputs": []
    },
    {
      "cell_type": "code",
      "metadata": {
        "colab": {
          "base_uri": "https://localhost:8080/",
          "height": 624
        },
        "id": "cIScMmWP75PV",
        "outputId": "5963d929-e014-45d6-83d0-b9038889fb20"
      },
      "source": [
        "labels = acc6_iso_scaled.anomaly_iso\n",
        "colors = {0:'blue', 1:'red'}\n",
        "\n",
        "fig = plt.figure(1, figsize=(8,8))\n",
        "ax = Axes3D(fig, rect=[0, 0, .95, 1], elev=48, azim=134)\n",
        "ax.scatter(acc6_iso_scaled.iloc[:,3], acc6_iso_scaled.iloc[:,4], acc6_iso_scaled.iloc[:,5], c=labels.apply(lambda x:colors[x]))\n",
        "ax.set_title(f'ISOLATION FOREST (account_no = {accounts[5]}, outliers_fraction = {100*outliers_fraction}%)', fontsize=14)\n",
        "ax.set_xlabel('withdrawal_amt')\n",
        "ax.set_ylabel('deposit_amt')\n",
        "ax.set_zlabel('balance_amt')"
      ],
      "execution_count": null,
      "outputs": []
    },
    {
      "cell_type": "code",
      "metadata": {
        "colab": {
          "base_uri": "https://localhost:8080/",
          "height": 512
        },
        "id": "9tMN64Pa75PV",
        "outputId": "7b2c1a4a-80dd-49bd-a223-17396bf93e79"
      },
      "source": [
        "df = acc6_iso.copy()\n",
        "a= df.loc[df['anomaly_iso']==1, ['date', 'balance_amt']]\n",
        "plt.figure(figsize=(20,8))\n",
        "plt.plot(df['date'], df['balance_amt'], color='blue', label='Normal')\n",
        "plt.scatter(a['date'], a['balance_amt'], color='red', label='Anomaly')\n",
        "plt.title(f'{accounts[4]} Isolation Forest Anomalies')\n",
        "plt.xlabel('Date')\n",
        "plt.ylabel('balance_amt')\n",
        "plt.legend()\n",
        "plt.show()"
      ],
      "execution_count": null,
      "outputs": []
    },
    {
      "cell_type": "code",
      "metadata": {
        "id": "puKDNPSg75PW"
      },
      "source": [],
      "execution_count": null,
      "outputs": []
    },
    {
      "cell_type": "markdown",
      "metadata": {
        "id": "TxhM3ahK75PW"
      },
      "source": [
        "#### &emsp;(VII)  Isolation Forest account_no: 409000611074"
      ]
    },
    {
      "cell_type": "code",
      "metadata": {
        "colab": {
          "base_uri": "https://localhost:8080/",
          "height": 162
        },
        "id": "zCKsyXVu75PW",
        "outputId": "fb028d9b-11ff-4f5c-f205-e56467585f7d"
      },
      "source": [
        "acc7_iso = acc7.copy() \n",
        "scaler = StandardScaler()\n",
        "acc7_iso_scaled = pd.DataFrame(scaler.fit_transform(acc7_iso[acc7.columns[2:]]), columns=acc7.columns[2:])\n",
        "acc7_iso_scaled.set_index(acc7_iso.index, drop=True, inplace=True)\n",
        "acc7_iso_scaled.head(3)"
      ],
      "execution_count": null,
      "outputs": []
    },
    {
      "cell_type": "code",
      "metadata": {
        "colab": {
          "base_uri": "https://localhost:8080/"
        },
        "id": "Raxa03I_75PW",
        "outputId": "b6d677fa-8bc9-4b02-dde8-f40cedef7678"
      },
      "source": [
        "outliers_fraction = .01\n",
        "model = IsolationForest(contamination=outliers_fraction)\n",
        "model.fit(acc7_iso_scaled)"
      ],
      "execution_count": null,
      "outputs": []
    },
    {
      "cell_type": "code",
      "metadata": {
        "colab": {
          "base_uri": "https://localhost:8080/"
        },
        "id": "bD5mWZka75PX",
        "outputId": "1eec1c21-cf4d-45f4-828a-e79359e376cd"
      },
      "source": [
        "acc7_iso_scaled['anomaly_iso'] = pd.Series(model.predict(acc7_iso_scaled)).apply(lambda x: 0 if x==1 else 1).values\n",
        "acc7_iso['anomaly_iso'] = acc7_iso_scaled['anomaly_iso']\n",
        "acc7_iso_scaled['anomaly_iso'].value_counts()"
      ],
      "execution_count": null,
      "outputs": []
    },
    {
      "cell_type": "code",
      "metadata": {
        "colab": {
          "base_uri": "https://localhost:8080/"
        },
        "id": "gXvtNFs275PY",
        "outputId": "f82ea397-b9af-465b-ecb9-6729b1b4c167"
      },
      "source": [
        "bank_main['iso_7'] = 0\n",
        "bank_main.loc[acc7_iso_scaled.index,'iso_7'] = acc7_iso_scaled['anomaly_iso']\n",
        "bank_main['iso_7'].value_counts()"
      ],
      "execution_count": null,
      "outputs": []
    },
    {
      "cell_type": "code",
      "metadata": {
        "colab": {
          "base_uri": "https://localhost:8080/",
          "height": 624
        },
        "id": "Ta0bbSxw75PY",
        "outputId": "eee49b28-637f-4241-8d8c-3f7067efefa7"
      },
      "source": [
        "labels = acc7_iso_scaled.anomaly_iso\n",
        "colors = {0:'blue', 1:'red'}\n",
        "\n",
        "fig = plt.figure(1, figsize=(8,8))\n",
        "ax = Axes3D(fig, rect=[0, 0, .95, 1], elev=48, azim=134)\n",
        "ax.scatter(acc7_iso_scaled.iloc[:,3], acc7_iso_scaled.iloc[:,4], acc7_iso_scaled.iloc[:,5], c=labels.apply(lambda x:colors[x]))\n",
        "ax.set_title(f'ISOLATION FOREST (account_no = {accounts[6]}, outliers_fraction = {100*outliers_fraction}%)', fontsize=14)\n",
        "ax.set_xlabel('withdrawal_amt')\n",
        "ax.set_ylabel('deposit_amt')\n",
        "ax.set_zlabel('balance_amt')"
      ],
      "execution_count": null,
      "outputs": []
    },
    {
      "cell_type": "code",
      "metadata": {
        "colab": {
          "base_uri": "https://localhost:8080/",
          "height": 512
        },
        "id": "w7n6nkqR75PZ",
        "outputId": "6821942a-8fdd-46a6-e2f9-078db364f188"
      },
      "source": [
        "df = acc7_iso.copy()\n",
        "a= df.loc[df['anomaly_iso']==1, ['date', 'balance_amt']]\n",
        "plt.figure(figsize=(20,8))\n",
        "plt.plot(df['date'], df['balance_amt'], color='blue', label='Normal')\n",
        "plt.scatter(a['date'], a['balance_amt'], color='red', label='Anomaly')\n",
        "plt.title(f'{accounts[6]} Isolation Forest Anomalies')\n",
        "plt.xlabel('Date')\n",
        "plt.ylabel('balance_amt')\n",
        "plt.legend()\n",
        "plt.show()"
      ],
      "execution_count": null,
      "outputs": []
    },
    {
      "cell_type": "code",
      "metadata": {
        "id": "tJAY7ZOm75PZ"
      },
      "source": [],
      "execution_count": null,
      "outputs": []
    },
    {
      "cell_type": "markdown",
      "metadata": {
        "id": "W5Sa6CRq75PZ"
      },
      "source": [
        "#### &emsp;(VIII)  Isolation Forest account_no: 409000493201"
      ]
    },
    {
      "cell_type": "code",
      "metadata": {
        "colab": {
          "base_uri": "https://localhost:8080/",
          "height": 162
        },
        "id": "VGcC5iXv75PZ",
        "outputId": "7d1b006a-6f6f-45d1-f708-439ca5b8311e"
      },
      "source": [
        "acc8_iso = acc8.copy() \n",
        "scaler = StandardScaler()\n",
        "acc8_iso_scaled = pd.DataFrame(scaler.fit_transform(acc8_iso[acc8.columns[2:]]), columns=acc8.columns[2:])\n",
        "acc8_iso_scaled.set_index(acc8_iso.index, drop=True, inplace=True)\n",
        "acc8_iso_scaled.head(3)"
      ],
      "execution_count": null,
      "outputs": []
    },
    {
      "cell_type": "code",
      "metadata": {
        "colab": {
          "base_uri": "https://localhost:8080/"
        },
        "id": "x23vV2vz75PZ",
        "outputId": "f0cdf787-6343-4a42-969a-c618a442108e"
      },
      "source": [
        "outliers_fraction = .01\n",
        "model = IsolationForest(contamination=outliers_fraction)\n",
        "model.fit(acc8_iso_scaled)"
      ],
      "execution_count": null,
      "outputs": []
    },
    {
      "cell_type": "code",
      "metadata": {
        "colab": {
          "base_uri": "https://localhost:8080/"
        },
        "id": "qLDfsskg75Pa",
        "outputId": "bd2deea7-68a5-45e1-9063-f87938338756"
      },
      "source": [
        "acc8_iso_scaled['anomaly_iso'] = pd.Series(model.predict(acc8_iso_scaled)).apply(lambda x: 0 if x==1 else 1).values\n",
        "acc8_iso['anomaly_iso'] = acc8_iso_scaled['anomaly_iso']\n",
        "acc8_iso_scaled['anomaly_iso'].value_counts()"
      ],
      "execution_count": null,
      "outputs": []
    },
    {
      "cell_type": "code",
      "metadata": {
        "colab": {
          "base_uri": "https://localhost:8080/"
        },
        "id": "ux2xy3d775Pa",
        "outputId": "af073e37-683b-43c3-e293-da1d7ce0bcf5"
      },
      "source": [
        "bank_main['iso_8'] = 0\n",
        "bank_main.loc[acc8_iso_scaled.index,'iso_8'] = acc8_iso_scaled['anomaly_iso']\n",
        "bank_main['iso_8'].value_counts()"
      ],
      "execution_count": null,
      "outputs": []
    },
    {
      "cell_type": "code",
      "metadata": {
        "colab": {
          "base_uri": "https://localhost:8080/",
          "height": 624
        },
        "id": "-bJtpc3f75Pa",
        "outputId": "aa122243-89ef-4f57-dd56-e77571ed474f"
      },
      "source": [
        "labels = acc8_iso_scaled.anomaly_iso\n",
        "colors = {0:'blue', 1:'red'}\n",
        "\n",
        "fig = plt.figure(1, figsize=(8,8))\n",
        "ax = Axes3D(fig, rect=[0, 0, .95, 1], elev=48, azim=134)\n",
        "ax.scatter(acc8_iso_scaled.iloc[:,3], acc8_iso_scaled.iloc[:,4], acc8_iso_scaled.iloc[:,5], c=labels.apply(lambda x:colors[x]))\n",
        "ax.set_title(f'ISOLATION FOREST (account_no = {accounts[7]}, outliers_fraction = {100*outliers_fraction}%)', fontsize=14)\n",
        "ax.set_xlabel('withdrawal_amt')\n",
        "ax.set_ylabel('deposit_amt')\n",
        "ax.set_zlabel('balance_amt')"
      ],
      "execution_count": null,
      "outputs": []
    },
    {
      "cell_type": "code",
      "metadata": {
        "colab": {
          "base_uri": "https://localhost:8080/",
          "height": 512
        },
        "id": "cAWMCr2-75Pa",
        "outputId": "7f30c677-f94f-4a89-c62e-70ffdf57dff3"
      },
      "source": [
        "df = acc8_iso.copy()\n",
        "a= df.loc[df['anomaly_iso']==1, ['date', 'balance_amt']]\n",
        "plt.figure(figsize=(20,8))\n",
        "plt.plot(df['date'], df['balance_amt'], color='blue', label='Normal')\n",
        "plt.scatter(a['date'], a['balance_amt'], color='red', label='Anomaly')\n",
        "plt.title(f'{accounts[7]} Isolation Forest Anomalies')\n",
        "plt.xlabel('Date')\n",
        "plt.ylabel('balance_amt')\n",
        "plt.legend()\n",
        "plt.show()"
      ],
      "execution_count": null,
      "outputs": []
    },
    {
      "cell_type": "markdown",
      "metadata": {
        "id": "4jf4eX9D75Pb"
      },
      "source": [
        "#### &emsp;(IX)  Isolation Forest account_no: 409000425051"
      ]
    },
    {
      "cell_type": "code",
      "metadata": {
        "colab": {
          "base_uri": "https://localhost:8080/",
          "height": 162
        },
        "id": "XRc-rh0h75Pb",
        "outputId": "73130d9a-f163-4516-ad91-e8c51b539816"
      },
      "source": [
        "acc9_iso = acc9.copy() \n",
        "scaler = StandardScaler()\n",
        "acc9_iso_scaled = pd.DataFrame(scaler.fit_transform(acc9_iso[acc9.columns[2:]]), columns=acc9.columns[2:])\n",
        "acc9_iso_scaled.set_index(acc9_iso.index, drop=True, inplace=True)\n",
        "acc9_iso_scaled.head(3)"
      ],
      "execution_count": null,
      "outputs": []
    },
    {
      "cell_type": "code",
      "metadata": {
        "colab": {
          "base_uri": "https://localhost:8080/"
        },
        "id": "K5VrB4CY75Pb",
        "outputId": "bf6c9c80-bc28-4200-e94b-b04c0f147209"
      },
      "source": [
        "outliers_fraction = .01\n",
        "model = IsolationForest(contamination=outliers_fraction)\n",
        "model.fit(acc9_iso_scaled)"
      ],
      "execution_count": null,
      "outputs": []
    },
    {
      "cell_type": "code",
      "metadata": {
        "colab": {
          "base_uri": "https://localhost:8080/"
        },
        "id": "WT0aHMb975Pb",
        "outputId": "28d17e17-179e-4736-ba1a-96a0de35b85b"
      },
      "source": [
        "acc9_iso_scaled['anomaly_iso'] = pd.Series(model.predict(acc9_iso_scaled)).apply(lambda x: 0 if x==1 else 1).values\n",
        "acc9_iso['anomaly_iso'] = acc9_iso_scaled['anomaly_iso']\n",
        "acc9_iso_scaled['anomaly_iso'].value_counts()"
      ],
      "execution_count": null,
      "outputs": []
    },
    {
      "cell_type": "code",
      "metadata": {
        "colab": {
          "base_uri": "https://localhost:8080/"
        },
        "id": "YP0vGYhn75Pb",
        "outputId": "42002d29-d1b4-4e5b-ff5b-630ae3a51937"
      },
      "source": [
        "bank_main['iso_9'] = 0\n",
        "bank_main.loc[acc9_iso_scaled.index,'iso_9'] = acc9_iso_scaled['anomaly_iso']\n",
        "bank_main['iso_9'].value_counts()"
      ],
      "execution_count": null,
      "outputs": []
    },
    {
      "cell_type": "code",
      "metadata": {
        "colab": {
          "base_uri": "https://localhost:8080/",
          "height": 624
        },
        "id": "IYezgZX275Pc",
        "outputId": "335d506a-4139-4009-a078-ec46d785a88c"
      },
      "source": [
        "labels = acc9_iso_scaled.anomaly_iso\n",
        "colors = {0:'blue', 1:'red'}\n",
        "\n",
        "fig = plt.figure(1, figsize=(8,8))\n",
        "ax = Axes3D(fig, rect=[0, 0, .95, 1], elev=48, azim=134)\n",
        "ax.scatter(acc9_iso_scaled.iloc[:,3], acc9_iso_scaled.iloc[:,4], acc9_iso_scaled.iloc[:,5], c=labels.apply(lambda x:colors[x]))\n",
        "ax.set_title(f'ISOLATION FOREST (account_no = {accounts[8]}, outliers_fraction = {100*outliers_fraction}%)', fontsize=14)\n",
        "ax.set_xlabel('withdrawal_amt')\n",
        "ax.set_ylabel('deposit_amt')\n",
        "ax.set_zlabel('balance_amt')"
      ],
      "execution_count": null,
      "outputs": []
    },
    {
      "cell_type": "code",
      "metadata": {
        "colab": {
          "base_uri": "https://localhost:8080/",
          "height": 512
        },
        "id": "l4GopZvH75Pc",
        "outputId": "81502edc-19b6-45ed-9584-3376594f9a92"
      },
      "source": [
        "df = acc9_iso.copy()\n",
        "a= df.loc[df['anomaly_iso']==1, ['date', 'balance_amt']]\n",
        "plt.figure(figsize=(20,8))\n",
        "plt.plot(df['date'], df['balance_amt'], color='blue', label='Normal')\n",
        "plt.scatter(a['date'], a['balance_amt'], color='red', label='Anomaly')\n",
        "plt.title(f'{accounts[8]} Isolation Forest Anomalies')\n",
        "plt.xlabel('Date')\n",
        "plt.ylabel('balance_amt')\n",
        "plt.legend()\n",
        "plt.show()"
      ],
      "execution_count": null,
      "outputs": []
    },
    {
      "cell_type": "markdown",
      "metadata": {
        "id": "rwghUea375Pc"
      },
      "source": [
        "#### &emsp;(X)  Isolation Forest account_no: 409000405747"
      ]
    },
    {
      "cell_type": "code",
      "metadata": {
        "colab": {
          "base_uri": "https://localhost:8080/",
          "height": 162
        },
        "id": "QmWuGFbK75Pc",
        "outputId": "9dc8c158-3a2a-4daf-9b45-2a76acd50b96"
      },
      "source": [
        "acc10_iso = acc10.copy() \n",
        "scaler = StandardScaler()\n",
        "acc10_iso_scaled = pd.DataFrame(scaler.fit_transform(acc10_iso[acc10.columns[2:]]), columns=acc10.columns[2:])\n",
        "acc10_iso_scaled.set_index(acc10_iso.index, drop=True, inplace=True)\n",
        "acc10_iso_scaled.head(3)"
      ],
      "execution_count": null,
      "outputs": []
    },
    {
      "cell_type": "code",
      "metadata": {
        "colab": {
          "base_uri": "https://localhost:8080/"
        },
        "id": "ZV0St5pc75Pe",
        "outputId": "e2e1c3c4-e8ba-4d9b-997e-d882da1f64cb"
      },
      "source": [
        "outliers_fraction = .1\n",
        "model = IsolationForest(contamination=outliers_fraction)\n",
        "model.fit(acc10_iso_scaled)"
      ],
      "execution_count": null,
      "outputs": []
    },
    {
      "cell_type": "code",
      "metadata": {
        "colab": {
          "base_uri": "https://localhost:8080/"
        },
        "id": "BFL-q8h675Pi",
        "outputId": "a5432810-f44e-457c-b263-c671dd6c8755"
      },
      "source": [
        "acc10_iso_scaled['anomaly_iso'] = pd.Series(model.predict(acc10_iso_scaled)).apply(lambda x: 0 if x==1 else 1).values\n",
        "acc10_iso['anomaly_iso'] = acc10_iso_scaled['anomaly_iso']\n",
        "acc10_iso_scaled['anomaly_iso'].value_counts()"
      ],
      "execution_count": null,
      "outputs": []
    },
    {
      "cell_type": "code",
      "metadata": {
        "colab": {
          "base_uri": "https://localhost:8080/"
        },
        "id": "fw2nGq4475Pk",
        "outputId": "49d7ae2c-ac83-4b3d-eb11-c2f49593cc64"
      },
      "source": [
        "bank_main['iso_10'] = 0\n",
        "bank_main.loc[acc10_iso_scaled.index,'iso_10'] = acc10_iso_scaled['anomaly_iso']\n",
        "bank_main['iso_10'].value_counts()"
      ],
      "execution_count": null,
      "outputs": []
    },
    {
      "cell_type": "code",
      "metadata": {
        "colab": {
          "base_uri": "https://localhost:8080/",
          "height": 624
        },
        "id": "22515nvx75Pl",
        "outputId": "9ad5dbdc-3e40-4d02-a7c2-79b98d46ee0c"
      },
      "source": [
        "labels = acc10_iso_scaled.anomaly_iso\n",
        "colors = {0:'blue', 1:'red'}\n",
        "\n",
        "fig = plt.figure(1, figsize=(8,8))\n",
        "ax = Axes3D(fig, rect=[0, 0, .95, 1], elev=48, azim=134)\n",
        "ax.scatter(acc10_iso_scaled.iloc[:,3], acc10_iso_scaled.iloc[:,4], acc10_iso_scaled.iloc[:,5], c=labels.apply(lambda x:colors[x]))\n",
        "ax.set_title(f'ISOLATION FOREST (account_no = {accounts[9]}, outliers_fraction = {100*outliers_fraction}%)', fontsize=14)\n",
        "ax.set_xlabel('withdrawal_amt')\n",
        "ax.set_ylabel('deposit_amt')\n",
        "ax.set_zlabel('balance_amt')"
      ],
      "execution_count": null,
      "outputs": []
    },
    {
      "cell_type": "code",
      "metadata": {
        "colab": {
          "base_uri": "https://localhost:8080/",
          "height": 512
        },
        "id": "N2N_xjy775Pl",
        "outputId": "302305cb-e345-497f-98ec-05b1695806f5"
      },
      "source": [
        "df = acc10_iso.copy()\n",
        "a= df.loc[df['anomaly_iso']==1, ['date', 'balance_amt']]\n",
        "plt.figure(figsize=(20,8))\n",
        "plt.plot(df['date'], df['balance_amt'], color='blue', label='Normal')\n",
        "plt.scatter(a['date'], a['balance_amt'], color='red', label='Anomaly')\n",
        "plt.title(f'{accounts[9]} Isolation Forest Anomalies')\n",
        "plt.xlabel('Date')\n",
        "plt.ylabel('balance_amt')\n",
        "plt.legend()\n",
        "plt.show()"
      ],
      "execution_count": null,
      "outputs": []
    },
    {
      "cell_type": "code",
      "metadata": {
        "id": "oKiuAQ5h75Pm"
      },
      "source": [
        "bank_main['accounts_isolation_forest'] = bank_main.iso_1 + bank_main.iso_2 + bank_main.iso_3 + bank_main.iso_4 + bank_main.iso_5 + bank_main.iso_6 + bank_main.iso_7 + bank_main.iso_8 + bank_main.iso_9 + bank_main.iso_10"
      ],
      "execution_count": null,
      "outputs": []
    },
    {
      "cell_type": "code",
      "metadata": {
        "id": "QVAY6xw_75Pm"
      },
      "source": [
        "#bank_main.drop(columns=['iso_1', 'iso_2', 'iso_3', 'iso_4', 'iso_5', 'iso_6', 'iso_7', 'iso_8', 'iso_9','iso_10'], axis=1, inplace=True)"
      ],
      "execution_count": null,
      "outputs": []
    },
    {
      "cell_type": "code",
      "metadata": {
        "colab": {
          "base_uri": "https://localhost:8080/"
        },
        "id": "4uL96Rb975Pm",
        "outputId": "efa4847d-a11f-4591-8f45-fd9bd2100e1e"
      },
      "source": [
        "bank_main['accounts_isolation_forest'].value_counts()"
      ],
      "execution_count": null,
      "outputs": []
    },
    {
      "cell_type": "markdown",
      "metadata": {
        "id": "rhZ2ZSiH75Pn"
      },
      "source": [
        "### ii. OneClassSVM Anomaly Detection"
      ]
    },
    {
      "cell_type": "markdown",
      "metadata": {
        "id": "6FudL0cH75Pn"
      },
      "source": [
        "#### &emsp;(I)  OneClassSVM account_no: 1196428"
      ]
    },
    {
      "cell_type": "code",
      "metadata": {
        "colab": {
          "base_uri": "https://localhost:8080/",
          "height": 162
        },
        "id": "Yer-BbeE75Pn",
        "outputId": "8bb2b535-2c02-463f-d672-09cfb9182f3c"
      },
      "source": [
        "acc1_svm = acc1.copy() \n",
        "scaler = StandardScaler()\n",
        "acc1_svm_scaled = pd.DataFrame(scaler.fit_transform(acc1_svm[acc1.columns[2:]]), columns=acc1.columns[2:])\n",
        "acc1_svm_scaled.set_index(acc1_svm.index, drop=True, inplace=True)\n",
        "acc1_svm_scaled.head(3)"
      ],
      "execution_count": null,
      "outputs": []
    },
    {
      "cell_type": "code",
      "metadata": {
        "colab": {
          "base_uri": "https://localhost:8080/"
        },
        "id": "O5eeFHqn75Pn",
        "outputId": "1bc37266-6bbd-496b-9e75-4920d79aa6b2"
      },
      "source": [
        "outliers_fraction = .005\n",
        "model = OneClassSVM(nu=outliers_fraction, kernel='rbf', gamma=.01)\n",
        "model.fit(acc1_svm_scaled)"
      ],
      "execution_count": null,
      "outputs": []
    },
    {
      "cell_type": "code",
      "metadata": {
        "colab": {
          "base_uri": "https://localhost:8080/"
        },
        "id": "AxRTMP3h75Po",
        "outputId": "eb3c40b1-650d-4248-aa18-c676d1f527d1"
      },
      "source": [
        "acc1_svm_scaled['anomaly_svm'] = pd.Series(model.predict(acc1_svm_scaled)).apply(lambda x: 0 if x==1 else 1).values\n",
        "acc1_svm['anomaly_svm'] = acc1_svm_scaled['anomaly_svm']\n",
        "acc1_svm_scaled['anomaly_svm'].value_counts()"
      ],
      "execution_count": null,
      "outputs": []
    },
    {
      "cell_type": "code",
      "metadata": {
        "colab": {
          "base_uri": "https://localhost:8080/"
        },
        "id": "O7j9gizK75Po",
        "outputId": "4f1989ee-26e9-462e-8834-b8ccc1fc0815"
      },
      "source": [
        "bank_main['svm_1'] = 0\n",
        "bank_main.loc[acc1_svm_scaled.index,'svm_1'] = acc1_svm_scaled['anomaly_svm']\n",
        "bank_main['svm_1'].value_counts()"
      ],
      "execution_count": null,
      "outputs": []
    },
    {
      "cell_type": "code",
      "metadata": {
        "colab": {
          "base_uri": "https://localhost:8080/",
          "height": 624
        },
        "id": "xwXJj0UK75Po",
        "outputId": "f4e464fc-fcd2-48ae-9377-96fc6c276e71"
      },
      "source": [
        "labels = acc1_svm_scaled.anomaly_svm\n",
        "colors = {0:'blue', 1:'red'}\n",
        "\n",
        "fig = plt.figure(1, figsize=(8,8))\n",
        "ax = Axes3D(fig, rect=[0, 0, .95, 1], elev=48, azim=134)\n",
        "ax.scatter(acc1_svm_scaled.iloc[:,3], acc1_svm_scaled.iloc[:,4], acc1_svm_scaled.iloc[:,5], c=labels.apply(lambda x:colors[x]))\n",
        "ax.set_title(f'ONE CLASS SVM (account_no = {accounts[0]}, outliers_fraction = {100*outliers_fraction}%)', fontsize=14)\n",
        "ax.set_xlabel('withdrawal_amt')\n",
        "ax.set_ylabel('deposit_amt')\n",
        "ax.set_zlabel('balance_amt')"
      ],
      "execution_count": null,
      "outputs": []
    },
    {
      "cell_type": "code",
      "metadata": {
        "colab": {
          "base_uri": "https://localhost:8080/",
          "height": 512
        },
        "id": "tANCzB5C75Po",
        "outputId": "2820fe1d-a58f-4f5b-c273-38184cd8edd9"
      },
      "source": [
        "df = acc1_svm.copy()\n",
        "a= df.loc[df['anomaly_svm']==1, ['date', 'balance_amt']]\n",
        "plt.figure(figsize=(20,8))\n",
        "plt.plot(df['date'], df['balance_amt'], color='blue', label='Normal')\n",
        "plt.scatter(a['date'], a['balance_amt'], color='red', label='Anomaly')\n",
        "plt.title(f'{accounts[0]} OneClassSVM Anomalies')\n",
        "plt.xlabel('Date')\n",
        "plt.ylabel('balance_amt')\n",
        "plt.legend()\n",
        "plt.show()"
      ],
      "execution_count": null,
      "outputs": []
    },
    {
      "cell_type": "markdown",
      "metadata": {
        "id": "XrPX86FV75Pq"
      },
      "source": [
        "#### &emsp;(II)  OneClassSVM account_no: 409000362497"
      ]
    },
    {
      "cell_type": "code",
      "metadata": {
        "colab": {
          "base_uri": "https://localhost:8080/",
          "height": 162
        },
        "id": "WTwAwqx475Pq",
        "outputId": "883c84dd-6219-4e1c-94db-63d17ca77b92"
      },
      "source": [
        "acc2_svm = acc2.copy() \n",
        "scaler = StandardScaler()\n",
        "acc2_svm_scaled = pd.DataFrame(scaler.fit_transform(acc2_svm[acc2.columns[2:]]), columns=acc2.columns[2:])\n",
        "acc2_svm_scaled.set_index(acc2_svm.index, drop=True, inplace=True)\n",
        "acc2_svm_scaled.head(3)"
      ],
      "execution_count": null,
      "outputs": []
    },
    {
      "cell_type": "code",
      "metadata": {
        "colab": {
          "base_uri": "https://localhost:8080/"
        },
        "id": "5oGD8vm375Pq",
        "outputId": "5ae1f167-0585-47e3-ef49-5158a7267318"
      },
      "source": [
        "outliers_fraction = .005\n",
        "model = OneClassSVM(nu=outliers_fraction, kernel='rbf', gamma=.01)\n",
        "model.fit(acc2_svm_scaled)"
      ],
      "execution_count": null,
      "outputs": []
    },
    {
      "cell_type": "code",
      "metadata": {
        "colab": {
          "base_uri": "https://localhost:8080/"
        },
        "id": "3pqeSDrA75Ps",
        "outputId": "746f23ae-6ec5-4f2c-e8df-bbbb93b37157"
      },
      "source": [
        "acc2_svm_scaled['anomaly_svm'] = pd.Series(model.predict(acc2_svm_scaled)).apply(lambda x: 0 if x==1 else 1).values\n",
        "acc2_svm['anomaly_svm'] = acc2_svm_scaled['anomaly_svm']\n",
        "acc2_svm_scaled['anomaly_svm'].value_counts()"
      ],
      "execution_count": null,
      "outputs": []
    },
    {
      "cell_type": "code",
      "metadata": {
        "colab": {
          "base_uri": "https://localhost:8080/"
        },
        "id": "ftJa_KYj75Ps",
        "outputId": "fcd90252-99fc-4d57-ae13-243ab5db3ff7"
      },
      "source": [
        "bank_main['svm_2'] = 0\n",
        "bank_main.loc[acc2_svm_scaled.index,'svm_2'] = acc2_svm_scaled['anomaly_svm']\n",
        "bank_main['svm_2'].value_counts()"
      ],
      "execution_count": null,
      "outputs": []
    },
    {
      "cell_type": "code",
      "metadata": {
        "colab": {
          "base_uri": "https://localhost:8080/",
          "height": 624
        },
        "id": "PJTySMj075Ps",
        "outputId": "2f6d1777-e73b-4f0b-d95b-2d8ec9f29807"
      },
      "source": [
        "labels = acc2_svm_scaled.anomaly_svm\n",
        "colors = {0:'blue', 1:'red'}\n",
        "\n",
        "fig = plt.figure(1, figsize=(8,8))\n",
        "ax = Axes3D(fig, rect=[0, 0, .95, 1], elev=48, azim=134)\n",
        "ax.scatter(acc2_svm_scaled.iloc[:,3], acc2_svm_scaled.iloc[:,4], acc2_svm_scaled.iloc[:,5], c=labels.apply(lambda x:colors[x]))\n",
        "ax.set_title(f'ONE CLASS SVM (account_no = {accounts[1]}, outliers_fraction = {100*outliers_fraction}%)', fontsize=14)\n",
        "ax.set_xlabel('withdrawal_amt')\n",
        "ax.set_ylabel('deposit_amt')\n",
        "ax.set_zlabel('balance_amt')"
      ],
      "execution_count": null,
      "outputs": []
    },
    {
      "cell_type": "code",
      "metadata": {
        "colab": {
          "base_uri": "https://localhost:8080/",
          "height": 512
        },
        "id": "qPdUW_Js75Pt",
        "outputId": "c176f3fe-cfb6-45f5-eb06-0014dd6789fc"
      },
      "source": [
        "df = acc2_svm.copy()\n",
        "a= df.loc[df['anomaly_svm']==1, ['date', 'balance_amt']]\n",
        "plt.figure(figsize=(20,8))\n",
        "plt.plot(df['date'], df['balance_amt'], color='blue', label='Normal')\n",
        "plt.scatter(a['date'], a['balance_amt'], color='red', label='Anomaly')\n",
        "plt.title(f'{accounts[1]} OneClassSVM Anomalies')\n",
        "plt.xlabel('Date')\n",
        "plt.ylabel('balance_amt')\n",
        "plt.legend()\n",
        "plt.show()"
      ],
      "execution_count": null,
      "outputs": []
    },
    {
      "cell_type": "markdown",
      "metadata": {
        "id": "A5XZSJdZ75Pu"
      },
      "source": [
        "#### &emsp;(III)  OneClassSVM account_no: 409000438620"
      ]
    },
    {
      "cell_type": "code",
      "metadata": {
        "colab": {
          "base_uri": "https://localhost:8080/",
          "height": 162
        },
        "id": "LP9Hc90C75Pu",
        "outputId": "162e8c3d-dbf2-4a38-f5f2-a2e2f2f81108"
      },
      "source": [
        "acc3_svm = acc3.copy() \n",
        "scaler = StandardScaler()\n",
        "acc3_svm_scaled = pd.DataFrame(scaler.fit_transform(acc3_svm[acc3.columns[2:]]), columns=acc3.columns[2:])\n",
        "acc3_svm_scaled.set_index(acc3_svm.index, drop=True, inplace=True)\n",
        "acc3_svm_scaled.head(3)"
      ],
      "execution_count": null,
      "outputs": []
    },
    {
      "cell_type": "code",
      "metadata": {
        "colab": {
          "base_uri": "https://localhost:8080/"
        },
        "id": "B1glFEDx75Pu",
        "outputId": "51baf5c7-eb96-4923-ac2a-de932d047b57"
      },
      "source": [
        "outliers_fraction = .005\n",
        "model = OneClassSVM(nu=outliers_fraction, kernel='rbf', gamma=.01)\n",
        "model.fit(acc3_svm_scaled)"
      ],
      "execution_count": null,
      "outputs": []
    },
    {
      "cell_type": "code",
      "metadata": {
        "colab": {
          "base_uri": "https://localhost:8080/"
        },
        "id": "CPwy7MJx75Pv",
        "outputId": "ce194d25-c974-4af7-c14a-d0db01e664b8"
      },
      "source": [
        "acc3_svm_scaled['anomaly_svm'] = pd.Series(model.predict(acc3_svm_scaled)).apply(lambda x: 0 if x==1 else 1).values\n",
        "acc3_svm['anomaly_svm'] = acc3_svm_scaled['anomaly_svm']\n",
        "acc3_svm_scaled['anomaly_svm'].value_counts()"
      ],
      "execution_count": null,
      "outputs": []
    },
    {
      "cell_type": "code",
      "metadata": {
        "colab": {
          "base_uri": "https://localhost:8080/"
        },
        "id": "OhAWF1Lo75Pv",
        "outputId": "e065ee87-a36b-440b-f4ec-360092395a6c"
      },
      "source": [
        "bank_main['svm_3'] = 0\n",
        "bank_main.loc[acc3_svm_scaled.index,'svm_3'] = acc3_svm_scaled['anomaly_svm']\n",
        "bank_main['svm_3'].value_counts()"
      ],
      "execution_count": null,
      "outputs": []
    },
    {
      "cell_type": "code",
      "metadata": {
        "colab": {
          "base_uri": "https://localhost:8080/",
          "height": 624
        },
        "id": "z68yOfYS75Pv",
        "outputId": "aafd8181-2250-4b32-beb7-186d09b4053a"
      },
      "source": [
        "labels = acc3_svm_scaled.anomaly_svm\n",
        "colors = {0:'blue', 1:'red'}\n",
        "\n",
        "fig = plt.figure(1, figsize=(8,8))\n",
        "ax = Axes3D(fig, rect=[0, 0, .95, 1], elev=48, azim=134)\n",
        "ax.scatter(acc3_svm_scaled.iloc[:,3], acc3_svm_scaled.iloc[:,4], acc3_svm_scaled.iloc[:,5], c=labels.apply(lambda x:colors[x]))\n",
        "ax.set_title(f'ONE CLASS SVM (account_no = {accounts[2]}, outliers_fraction = {100*outliers_fraction}%)', fontsize=14)\n",
        "ax.set_xlabel('withdrawal_amt')\n",
        "ax.set_ylabel('deposit_amt')\n",
        "ax.set_zlabel('balance_amt')"
      ],
      "execution_count": null,
      "outputs": []
    },
    {
      "cell_type": "code",
      "metadata": {
        "colab": {
          "base_uri": "https://localhost:8080/",
          "height": 512
        },
        "id": "RbUBwwFP75Pv",
        "outputId": "b6d716c0-8ad1-4ef4-8ea3-d9ad0dd657e1"
      },
      "source": [
        "df = acc3_svm.copy()\n",
        "a= df.loc[df['anomaly_svm']==1, ['date', 'balance_amt']]\n",
        "plt.figure(figsize=(20,8))\n",
        "plt.plot(df['date'], df['balance_amt'], color='blue', label='Normal')\n",
        "plt.scatter(a['date'], a['balance_amt'], color='red', label='Anomaly')\n",
        "plt.title(f'{accounts[2]} OneClassSVM Anomalies')\n",
        "plt.xlabel('Date')\n",
        "plt.ylabel('balance_amt')\n",
        "plt.legend()\n",
        "plt.show()"
      ],
      "execution_count": null,
      "outputs": []
    },
    {
      "cell_type": "markdown",
      "metadata": {
        "id": "jS-jE6OP75Pv"
      },
      "source": [
        "#### &emsp;(IV)  OneClassSVM account_no: 1196711"
      ]
    },
    {
      "cell_type": "code",
      "metadata": {
        "colab": {
          "base_uri": "https://localhost:8080/",
          "height": 162
        },
        "id": "OyAa6FW875Pv",
        "outputId": "b558c564-ca3d-4d2a-ca9e-7551813b188c"
      },
      "source": [
        "acc4_svm = acc4.copy() \n",
        "scaler = StandardScaler()\n",
        "acc4_svm_scaled = pd.DataFrame(scaler.fit_transform(acc4_svm[acc4.columns[2:]]), columns=acc4.columns[2:])\n",
        "acc4_svm_scaled.set_index(acc4_svm.index, drop=True, inplace=True)\n",
        "acc4_svm_scaled.head(3)"
      ],
      "execution_count": null,
      "outputs": []
    },
    {
      "cell_type": "code",
      "metadata": {
        "colab": {
          "base_uri": "https://localhost:8080/"
        },
        "id": "345NK15Y75Pw",
        "outputId": "fdfbdeb7-02bb-4a3a-cdd9-aac05f8f8075"
      },
      "source": [
        "outliers_fraction = .005\n",
        "model = OneClassSVM(nu=outliers_fraction, kernel='rbf', gamma=.01)\n",
        "model.fit(acc4_svm_scaled)"
      ],
      "execution_count": null,
      "outputs": []
    },
    {
      "cell_type": "code",
      "metadata": {
        "colab": {
          "base_uri": "https://localhost:8080/"
        },
        "id": "3CryGUf675Pw",
        "outputId": "01305e8c-1585-475b-ef52-e126b63bb028"
      },
      "source": [
        "acc4_svm_scaled['anomaly_svm'] = pd.Series(model.predict(acc4_svm_scaled)).apply(lambda x: 0 if x==1 else 1).values\n",
        "acc4_svm['anomaly_svm'] = acc4_svm_scaled['anomaly_svm']\n",
        "acc4_svm_scaled['anomaly_svm'].value_counts()"
      ],
      "execution_count": null,
      "outputs": []
    },
    {
      "cell_type": "code",
      "metadata": {
        "colab": {
          "base_uri": "https://localhost:8080/"
        },
        "id": "gjKr8GiI75Pw",
        "outputId": "ff67c168-535c-4db2-a451-d6d5b0434fd5"
      },
      "source": [
        "bank_main['svm_4'] = 0\n",
        "bank_main.loc[acc4_svm_scaled.index,'svm_4'] = acc4_svm_scaled['anomaly_svm']\n",
        "bank_main['svm_4'].value_counts()"
      ],
      "execution_count": null,
      "outputs": []
    },
    {
      "cell_type": "code",
      "metadata": {
        "colab": {
          "base_uri": "https://localhost:8080/",
          "height": 624
        },
        "id": "xV4_geez75Pw",
        "outputId": "646e3526-8db6-4c57-8c07-d66e80dd7664"
      },
      "source": [
        "labels = acc4_svm_scaled.anomaly_svm\n",
        "colors = {0:'blue', 1:'red'}\n",
        "\n",
        "fig = plt.figure(1, figsize=(8,8))\n",
        "ax = Axes3D(fig, rect=[0, 0, .95, 1], elev=48, azim=134)\n",
        "ax.scatter(acc4_svm_scaled.iloc[:,3], acc4_svm_scaled.iloc[:,4], acc4_svm_scaled.iloc[:,5], c=labels.apply(lambda x:colors[x]))\n",
        "ax.set_title(f'ONE CLASS SVM (account_no = {accounts[3]}, outliers_fraction = {100*outliers_fraction}%)', fontsize=14)\n",
        "ax.set_xlabel('withdrawal_amt')\n",
        "ax.set_ylabel('deposit_amt')\n",
        "ax.set_zlabel('balance_amt')"
      ],
      "execution_count": null,
      "outputs": []
    },
    {
      "cell_type": "code",
      "metadata": {
        "colab": {
          "base_uri": "https://localhost:8080/",
          "height": 512
        },
        "id": "8Dvevft875Pw",
        "outputId": "15f80b70-998e-4176-b786-71a178fb0ade"
      },
      "source": [
        "df = acc4_svm.copy()\n",
        "a= df.loc[df['anomaly_svm']==1, ['date', 'balance_amt']]\n",
        "plt.figure(figsize=(20,8))\n",
        "plt.plot(df['date'], df['balance_amt'], color='blue', label='Normal')\n",
        "plt.scatter(a['date'], a['balance_amt'], color='red', label='Anomaly')\n",
        "plt.title(f'{accounts[3]} OneClassSVM Anomalies')\n",
        "plt.xlabel('Date')\n",
        "plt.ylabel('balance_amt')\n",
        "plt.legend()\n",
        "plt.show()"
      ],
      "execution_count": null,
      "outputs": []
    },
    {
      "cell_type": "markdown",
      "metadata": {
        "id": "l6VA0zvI75Px"
      },
      "source": [
        "#### &emsp;(V)  OneClassSVM account_no: 409000493210"
      ]
    },
    {
      "cell_type": "code",
      "metadata": {
        "colab": {
          "base_uri": "https://localhost:8080/",
          "height": 162
        },
        "id": "uV04Sedq75Px",
        "outputId": "59fb0749-66b6-40df-8c5b-550345ad4b58"
      },
      "source": [
        "acc5_svm = acc5.copy() \n",
        "scaler = StandardScaler()\n",
        "acc5_svm_scaled = pd.DataFrame(scaler.fit_transform(acc5_svm[acc5.columns[2:]]), columns=acc5.columns[2:])\n",
        "acc5_svm_scaled.set_index(acc5_svm.index, drop=True, inplace=True)\n",
        "acc5_svm_scaled.head(3)"
      ],
      "execution_count": null,
      "outputs": []
    },
    {
      "cell_type": "code",
      "metadata": {
        "colab": {
          "base_uri": "https://localhost:8080/"
        },
        "id": "7n3qvRIu75Px",
        "outputId": "d78ee69d-633d-4191-c02a-c56dff4e62ea"
      },
      "source": [
        "outliers_fraction = .005\n",
        "model = OneClassSVM(nu=outliers_fraction, kernel='rbf', gamma=.01)\n",
        "model.fit(acc5_svm_scaled)"
      ],
      "execution_count": null,
      "outputs": []
    },
    {
      "cell_type": "code",
      "metadata": {
        "colab": {
          "base_uri": "https://localhost:8080/"
        },
        "id": "9i1Mn2Cz75Px",
        "outputId": "c3d14465-e678-4ca0-d7c3-6f833d8d83eb"
      },
      "source": [
        "acc5_svm_scaled['anomaly_svm'] = pd.Series(model.predict(acc5_svm_scaled)).apply(lambda x: 0 if x==1 else 1).values\n",
        "acc5_svm['anomaly_svm'] = acc5_svm_scaled['anomaly_svm']\n",
        "acc5_svm_scaled['anomaly_svm'].value_counts()"
      ],
      "execution_count": null,
      "outputs": []
    },
    {
      "cell_type": "code",
      "metadata": {
        "colab": {
          "base_uri": "https://localhost:8080/"
        },
        "id": "xBLA6m6g75Px",
        "outputId": "eba34eb8-61d5-4480-b302-3207d77c50af"
      },
      "source": [
        "bank_main['svm_5'] = 0\n",
        "bank_main.loc[acc5_svm_scaled.index,'svm_5'] = acc5_svm_scaled['anomaly_svm']\n",
        "bank_main['svm_5'].value_counts()"
      ],
      "execution_count": null,
      "outputs": []
    },
    {
      "cell_type": "code",
      "metadata": {
        "colab": {
          "base_uri": "https://localhost:8080/",
          "height": 624
        },
        "id": "VcmQCUE875Py",
        "outputId": "0f5cc74f-01ee-4996-a9c4-798ac83f7b98"
      },
      "source": [
        "labels = acc5_svm_scaled.anomaly_svm\n",
        "colors = {0:'blue', 1:'red'}\n",
        "\n",
        "fig = plt.figure(1, figsize=(8,8))\n",
        "ax = Axes3D(fig, rect=[0, 0, .95, 1], elev=48, azim=134)\n",
        "ax.scatter(acc5_svm_scaled.iloc[:,3], acc5_svm_scaled.iloc[:,4], acc5_svm_scaled.iloc[:,5], c=labels.apply(lambda x:colors[x]))\n",
        "ax.set_title(f'ONE CLASS SVM (account_no = {accounts[4]}, outliers_fraction = {100*outliers_fraction}%)', fontsize=14)\n",
        "ax.set_xlabel('withdrawal_amt')\n",
        "ax.set_ylabel('deposit_amt')\n",
        "ax.set_zlabel('balance_amt')"
      ],
      "execution_count": null,
      "outputs": []
    },
    {
      "cell_type": "code",
      "metadata": {
        "colab": {
          "base_uri": "https://localhost:8080/",
          "height": 512
        },
        "id": "NbPmqMcP75Py",
        "outputId": "4a475085-2c30-4db4-8b92-32843ca5e1ab"
      },
      "source": [
        "df = acc5_svm.copy()\n",
        "a= df.loc[df['anomaly_svm']==1, ['date', 'balance_amt']]\n",
        "plt.figure(figsize=(20,8))\n",
        "plt.plot(df['date'], df['balance_amt'], color='blue', label='Normal')\n",
        "plt.scatter(a['date'], a['balance_amt'], color='red', label='Anomaly')\n",
        "plt.title(f'{accounts[4]} OneClassSVM Anomalies')\n",
        "plt.xlabel('Date')\n",
        "plt.ylabel('balance_amt')\n",
        "plt.legend()\n",
        "plt.show()"
      ],
      "execution_count": null,
      "outputs": []
    },
    {
      "cell_type": "markdown",
      "metadata": {
        "id": "X7t6xvNs75Py"
      },
      "source": [
        "#### &emsp;(VI)  OneClassSVM account_no: 409000438611"
      ]
    },
    {
      "cell_type": "code",
      "metadata": {
        "colab": {
          "base_uri": "https://localhost:8080/",
          "height": 162
        },
        "id": "MTnZonyu75Pz",
        "outputId": "11f38c49-0642-4fe1-a26f-f2d0d789706f"
      },
      "source": [
        "acc6_svm = acc6.copy() \n",
        "scaler = StandardScaler()\n",
        "acc6_svm_scaled = pd.DataFrame(scaler.fit_transform(acc6_svm[acc6.columns[2:]]), columns=acc6.columns[2:])\n",
        "acc6_svm_scaled.set_index(acc6_svm.index, drop=True, inplace=True)\n",
        "acc6_svm_scaled.head(3)"
      ],
      "execution_count": null,
      "outputs": []
    },
    {
      "cell_type": "code",
      "metadata": {
        "colab": {
          "base_uri": "https://localhost:8080/"
        },
        "id": "tr-Mejdc75P0",
        "outputId": "007c9546-333f-48ad-b366-5cf3327c6599"
      },
      "source": [
        "outliers_fraction = .005\n",
        "model = OneClassSVM(nu=outliers_fraction, kernel='rbf', gamma=.01)\n",
        "model.fit(acc6_svm_scaled)"
      ],
      "execution_count": null,
      "outputs": []
    },
    {
      "cell_type": "code",
      "metadata": {
        "colab": {
          "base_uri": "https://localhost:8080/"
        },
        "id": "CX8sCUxG75P0",
        "outputId": "c9bb65e5-535e-4355-f50d-165fd7f4f566"
      },
      "source": [
        "acc6_svm_scaled['anomaly_svm'] = pd.Series(model.predict(acc6_svm_scaled)).apply(lambda x: 0 if x==1 else 1).values\n",
        "acc6_svm['anomaly_svm'] = acc6_svm_scaled['anomaly_svm']\n",
        "acc6_svm_scaled['anomaly_svm'].value_counts()"
      ],
      "execution_count": null,
      "outputs": []
    },
    {
      "cell_type": "code",
      "metadata": {
        "colab": {
          "base_uri": "https://localhost:8080/"
        },
        "id": "9gr3-swp75P0",
        "outputId": "c4e8b44a-a908-4296-dc79-6e71c9a9475e"
      },
      "source": [
        "bank_main['svm_6'] = 0\n",
        "bank_main.loc[acc6_svm_scaled.index,'svm_6'] = acc6_svm_scaled['anomaly_svm']\n",
        "bank_main['svm_6'].value_counts()"
      ],
      "execution_count": null,
      "outputs": []
    },
    {
      "cell_type": "code",
      "metadata": {
        "colab": {
          "base_uri": "https://localhost:8080/",
          "height": 624
        },
        "id": "YTtx0e9C75P0",
        "outputId": "fa2fc636-1dda-46a6-d602-604ecb9a9b73"
      },
      "source": [
        "labels = acc6_svm_scaled.anomaly_svm\n",
        "colors = {0:'blue', 1:'red'}\n",
        "\n",
        "fig = plt.figure(1, figsize=(8,8))\n",
        "ax = Axes3D(fig, rect=[0, 0, .95, 1], elev=48, azim=134)\n",
        "ax.scatter(acc6_svm_scaled.iloc[:,3], acc6_svm_scaled.iloc[:,4], acc6_svm_scaled.iloc[:,5], c=labels.apply(lambda x:colors[x]))\n",
        "ax.set_title(f'ONE CLASS SVM (account_no = {accounts[5]}, outliers_fraction = {100*outliers_fraction}%)', fontsize=14)\n",
        "ax.set_xlabel('withdrawal_amt')\n",
        "ax.set_ylabel('deposit_amt')\n",
        "ax.set_zlabel('balance_amt')"
      ],
      "execution_count": null,
      "outputs": []
    },
    {
      "cell_type": "code",
      "metadata": {
        "colab": {
          "base_uri": "https://localhost:8080/",
          "height": 512
        },
        "id": "ovn5dOiK75P1",
        "outputId": "9dad3369-30a4-4a38-9315-f4c1917e12a2"
      },
      "source": [
        "df = acc6_svm.copy()\n",
        "a= df.loc[df['anomaly_svm']==1, ['date', 'balance_amt']]\n",
        "plt.figure(figsize=(20,8))\n",
        "plt.plot(df['date'], df['balance_amt'], color='blue', label='Normal')\n",
        "plt.scatter(a['date'], a['balance_amt'], color='red', label='Anomaly')\n",
        "plt.title(f'{accounts[5]} OneClassSVM Anomalies')\n",
        "plt.xlabel('Date')\n",
        "plt.ylabel('balance_amt')\n",
        "plt.legend()\n",
        "plt.show()"
      ],
      "execution_count": null,
      "outputs": []
    },
    {
      "cell_type": "markdown",
      "metadata": {
        "id": "yB4dxS1g75P1"
      },
      "source": [
        "#### &emsp;(VII)  OneClassSVM account_no: 409000611074"
      ]
    },
    {
      "cell_type": "code",
      "metadata": {
        "colab": {
          "base_uri": "https://localhost:8080/",
          "height": 162
        },
        "id": "6uK-vMaU75P1",
        "outputId": "9bee48c4-ea71-4fc0-d32e-21f27bc95e75"
      },
      "source": [
        "acc7_svm = acc7.copy() \n",
        "scaler = StandardScaler()\n",
        "acc7_svm_scaled = pd.DataFrame(scaler.fit_transform(acc7_svm[acc7.columns[2:]]), columns=acc7.columns[2:])\n",
        "acc7_svm_scaled.set_index(acc7_svm.index, drop=True, inplace=True)\n",
        "acc7_svm_scaled.head(3)"
      ],
      "execution_count": null,
      "outputs": []
    },
    {
      "cell_type": "code",
      "metadata": {
        "colab": {
          "base_uri": "https://localhost:8080/"
        },
        "id": "zK6K9It_75P1",
        "outputId": "fdcd806c-2487-47a6-9516-a4d6274ef3cf"
      },
      "source": [
        "outliers_fraction = .01\n",
        "model = OneClassSVM(nu=outliers_fraction, kernel='rbf', gamma=.01)\n",
        "model.fit(acc7_svm_scaled)"
      ],
      "execution_count": null,
      "outputs": []
    },
    {
      "cell_type": "code",
      "metadata": {
        "colab": {
          "base_uri": "https://localhost:8080/"
        },
        "id": "earQCmBd75P2",
        "outputId": "f56bd0a0-feb4-4248-ec8f-3a3c23a7c4d4"
      },
      "source": [
        "acc7_svm_scaled['anomaly_svm'] = pd.Series(model.predict(acc7_svm_scaled)).apply(lambda x: 0 if x==1 else 1).values\n",
        "acc7_svm['anomaly_svm'] = acc7_svm_scaled['anomaly_svm']\n",
        "acc7_svm_scaled['anomaly_svm'].value_counts()"
      ],
      "execution_count": null,
      "outputs": []
    },
    {
      "cell_type": "code",
      "metadata": {
        "colab": {
          "base_uri": "https://localhost:8080/"
        },
        "id": "p6OVoI9r75P2",
        "outputId": "8a1b4ada-ddc2-4de8-eea8-7b6760446bb9"
      },
      "source": [
        "bank_main['svm_7'] = 0\n",
        "bank_main.loc[acc7_svm_scaled.index,'svm_7'] = acc7_svm_scaled['anomaly_svm']\n",
        "bank_main['svm_7'].value_counts()"
      ],
      "execution_count": null,
      "outputs": []
    },
    {
      "cell_type": "code",
      "metadata": {
        "colab": {
          "base_uri": "https://localhost:8080/",
          "height": 624
        },
        "id": "k2I2zylO75P2",
        "outputId": "7de85513-2e6d-47fd-c012-f928296236f5"
      },
      "source": [
        "labels = acc7_svm_scaled.anomaly_svm\n",
        "colors = {0:'blue', 1:'red'}\n",
        "\n",
        "fig = plt.figure(1, figsize=(8,8))\n",
        "ax = Axes3D(fig, rect=[0, 0, .95, 1], elev=48, azim=134)\n",
        "ax.scatter(acc7_svm_scaled.iloc[:,3], acc7_svm_scaled.iloc[:,4], acc7_svm_scaled.iloc[:,5], c=labels.apply(lambda x:colors[x]))\n",
        "ax.set_title(f'ONE CLASS SVM (account_no = {accounts[6]}, outliers_fraction = {100*outliers_fraction}%)', fontsize=14)\n",
        "ax.set_xlabel('withdrawal_amt')\n",
        "ax.set_ylabel('deposit_amt')\n",
        "ax.set_zlabel('balance_amt')"
      ],
      "execution_count": null,
      "outputs": []
    },
    {
      "cell_type": "code",
      "metadata": {
        "colab": {
          "base_uri": "https://localhost:8080/",
          "height": 512
        },
        "id": "PzAX0-cG75P2",
        "outputId": "7f30effa-3158-46e8-b096-43ffff2c186d"
      },
      "source": [
        "df = acc7_svm.copy()\n",
        "a= df.loc[df['anomaly_svm']==1, ['date', 'balance_amt']]\n",
        "plt.figure(figsize=(20,8))\n",
        "plt.plot(df['date'], df['balance_amt'], color='blue', label='Normal')\n",
        "plt.scatter(a['date'], a['balance_amt'], color='red', label='Anomaly')\n",
        "plt.title(f'{accounts[6]} OneClassSVM Anomalies')\n",
        "plt.xlabel('Date')\n",
        "plt.ylabel('balance_amt')\n",
        "plt.legend()\n",
        "plt.show()"
      ],
      "execution_count": null,
      "outputs": []
    },
    {
      "cell_type": "markdown",
      "metadata": {
        "id": "4uS1DafL75P3"
      },
      "source": [
        "#### &emsp;(VIII)  OneClassSVM account_no: 409000493201"
      ]
    },
    {
      "cell_type": "code",
      "metadata": {
        "colab": {
          "base_uri": "https://localhost:8080/",
          "height": 162
        },
        "id": "f4u_IKnh75P3",
        "outputId": "85e41981-c162-44b0-9674-fca584e872d4"
      },
      "source": [
        "acc8_svm = acc8.copy() \n",
        "scaler = StandardScaler()\n",
        "acc8_svm_scaled = pd.DataFrame(scaler.fit_transform(acc8_svm[acc8.columns[2:]]), columns=acc8.columns[2:])\n",
        "acc8_svm_scaled.set_index(acc8_svm.index, drop=True, inplace=True)\n",
        "acc8_svm_scaled.head(3)"
      ],
      "execution_count": null,
      "outputs": []
    },
    {
      "cell_type": "code",
      "metadata": {
        "colab": {
          "base_uri": "https://localhost:8080/"
        },
        "id": "JMnf7Ydk75P3",
        "outputId": "759f8b30-506a-4fac-f735-33b8e706c1a2"
      },
      "source": [
        "outliers_fraction = .01\n",
        "model = OneClassSVM(nu=outliers_fraction, kernel='rbf', gamma=.01)\n",
        "model.fit(acc8_svm_scaled)"
      ],
      "execution_count": null,
      "outputs": []
    },
    {
      "cell_type": "code",
      "metadata": {
        "colab": {
          "base_uri": "https://localhost:8080/"
        },
        "id": "Q5Cj8J0875P3",
        "outputId": "71d3d3c5-172f-49ef-a122-2ffbc2986c77"
      },
      "source": [
        "acc8_svm_scaled['anomaly_svm'] = pd.Series(model.predict(acc8_svm_scaled)).apply(lambda x: 0 if x==1 else 1).values\n",
        "acc8_svm['anomaly_svm'] = acc8_svm_scaled['anomaly_svm']\n",
        "acc8_svm_scaled['anomaly_svm'].value_counts()"
      ],
      "execution_count": null,
      "outputs": []
    },
    {
      "cell_type": "code",
      "metadata": {
        "colab": {
          "base_uri": "https://localhost:8080/"
        },
        "id": "OlSeKgtI75P3",
        "outputId": "9255a10e-577d-4728-c500-42436cd98dbf"
      },
      "source": [
        "bank_main['svm_8'] = 0\n",
        "bank_main.loc[acc8_svm_scaled.index,'svm_8'] = acc8_svm_scaled['anomaly_svm']\n",
        "bank_main['svm_8'].value_counts()"
      ],
      "execution_count": null,
      "outputs": []
    },
    {
      "cell_type": "code",
      "metadata": {
        "colab": {
          "base_uri": "https://localhost:8080/",
          "height": 624
        },
        "id": "nULocQEe75P4",
        "outputId": "1191c74d-1e18-455a-bc42-33100df9f322"
      },
      "source": [
        "labels = acc8_svm_scaled.anomaly_svm\n",
        "colors = {0:'blue', 1:'red'}\n",
        "\n",
        "fig = plt.figure(1, figsize=(8,8))\n",
        "ax = Axes3D(fig, rect=[0, 0, .95, 1], elev=48, azim=134)\n",
        "ax.scatter(acc8_svm_scaled.iloc[:,3], acc8_svm_scaled.iloc[:,4], acc8_svm_scaled.iloc[:,5], c=labels.apply(lambda x:colors[x]))\n",
        "ax.set_title(f'ONE CLASS SVM (account_no = {accounts[7]}, outliers_fraction = {100*outliers_fraction}%)', fontsize=14)\n",
        "ax.set_xlabel('withdrawal_amt')\n",
        "ax.set_ylabel('deposit_amt')\n",
        "ax.set_zlabel('balance_amt')"
      ],
      "execution_count": null,
      "outputs": []
    },
    {
      "cell_type": "code",
      "metadata": {
        "colab": {
          "base_uri": "https://localhost:8080/",
          "height": 512
        },
        "id": "3jKYwqag75P4",
        "outputId": "52a6191b-d0ae-4035-c8e7-f63b8201bf37"
      },
      "source": [
        "df = acc8_svm.copy()\n",
        "a= df.loc[df['anomaly_svm']==1, ['date', 'balance_amt']]\n",
        "plt.figure(figsize=(20,8))\n",
        "plt.plot(df['date'], df['balance_amt'], color='blue', label='Normal')\n",
        "plt.scatter(a['date'], a['balance_amt'], color='red', label='Anomaly')\n",
        "plt.title(f'{accounts[7]} OneClassSVM Anomalies')\n",
        "plt.xlabel('Date')\n",
        "plt.ylabel('balance_amt')\n",
        "plt.legend()\n",
        "plt.show()"
      ],
      "execution_count": null,
      "outputs": []
    },
    {
      "cell_type": "markdown",
      "metadata": {
        "id": "pVgGqHOT75P4"
      },
      "source": [
        "#### &emsp;(IX)  OneClassSVM account_no: 409000425051"
      ]
    },
    {
      "cell_type": "code",
      "metadata": {
        "colab": {
          "base_uri": "https://localhost:8080/",
          "height": 162
        },
        "id": "sxfq0Uvj75P4",
        "outputId": "73b3b4aa-67bd-4334-a4d1-e18fcbeebe0e"
      },
      "source": [
        "acc9_svm = acc9.copy() \n",
        "scaler = StandardScaler()\n",
        "acc9_svm_scaled = pd.DataFrame(scaler.fit_transform(acc9_svm[acc9.columns[2:]]), columns=acc9.columns[2:])\n",
        "acc9_svm_scaled.set_index(acc9_svm.index, drop=True, inplace=True)\n",
        "acc9_svm_scaled.head(3)"
      ],
      "execution_count": null,
      "outputs": []
    },
    {
      "cell_type": "code",
      "metadata": {
        "colab": {
          "base_uri": "https://localhost:8080/"
        },
        "id": "kJOig0Pg75P4",
        "outputId": "fa00cd08-b5fd-4ea7-f337-4ca4fe00fd63"
      },
      "source": [
        "outliers_fraction = .01\n",
        "model = OneClassSVM(nu=outliers_fraction, kernel='rbf', gamma=.01)\n",
        "model.fit(acc9_svm_scaled)"
      ],
      "execution_count": null,
      "outputs": []
    },
    {
      "cell_type": "code",
      "metadata": {
        "colab": {
          "base_uri": "https://localhost:8080/"
        },
        "id": "xRFvdN9R75P5",
        "outputId": "6e4474bb-c010-4b6a-b68c-86ce01198a71"
      },
      "source": [
        "acc9_svm_scaled['anomaly_svm'] = pd.Series(model.predict(acc9_svm_scaled)).apply(lambda x: 0 if x==1 else 1).values\n",
        "acc9_svm['anomaly_svm'] = acc9_svm_scaled['anomaly_svm']\n",
        "acc9_svm_scaled['anomaly_svm'].value_counts()"
      ],
      "execution_count": null,
      "outputs": []
    },
    {
      "cell_type": "code",
      "metadata": {
        "colab": {
          "base_uri": "https://localhost:8080/"
        },
        "id": "Wp4eoYGe75P5",
        "outputId": "dd407bab-0b18-4a12-de11-83e907a2f66f"
      },
      "source": [
        "bank_main['svm_9'] = 0\n",
        "bank_main.loc[acc9_svm_scaled.index,'svm_9'] = acc9_svm_scaled['anomaly_svm']\n",
        "bank_main['svm_9'].value_counts()"
      ],
      "execution_count": null,
      "outputs": []
    },
    {
      "cell_type": "code",
      "metadata": {
        "colab": {
          "base_uri": "https://localhost:8080/",
          "height": 624
        },
        "id": "nuoBQbmb75P5",
        "outputId": "63545e6a-573f-408b-b3e3-331488a3ebcd"
      },
      "source": [
        "labels = acc9_svm_scaled.anomaly_svm\n",
        "colors = {0:'blue', 1:'red'}\n",
        "\n",
        "fig = plt.figure(1, figsize=(8,8))\n",
        "ax = Axes3D(fig, rect=[0, 0, .95, 1], elev=48, azim=134)\n",
        "ax.scatter(acc9_svm_scaled.iloc[:,3], acc9_svm_scaled.iloc[:,4], acc9_svm_scaled.iloc[:,5], c=labels.apply(lambda x:colors[x]))\n",
        "ax.set_title(f'ONE CLASS SVM (account_no = {accounts[8]}, outliers_fraction = {100*outliers_fraction}%)', fontsize=14)\n",
        "ax.set_xlabel('withdrawal_amt')\n",
        "ax.set_ylabel('deposit_amt')\n",
        "ax.set_zlabel('balance_amt')"
      ],
      "execution_count": null,
      "outputs": []
    },
    {
      "cell_type": "code",
      "metadata": {
        "colab": {
          "base_uri": "https://localhost:8080/",
          "height": 512
        },
        "id": "IAsi2Kip75P5",
        "outputId": "90596a96-1fdd-44a7-8132-6acedd7f1c5e"
      },
      "source": [
        "df = acc9_svm.copy()\n",
        "a= df.loc[df['anomaly_svm']==1, ['date', 'balance_amt']]\n",
        "plt.figure(figsize=(20,8))\n",
        "plt.plot(df['date'], df['balance_amt'], color='blue', label='Normal')\n",
        "plt.scatter(a['date'], a['balance_amt'], color='red', label='Anomaly')\n",
        "plt.title(f'{accounts[8]} OneClassSVM Anomalies')\n",
        "plt.xlabel('Date')\n",
        "plt.ylabel('balance_amt')\n",
        "plt.legend()\n",
        "plt.show()"
      ],
      "execution_count": null,
      "outputs": []
    },
    {
      "cell_type": "markdown",
      "metadata": {
        "id": "J1g25C0o75P5"
      },
      "source": [
        "#### &emsp;(X)  OneClassSVM account_no: 409000405747"
      ]
    },
    {
      "cell_type": "code",
      "metadata": {
        "colab": {
          "base_uri": "https://localhost:8080/",
          "height": 162
        },
        "id": "ghA5Ks-p75P5",
        "outputId": "88508acc-4dcd-4448-d734-6079db7741cb"
      },
      "source": [
        "acc10_svm = acc10.copy() \n",
        "scaler = StandardScaler()\n",
        "acc10_svm_scaled = pd.DataFrame(scaler.fit_transform(acc10_svm[acc10.columns[2:]]), columns=acc10.columns[2:])\n",
        "acc10_svm_scaled.set_index(acc10_svm.index, drop=True, inplace=True)\n",
        "acc10_svm_scaled.head(3)"
      ],
      "execution_count": null,
      "outputs": []
    },
    {
      "cell_type": "code",
      "metadata": {
        "colab": {
          "base_uri": "https://localhost:8080/"
        },
        "id": "rFc57ltr75P5",
        "outputId": "e11c24ea-6ea8-41e7-aded-99f7706cdc52"
      },
      "source": [
        "outliers_fraction = .09\n",
        "model = OneClassSVM(nu=outliers_fraction, kernel='rbf', gamma=.01)\n",
        "model.fit(acc10_svm_scaled)"
      ],
      "execution_count": null,
      "outputs": []
    },
    {
      "cell_type": "code",
      "metadata": {
        "colab": {
          "base_uri": "https://localhost:8080/"
        },
        "id": "lKA2F_ap75P6",
        "outputId": "01286253-b23d-4a85-8074-4b4f4fad95ec"
      },
      "source": [
        "acc10_svm_scaled['anomaly_svm'] = pd.Series(model.predict(acc10_svm_scaled)).apply(lambda x: 0 if x==1 else 1).values\n",
        "acc10_svm['anomaly_svm'] = acc10_svm_scaled['anomaly_svm']\n",
        "acc10_svm_scaled['anomaly_svm'].value_counts()"
      ],
      "execution_count": null,
      "outputs": []
    },
    {
      "cell_type": "code",
      "metadata": {
        "colab": {
          "base_uri": "https://localhost:8080/"
        },
        "id": "IohlJRx-75P6",
        "outputId": "cbfb6004-6cc0-4478-ca9d-4219fba4a760"
      },
      "source": [
        "bank_main['svm_10'] = 0\n",
        "bank_main.loc[acc10_svm_scaled.index,'svm_10'] = acc10_svm_scaled['anomaly_svm']\n",
        "bank_main['svm_10'].value_counts()"
      ],
      "execution_count": null,
      "outputs": []
    },
    {
      "cell_type": "code",
      "metadata": {
        "colab": {
          "base_uri": "https://localhost:8080/",
          "height": 624
        },
        "id": "0hYV6j1z75P6",
        "outputId": "3a48d043-8f41-4f52-b1e9-d6dc6f0dad7c"
      },
      "source": [
        "labels = acc10_svm_scaled.anomaly_svm\n",
        "colors = {0:'blue', 1:'red'}\n",
        "\n",
        "fig = plt.figure(1, figsize=(8,8))\n",
        "ax = Axes3D(fig, rect=[0, 0, .95, 1], elev=48, azim=134)\n",
        "ax.scatter(acc10_svm_scaled.iloc[:,3], acc10_svm_scaled.iloc[:,4], acc10_svm_scaled.iloc[:,5], c=labels.apply(lambda x:colors[x]))\n",
        "ax.set_title(f'ONE CLASS SVM (account_no = {accounts[9]}, outliers_fraction = {100*outliers_fraction}%)', fontsize=14)\n",
        "ax.set_xlabel('withdrawal_amt')\n",
        "ax.set_ylabel('deposit_amt')\n",
        "ax.set_zlabel('balance_amt')"
      ],
      "execution_count": null,
      "outputs": []
    },
    {
      "cell_type": "code",
      "metadata": {
        "colab": {
          "base_uri": "https://localhost:8080/",
          "height": 512
        },
        "id": "OQqoUZeY75P6",
        "outputId": "463adc42-7a9b-4411-a240-929b206c9cda"
      },
      "source": [
        "df = acc10_svm.copy()\n",
        "a= df.loc[df['anomaly_svm']==1, ['date', 'balance_amt']]\n",
        "plt.figure(figsize=(20,8))\n",
        "plt.plot(df['date'], df['balance_amt'], color='blue', label='Normal')\n",
        "plt.scatter(a['date'], a['balance_amt'], color='red', label='Anomaly')\n",
        "plt.title(f'{accounts[9]} OneClassSVM Anomalies')\n",
        "plt.xlabel('Date')\n",
        "plt.ylabel('balance_amt')\n",
        "plt.legend()\n",
        "plt.show()"
      ],
      "execution_count": null,
      "outputs": []
    },
    {
      "cell_type": "code",
      "metadata": {
        "id": "Qd2FTHkP75P6"
      },
      "source": [
        "bank_main['accounts_SVM'] = bank_main.svm_1 + bank_main.svm_2 + bank_main.svm_3 + bank_main.svm_4 + bank_main.svm_5 + bank_main.svm_6 + bank_main.svm_7 + bank_main.svm_8 + bank_main.svm_9 + bank_main.svm_10"
      ],
      "execution_count": null,
      "outputs": []
    },
    {
      "cell_type": "code",
      "metadata": {
        "colab": {
          "base_uri": "https://localhost:8080/"
        },
        "id": "wBWkJ1Vk75P6",
        "outputId": "adecaea7-b91f-444d-fcee-9a3380adb0eb"
      },
      "source": [
        "bank_main['accounts_SVM'].value_counts()"
      ],
      "execution_count": null,
      "outputs": []
    },
    {
      "cell_type": "markdown",
      "metadata": {
        "id": "1WjkV1Sm75P7"
      },
      "source": [
        "### iii. Gaussian Distribution Anomaly Detection (Elliptic Envelope)"
      ]
    },
    {
      "cell_type": "markdown",
      "metadata": {
        "id": "FGNWoigG75P7"
      },
      "source": [
        "#### &emsp;(I)  Gaussian Distribution account_no: 409000405747"
      ]
    },
    {
      "cell_type": "code",
      "metadata": {
        "colab": {
          "base_uri": "https://localhost:8080/",
          "height": 162
        },
        "id": "UuC5wy5y75P7",
        "outputId": "b3efb612-838e-4397-f100-6d09be80cebd"
      },
      "source": [
        "acc1_gauss = acc1.copy() \n",
        "scaler = StandardScaler()\n",
        "acc1_gauss_scaled = pd.DataFrame(scaler.fit_transform(acc1_gauss[acc1.columns[2:]]), columns=acc1.columns[2:])\n",
        "acc1_gauss_scaled.set_index(acc1_gauss.index, drop=True, inplace=True)\n",
        "acc1_gauss_scaled.head(3)"
      ],
      "execution_count": null,
      "outputs": []
    },
    {
      "cell_type": "code",
      "metadata": {
        "colab": {
          "base_uri": "https://localhost:8080/"
        },
        "id": "pIGQ6RGQ75P7",
        "outputId": "3564c6fd-df8f-4edb-ce2a-208ce3b252e2"
      },
      "source": [
        "outliers_fraction = .005\n",
        "model = EllipticEnvelope(contamination=outliers_fraction)\n",
        "model.fit(acc1_gauss_scaled)"
      ],
      "execution_count": null,
      "outputs": []
    },
    {
      "cell_type": "code",
      "metadata": {
        "colab": {
          "base_uri": "https://localhost:8080/"
        },
        "id": "SAvn1BwI75P7",
        "outputId": "7168e4aa-9713-4482-80fd-2f07051453e4"
      },
      "source": [
        "acc1_gauss_scaled['anomaly_gauss'] = pd.Series(model.predict(acc1_gauss_scaled)).apply(lambda x: 0 if x==1 else 1).values\n",
        "acc1_gauss['anomaly_gauss'] = acc1_gauss_scaled['anomaly_gauss']\n",
        "acc1_gauss_scaled['anomaly_gauss'].value_counts()"
      ],
      "execution_count": null,
      "outputs": []
    },
    {
      "cell_type": "code",
      "metadata": {
        "colab": {
          "base_uri": "https://localhost:8080/"
        },
        "id": "zBXsAIbd75P7",
        "outputId": "a4d8d1d0-9e50-4bae-db07-ddc07396d167"
      },
      "source": [
        "bank_main['gauss_1'] = 0\n",
        "bank_main.loc[acc1_gauss_scaled.index,'gauss_1'] = acc1_gauss_scaled['anomaly_gauss']\n",
        "bank_main['gauss_1'].value_counts()"
      ],
      "execution_count": null,
      "outputs": []
    },
    {
      "cell_type": "code",
      "metadata": {
        "colab": {
          "base_uri": "https://localhost:8080/",
          "height": 624
        },
        "id": "EclNicHR75P7",
        "outputId": "fd0a79f9-3873-4489-834d-c2b900f08d26"
      },
      "source": [
        "labels = acc1_gauss_scaled.anomaly_gauss\n",
        "colors = {0:'blue', 1:'red'}\n",
        "\n",
        "fig = plt.figure(1, figsize=(8,8))\n",
        "ax = Axes3D(fig, rect=[0, 0, .95, 1], elev=48, azim=134)\n",
        "ax.scatter(acc1_gauss_scaled.iloc[:,3], acc1_gauss_scaled.iloc[:,4], acc1_gauss_scaled.iloc[:,5], c=labels.apply(lambda x:colors[x]))\n",
        "ax.set_title(f'GAUSSIAN DISTRIBUTION (account_no = {accounts[0]}, outliers_fraction = {100*outliers_fraction}%)', fontsize=14)\n",
        "ax.set_xlabel('withdrawal_amt')\n",
        "ax.set_ylabel('deposit_amt')\n",
        "ax.set_zlabel('balance_amt')"
      ],
      "execution_count": null,
      "outputs": []
    },
    {
      "cell_type": "code",
      "metadata": {
        "colab": {
          "base_uri": "https://localhost:8080/",
          "height": 512
        },
        "id": "Y116ePL_75P8",
        "outputId": "0295ae1a-edd9-4946-859c-cf68cc347fdb"
      },
      "source": [
        "df = acc1_gauss.copy()\n",
        "a= df.loc[df['anomaly_gauss']==1, ['date', 'balance_amt']]\n",
        "plt.figure(figsize=(20,8))\n",
        "plt.plot(df['date'], df['balance_amt'], color='blue', label='Normal')\n",
        "plt.scatter(a['date'], a['balance_amt'], color='red', label='Anomaly')\n",
        "plt.title(f'{accounts[0]} Gaussian Distribution Anomalies')\n",
        "plt.xlabel('Date')\n",
        "plt.ylabel('balance_amt')\n",
        "plt.legend()\n",
        "plt.show()"
      ],
      "execution_count": null,
      "outputs": []
    },
    {
      "cell_type": "markdown",
      "metadata": {
        "id": "k8bGR5fs75P8"
      },
      "source": [
        "#### &emsp;(II)  Gaussian Distribution account_no: 409000362497"
      ]
    },
    {
      "cell_type": "code",
      "metadata": {
        "colab": {
          "base_uri": "https://localhost:8080/",
          "height": 162
        },
        "id": "o9sgCyGE75P8",
        "outputId": "6c00c61c-acbd-4e30-b4bb-e661094410f2"
      },
      "source": [
        "acc2_gauss = acc2.copy() \n",
        "scaler = StandardScaler()\n",
        "acc2_gauss_scaled = pd.DataFrame(scaler.fit_transform(acc2_gauss[acc2.columns[2:]]), columns=acc2.columns[2:])\n",
        "acc2_gauss_scaled.set_index(acc2_gauss.index, drop=True, inplace=True)\n",
        "acc2_gauss_scaled.head(3)"
      ],
      "execution_count": null,
      "outputs": []
    },
    {
      "cell_type": "code",
      "metadata": {
        "colab": {
          "base_uri": "https://localhost:8080/"
        },
        "id": "iu9HrJtO75P8",
        "outputId": "384805b4-ebaf-4f05-c584-3447ea35ed4b"
      },
      "source": [
        "outliers_fraction = .005\n",
        "model = EllipticEnvelope(contamination=outliers_fraction)\n",
        "model.fit(acc2_gauss_scaled)"
      ],
      "execution_count": null,
      "outputs": []
    },
    {
      "cell_type": "code",
      "metadata": {
        "colab": {
          "base_uri": "https://localhost:8080/"
        },
        "id": "_Qjy5xgS75P8",
        "outputId": "d307d713-8002-4fff-f54d-87eefa555931"
      },
      "source": [
        "acc2_gauss_scaled['anomaly_gauss'] = pd.Series(model.predict(acc2_gauss_scaled)).apply(lambda x: 0 if x==1 else 1).values\n",
        "acc2_gauss['anomaly_gauss'] = acc2_gauss_scaled['anomaly_gauss']\n",
        "acc2_gauss_scaled['anomaly_gauss'].value_counts()"
      ],
      "execution_count": null,
      "outputs": []
    },
    {
      "cell_type": "code",
      "metadata": {
        "colab": {
          "base_uri": "https://localhost:8080/"
        },
        "id": "BXtjNM-J75P8",
        "outputId": "e2d2c8d0-ddfe-44bd-8197-60f864614cdb"
      },
      "source": [
        "bank_main['gauss_2'] = 0\n",
        "bank_main.loc[acc2_gauss_scaled.index,'gauss_2'] = acc2_gauss_scaled['anomaly_gauss']\n",
        "bank_main['gauss_2'].value_counts()"
      ],
      "execution_count": null,
      "outputs": []
    },
    {
      "cell_type": "code",
      "metadata": {
        "colab": {
          "base_uri": "https://localhost:8080/",
          "height": 624
        },
        "id": "CWi7rDd175P8",
        "outputId": "4ed893c9-b692-445a-a333-3cd9b684e5d3"
      },
      "source": [
        "labels = acc2_gauss_scaled.anomaly_gauss\n",
        "colors = {0:'blue', 1:'red'}\n",
        "\n",
        "fig = plt.figure(1, figsize=(8,8))\n",
        "ax = Axes3D(fig, rect=[0, 0, .95, 1], elev=48, azim=134)\n",
        "ax.scatter(acc2_gauss_scaled.iloc[:,3], acc2_gauss_scaled.iloc[:,4], acc2_gauss_scaled.iloc[:,5], c=labels.apply(lambda x:colors[x]))\n",
        "ax.set_title(f'GAUSSIAN DISTRIBUTION (account_no = {accounts[1]}, outliers_fraction = {100*outliers_fraction}%)', fontsize=14)\n",
        "ax.set_xlabel('withdrawal_amt')\n",
        "ax.set_ylabel('deposit_amt')\n",
        "ax.set_zlabel('balance_amt')"
      ],
      "execution_count": null,
      "outputs": []
    },
    {
      "cell_type": "code",
      "metadata": {
        "colab": {
          "base_uri": "https://localhost:8080/",
          "height": 512
        },
        "id": "RuU0Oo4775P9",
        "outputId": "658a2eac-77a1-4179-fe59-c78277d38196"
      },
      "source": [
        "df = acc2_gauss.copy()\n",
        "a= df.loc[df['anomaly_gauss']==1, ['date', 'balance_amt']]\n",
        "plt.figure(figsize=(20,8))\n",
        "plt.plot(df['date'], df['balance_amt'], color='blue', label='Normal')\n",
        "plt.scatter(a['date'], a['balance_amt'], color='red', label='Anomaly')\n",
        "plt.title(f'{accounts[1]} Gaussian Distribution Anomalies')\n",
        "plt.xlabel('Date')\n",
        "plt.ylabel('balance_amt')\n",
        "plt.legend()\n",
        "plt.show()"
      ],
      "execution_count": null,
      "outputs": []
    },
    {
      "cell_type": "markdown",
      "metadata": {
        "id": "wAsZYHf975P9"
      },
      "source": [
        "#### &emsp;(III)  Gaussian Distribution account_no: 409000438620"
      ]
    },
    {
      "cell_type": "code",
      "metadata": {
        "colab": {
          "base_uri": "https://localhost:8080/",
          "height": 162
        },
        "id": "XcEsisbl75P9",
        "outputId": "ee690351-cbb3-41ad-c4ed-29fec0f435d0"
      },
      "source": [
        "acc3_gauss = acc3.copy() \n",
        "scaler = StandardScaler()\n",
        "acc3_gauss_scaled = pd.DataFrame(scaler.fit_transform(acc3_gauss[acc3.columns[2:]]), columns=acc3.columns[2:])\n",
        "acc3_gauss_scaled.set_index(acc3_gauss.index, drop=True, inplace=True)\n",
        "acc3_gauss_scaled.head(3)"
      ],
      "execution_count": null,
      "outputs": []
    },
    {
      "cell_type": "code",
      "metadata": {
        "colab": {
          "base_uri": "https://localhost:8080/"
        },
        "id": "DF-nrR9_75P9",
        "outputId": "533f8ee3-f8ec-4a93-e5af-81e023d2a1bb"
      },
      "source": [
        "outliers_fraction = .005\n",
        "model = EllipticEnvelope(contamination=outliers_fraction)\n",
        "model.fit(acc3_gauss_scaled)"
      ],
      "execution_count": null,
      "outputs": []
    },
    {
      "cell_type": "code",
      "metadata": {
        "colab": {
          "base_uri": "https://localhost:8080/"
        },
        "id": "5PnQE3hc75P9",
        "outputId": "d2fa33e7-ce66-455c-e64e-f4ade883eb11"
      },
      "source": [
        "acc3_gauss_scaled['anomaly_gauss'] = pd.Series(model.predict(acc3_gauss_scaled)).apply(lambda x: 0 if x==1 else 1).values\n",
        "acc3_gauss['anomaly_gauss'] = acc3_gauss_scaled['anomaly_gauss']\n",
        "acc3_gauss_scaled['anomaly_gauss'].value_counts()"
      ],
      "execution_count": null,
      "outputs": []
    },
    {
      "cell_type": "code",
      "metadata": {
        "colab": {
          "base_uri": "https://localhost:8080/"
        },
        "id": "JPDP3vTY75P-",
        "outputId": "0fa1afc4-ad09-4e77-cfb9-ecb57fa32175"
      },
      "source": [
        "bank_main['gauss_3'] = 0\n",
        "bank_main.loc[acc3_gauss_scaled.index,'gauss_3'] = acc3_gauss_scaled['anomaly_gauss']\n",
        "bank_main['gauss_3'].value_counts()"
      ],
      "execution_count": null,
      "outputs": []
    },
    {
      "cell_type": "code",
      "metadata": {
        "colab": {
          "base_uri": "https://localhost:8080/",
          "height": 624
        },
        "id": "QU4T-GI_75P-",
        "outputId": "3da4d84a-f7e1-4140-ac67-45e290f65188"
      },
      "source": [
        "labels = acc3_gauss_scaled.anomaly_gauss\n",
        "colors = {0:'blue', 1:'red'}\n",
        "\n",
        "fig = plt.figure(1, figsize=(8,8))\n",
        "ax = Axes3D(fig, rect=[0, 0, .95, 1], elev=48, azim=134)\n",
        "ax.scatter(acc3_gauss_scaled.iloc[:,3], acc3_gauss_scaled.iloc[:,4], acc3_gauss_scaled.iloc[:,5], c=labels.apply(lambda x:colors[x]))\n",
        "ax.set_title(f'GAUSSIAN DISTRIBUTION (account_no = {accounts[2]}, outliers_fraction = {100*outliers_fraction}%)', fontsize=14)\n",
        "ax.set_xlabel('withdrawal_amt')\n",
        "ax.set_ylabel('deposit_amt')\n",
        "ax.set_zlabel('balance_amt')"
      ],
      "execution_count": null,
      "outputs": []
    },
    {
      "cell_type": "code",
      "metadata": {
        "colab": {
          "base_uri": "https://localhost:8080/",
          "height": 512
        },
        "id": "8E6joOu275P-",
        "outputId": "bf0ef8cd-b1f4-4053-c044-ec935aad57a0"
      },
      "source": [
        "df = acc3_gauss.copy()\n",
        "a= df.loc[df['anomaly_gauss']==1, ['date', 'balance_amt']]\n",
        "plt.figure(figsize=(20,8))\n",
        "plt.plot(df['date'], df['balance_amt'], color='blue', label='Normal')\n",
        "plt.scatter(a['date'], a['balance_amt'], color='red', label='Anomaly')\n",
        "plt.title(f'{accounts[2]} Gaussian Distribution Anomalies')\n",
        "plt.xlabel('Date')\n",
        "plt.ylabel('balance_amt')\n",
        "plt.legend()\n",
        "plt.show()"
      ],
      "execution_count": null,
      "outputs": []
    },
    {
      "cell_type": "markdown",
      "metadata": {
        "id": "W3sgaVaO75P-"
      },
      "source": [
        "#### &emsp;(IV)  Gaussian Distribution account_no: 1196711"
      ]
    },
    {
      "cell_type": "code",
      "metadata": {
        "colab": {
          "base_uri": "https://localhost:8080/",
          "height": 162
        },
        "id": "Ru_zntZr75P-",
        "outputId": "51cbdd58-9b9d-458a-e4a2-54e243fec04b"
      },
      "source": [
        "acc4_gauss = acc4.copy() \n",
        "scaler = StandardScaler()\n",
        "acc4_gauss_scaled = pd.DataFrame(scaler.fit_transform(acc4_gauss[acc4.columns[2:]]), columns=acc4.columns[2:])\n",
        "acc4_gauss_scaled.set_index(acc4_gauss.index, drop=True, inplace=True)\n",
        "acc4_gauss_scaled.head(3)"
      ],
      "execution_count": null,
      "outputs": []
    },
    {
      "cell_type": "code",
      "metadata": {
        "colab": {
          "base_uri": "https://localhost:8080/"
        },
        "id": "yTvEBZBs75P_",
        "outputId": "3ea3a481-6f2a-4c7b-d1da-634485372978"
      },
      "source": [
        "outliers_fraction = .005\n",
        "model = EllipticEnvelope(contamination=outliers_fraction)\n",
        "model.fit(acc4_gauss_scaled)"
      ],
      "execution_count": null,
      "outputs": []
    },
    {
      "cell_type": "code",
      "metadata": {
        "colab": {
          "base_uri": "https://localhost:8080/"
        },
        "id": "F7_FoFmt75P_",
        "outputId": "02edb285-5998-4646-cf11-9133e65fc101"
      },
      "source": [
        "acc4_gauss_scaled['anomaly_gauss'] = pd.Series(model.predict(acc4_gauss_scaled)).apply(lambda x: 0 if x==1 else 1).values\n",
        "acc4_gauss['anomaly_gauss'] = acc4_gauss_scaled['anomaly_gauss']\n",
        "acc4_gauss_scaled['anomaly_gauss'].value_counts()"
      ],
      "execution_count": null,
      "outputs": []
    },
    {
      "cell_type": "code",
      "metadata": {
        "colab": {
          "base_uri": "https://localhost:8080/"
        },
        "id": "LuSeNRyl75P_",
        "outputId": "bb771241-06b2-461b-fb03-ee88136cfdc2"
      },
      "source": [
        "bank_main['gauss_4'] = 0\n",
        "bank_main.loc[acc4_gauss_scaled.index,'gauss_4'] = acc4_gauss_scaled['anomaly_gauss']\n",
        "bank_main['gauss_4'].value_counts()"
      ],
      "execution_count": null,
      "outputs": []
    },
    {
      "cell_type": "code",
      "metadata": {
        "colab": {
          "base_uri": "https://localhost:8080/",
          "height": 624
        },
        "id": "pGYL2_Ve75P_",
        "outputId": "edb7170a-b6c2-4389-e6e5-1a54366e2d91"
      },
      "source": [
        "labels = acc4_gauss_scaled.anomaly_gauss\n",
        "colors = {0:'blue', 1:'red'}\n",
        "\n",
        "fig = plt.figure(1, figsize=(8,8))\n",
        "ax = Axes3D(fig, rect=[0, 0, .95, 1], elev=48, azim=134)\n",
        "ax.scatter(acc4_gauss_scaled.iloc[:,3], acc4_gauss_scaled.iloc[:,4], acc4_gauss_scaled.iloc[:,5], c=labels.apply(lambda x:colors[x]))\n",
        "ax.set_title(f'GAUSSIAN DISTRIBUTION (account_no = {accounts[3]}, outliers_fraction = {100*outliers_fraction}%)', fontsize=14)\n",
        "ax.set_xlabel('withdrawal_amt')\n",
        "ax.set_ylabel('deposit_amt')\n",
        "ax.set_zlabel('balance_amt')"
      ],
      "execution_count": null,
      "outputs": []
    },
    {
      "cell_type": "code",
      "metadata": {
        "colab": {
          "base_uri": "https://localhost:8080/",
          "height": 512
        },
        "id": "aXtSbKYu75P_",
        "outputId": "46caa565-8fac-4e7b-871e-c59efdac2359"
      },
      "source": [
        "df = acc4_gauss.copy()\n",
        "a= df.loc[df['anomaly_gauss']==1, ['date', 'balance_amt']]\n",
        "plt.figure(figsize=(20,8))\n",
        "plt.plot(df['date'], df['balance_amt'], color='blue', label='Normal')\n",
        "plt.scatter(a['date'], a['balance_amt'], color='red', label='Anomaly')\n",
        "plt.title(f'{accounts[3]} Gaussian Distribution Anomalies')\n",
        "plt.xlabel('Date')\n",
        "plt.ylabel('balance_amt')\n",
        "plt.legend()\n",
        "plt.show()"
      ],
      "execution_count": null,
      "outputs": []
    },
    {
      "cell_type": "markdown",
      "metadata": {
        "id": "961XPAOX75QA"
      },
      "source": [
        "#### &emsp;(V)  Gaussian Distribution account_no: 409000493210"
      ]
    },
    {
      "cell_type": "code",
      "metadata": {
        "colab": {
          "base_uri": "https://localhost:8080/",
          "height": 162
        },
        "id": "XKgmO6eB75QB",
        "outputId": "42fbcddd-014e-41e1-b082-1c02e2fc3371"
      },
      "source": [
        "acc5_gauss = acc5.copy() \n",
        "scaler = StandardScaler()\n",
        "acc5_gauss_scaled = pd.DataFrame(scaler.fit_transform(acc5_gauss[acc5.columns[2:]]), columns=acc5.columns[2:])\n",
        "acc5_gauss_scaled.set_index(acc5_gauss.index, drop=True, inplace=True)\n",
        "acc5_gauss_scaled.head(3)"
      ],
      "execution_count": null,
      "outputs": []
    },
    {
      "cell_type": "code",
      "metadata": {
        "colab": {
          "base_uri": "https://localhost:8080/"
        },
        "id": "TF2EOyEY75QB",
        "outputId": "4e9b70b7-b2ca-420d-fc8c-41da1af33e3f"
      },
      "source": [
        "outliers_fraction = .005\n",
        "model = EllipticEnvelope(contamination=outliers_fraction)\n",
        "model.fit(acc5_gauss_scaled)"
      ],
      "execution_count": null,
      "outputs": []
    },
    {
      "cell_type": "code",
      "metadata": {
        "colab": {
          "base_uri": "https://localhost:8080/"
        },
        "id": "za00B_w175QC",
        "outputId": "5cd10284-c5b8-4d8b-ebed-6e4f5d9080b2"
      },
      "source": [
        "acc5_gauss_scaled['anomaly_gauss'] = pd.Series(model.predict(acc5_gauss_scaled)).apply(lambda x: 0 if x==1 else 1).values\n",
        "acc5_gauss['anomaly_gauss'] = acc5_gauss_scaled['anomaly_gauss']\n",
        "acc5_gauss_scaled['anomaly_gauss'].value_counts()"
      ],
      "execution_count": null,
      "outputs": []
    },
    {
      "cell_type": "code",
      "metadata": {
        "colab": {
          "base_uri": "https://localhost:8080/"
        },
        "id": "zY5KDCJE75QC",
        "outputId": "caf3f89d-1da8-469c-9b12-be777dc16ce9"
      },
      "source": [
        "bank_main['gauss_5'] = 0\n",
        "bank_main.loc[acc5_gauss_scaled.index,'gauss_5'] = acc5_gauss_scaled['anomaly_gauss']\n",
        "bank_main['gauss_5'].value_counts()"
      ],
      "execution_count": null,
      "outputs": []
    },
    {
      "cell_type": "code",
      "metadata": {
        "colab": {
          "base_uri": "https://localhost:8080/",
          "height": 624
        },
        "id": "iQbHoQnL75QC",
        "outputId": "86a8c848-6c66-4a7a-f64f-cc4fa0bf0563"
      },
      "source": [
        "labels = acc5_gauss_scaled.anomaly_gauss\n",
        "colors = {0:'blue', 1:'red'}\n",
        "\n",
        "fig = plt.figure(1, figsize=(8,8))\n",
        "ax = Axes3D(fig, rect=[0, 0, .95, 1], elev=48, azim=134)\n",
        "ax.scatter(acc5_gauss_scaled.iloc[:,3], acc5_gauss_scaled.iloc[:,4], acc5_gauss_scaled.iloc[:,5], c=labels.apply(lambda x:colors[x]))\n",
        "ax.set_title(f'GAUSSIAN DISTRIBUTION (account_no = {accounts[4]}, outliers_fraction = {100*outliers_fraction}%)', fontsize=14)\n",
        "ax.set_xlabel('withdrawal_amt')\n",
        "ax.set_ylabel('deposit_amt')\n",
        "ax.set_zlabel('balance_amt')"
      ],
      "execution_count": null,
      "outputs": []
    },
    {
      "cell_type": "code",
      "metadata": {
        "colab": {
          "base_uri": "https://localhost:8080/",
          "height": 512
        },
        "id": "hP9S-Ozb75QC",
        "outputId": "de2e4a15-fc4b-4cd2-e371-99092f85f5b9"
      },
      "source": [
        "df = acc5_gauss.copy()\n",
        "a= df.loc[df['anomaly_gauss']==1, ['date', 'balance_amt']]\n",
        "plt.figure(figsize=(20,8))\n",
        "plt.plot(df['date'], df['balance_amt'], color='blue', label='Normal')\n",
        "plt.scatter(a['date'], a['balance_amt'], color='red', label='Anomaly')\n",
        "plt.title(f'{accounts[4]} Gaussian Distribution Anomalies')\n",
        "plt.xlabel('Date')\n",
        "plt.ylabel('balance_amt')\n",
        "plt.legend()\n",
        "plt.show()"
      ],
      "execution_count": null,
      "outputs": []
    },
    {
      "cell_type": "markdown",
      "metadata": {
        "id": "b6f4igPO75QD"
      },
      "source": [
        "#### &emsp;(VI)  Gaussian Distribution account_no: 409000438611"
      ]
    },
    {
      "cell_type": "code",
      "metadata": {
        "colab": {
          "base_uri": "https://localhost:8080/",
          "height": 162
        },
        "id": "Lukfg28a75QE",
        "outputId": "65090df1-77b0-43e9-e457-a93e61098007"
      },
      "source": [
        "acc6_gauss = acc6.copy() \n",
        "scaler = StandardScaler()\n",
        "acc6_gauss_scaled = pd.DataFrame(scaler.fit_transform(acc6_gauss[acc6.columns[2:]]), columns=acc6.columns[2:])\n",
        "acc6_gauss_scaled.set_index(acc6_gauss.index, drop=True, inplace=True)\n",
        "acc6_gauss_scaled.head(3)"
      ],
      "execution_count": null,
      "outputs": []
    },
    {
      "cell_type": "code",
      "metadata": {
        "colab": {
          "base_uri": "https://localhost:8080/"
        },
        "id": "Oyla7yqp75QE",
        "outputId": "5da2d046-cbbb-4266-f529-c1ae04cecd66"
      },
      "source": [
        "outliers_fraction = .005\n",
        "model = EllipticEnvelope(contamination=outliers_fraction)\n",
        "model.fit(acc6_gauss_scaled)"
      ],
      "execution_count": null,
      "outputs": []
    },
    {
      "cell_type": "code",
      "metadata": {
        "colab": {
          "base_uri": "https://localhost:8080/"
        },
        "id": "o8cuNASG75QE",
        "outputId": "86dc932a-185c-41b2-9676-cbe560734864"
      },
      "source": [
        "acc6_gauss_scaled['anomaly_gauss'] = pd.Series(model.predict(acc6_gauss_scaled)).apply(lambda x: 0 if x==1 else 1).values\n",
        "acc6_gauss['anomaly_gauss'] = acc6_gauss_scaled['anomaly_gauss']\n",
        "acc6_gauss_scaled['anomaly_gauss'].value_counts()"
      ],
      "execution_count": null,
      "outputs": []
    },
    {
      "cell_type": "code",
      "metadata": {
        "colab": {
          "base_uri": "https://localhost:8080/"
        },
        "id": "LKx4dwNQ75QF",
        "outputId": "b5485ac3-7d62-43a0-8b60-2aebc1c68018"
      },
      "source": [
        "bank_main['gauss_6'] = 0\n",
        "bank_main.loc[acc6_gauss_scaled.index,'gauss_6'] = acc6_gauss_scaled['anomaly_gauss']\n",
        "bank_main['gauss_6'].value_counts()"
      ],
      "execution_count": null,
      "outputs": []
    },
    {
      "cell_type": "code",
      "metadata": {
        "colab": {
          "base_uri": "https://localhost:8080/",
          "height": 624
        },
        "id": "Z9MQKaje75QF",
        "outputId": "5732aba4-0944-4f69-f777-5ba8fee90b68"
      },
      "source": [
        "labels = acc6_gauss_scaled.anomaly_gauss\n",
        "colors = {0:'blue', 1:'red'}\n",
        "\n",
        "fig = plt.figure(1, figsize=(8,8))\n",
        "ax = Axes3D(fig, rect=[0, 0, .95, 1], elev=48, azim=134)\n",
        "ax.scatter(acc6_gauss_scaled.iloc[:,3], acc6_gauss_scaled.iloc[:,4], acc6_gauss_scaled.iloc[:,5], c=labels.apply(lambda x:colors[x]))\n",
        "ax.set_title(f'GAUSSIAN DISTRIBUTION (account_no = {accounts[5]}, outliers_fraction = {100*outliers_fraction}%)', fontsize=14)\n",
        "ax.set_xlabel('withdrawal_amt')\n",
        "ax.set_ylabel('deposit_amt')\n",
        "ax.set_zlabel('balance_amt')"
      ],
      "execution_count": null,
      "outputs": []
    },
    {
      "cell_type": "code",
      "metadata": {
        "colab": {
          "base_uri": "https://localhost:8080/",
          "height": 512
        },
        "id": "avuFbI9Y75QG",
        "outputId": "d17e3af4-979a-42b5-993f-b75e4faf7e57"
      },
      "source": [
        "df = acc6_gauss.copy()\n",
        "a= df.loc[df['anomaly_gauss']==1, ['date', 'balance_amt']]\n",
        "plt.figure(figsize=(20,8))\n",
        "plt.plot(df['date'], df['balance_amt'], color='blue', label='Normal')\n",
        "plt.scatter(a['date'], a['balance_amt'], color='red', label='Anomaly')\n",
        "plt.title(f'{accounts[5]} Gaussian Distribution Anomalies')\n",
        "plt.xlabel('Date')\n",
        "plt.ylabel('balance_amt')\n",
        "plt.legend()\n",
        "plt.show()"
      ],
      "execution_count": null,
      "outputs": []
    },
    {
      "cell_type": "markdown",
      "metadata": {
        "id": "4vSHCU5C75QH"
      },
      "source": [
        "#### &emsp;(VII)  Gaussian Distribution account_no: 409000611074"
      ]
    },
    {
      "cell_type": "code",
      "metadata": {
        "colab": {
          "base_uri": "https://localhost:8080/",
          "height": 162
        },
        "id": "bT4SFPx-75QH",
        "outputId": "88551396-3b43-43d4-b4ad-7b51343dee6d"
      },
      "source": [
        "acc7_gauss = acc7.copy() \n",
        "scaler = StandardScaler()\n",
        "acc7_gauss_scaled = pd.DataFrame(scaler.fit_transform(acc7_gauss[acc7.columns[2:]]), columns=acc7.columns[2:])\n",
        "acc7_gauss_scaled.set_index(acc7_gauss.index, drop=True, inplace=True)\n",
        "acc7_gauss_scaled.head(3)"
      ],
      "execution_count": null,
      "outputs": []
    },
    {
      "cell_type": "code",
      "metadata": {
        "colab": {
          "base_uri": "https://localhost:8080/"
        },
        "id": "zqj-ZmI_75QI",
        "outputId": "c3629c96-e998-4554-8229-37a833e222d2"
      },
      "source": [
        "outliers_fraction = .01\n",
        "model = EllipticEnvelope(contamination=outliers_fraction)\n",
        "model.fit(acc7_gauss_scaled)"
      ],
      "execution_count": null,
      "outputs": []
    },
    {
      "cell_type": "code",
      "metadata": {
        "colab": {
          "base_uri": "https://localhost:8080/"
        },
        "id": "qihUuuez75QI",
        "outputId": "3e5f1baa-f3fc-4650-fad3-cc9117392cf0"
      },
      "source": [
        "acc7_gauss_scaled['anomaly_gauss'] = pd.Series(model.predict(acc7_gauss_scaled)).apply(lambda x: 0 if x==1 else 1).values\n",
        "acc7_gauss['anomaly_gauss'] = acc7_gauss_scaled['anomaly_gauss']\n",
        "acc7_gauss_scaled['anomaly_gauss'].value_counts()"
      ],
      "execution_count": null,
      "outputs": []
    },
    {
      "cell_type": "code",
      "metadata": {
        "colab": {
          "base_uri": "https://localhost:8080/"
        },
        "id": "Js9vuMTA75QI",
        "outputId": "cfd2120c-580a-4c62-f937-6e3f01d07b4e"
      },
      "source": [
        "bank_main['gauss_7'] = 0\n",
        "bank_main.loc[acc7_gauss_scaled.index,'gauss_7'] = acc7_gauss_scaled['anomaly_gauss']\n",
        "bank_main['gauss_7'].value_counts()"
      ],
      "execution_count": null,
      "outputs": []
    },
    {
      "cell_type": "code",
      "metadata": {
        "colab": {
          "base_uri": "https://localhost:8080/",
          "height": 624
        },
        "id": "Y3WcmC2t75QI",
        "outputId": "66610250-c141-44a8-fd0e-32f438e21b78"
      },
      "source": [
        "labels = acc7_gauss_scaled.anomaly_gauss\n",
        "colors = {0:'blue', 1:'red'}\n",
        "\n",
        "fig = plt.figure(1, figsize=(8,8))\n",
        "ax = Axes3D(fig, rect=[0, 0, .95, 1], elev=48, azim=134)\n",
        "ax.scatter(acc7_gauss_scaled.iloc[:,3], acc7_gauss_scaled.iloc[:,4], acc7_gauss_scaled.iloc[:,5], c=labels.apply(lambda x:colors[x]))\n",
        "ax.set_title(f'GAUSSIAN DISTRIBUTION (account_no = {accounts[6]}, outliers_fraction = {100*outliers_fraction}%)', fontsize=14)\n",
        "ax.set_xlabel('withdrawal_amt')\n",
        "ax.set_ylabel('deposit_amt')\n",
        "ax.set_zlabel('balance_amt')"
      ],
      "execution_count": null,
      "outputs": []
    },
    {
      "cell_type": "code",
      "metadata": {
        "colab": {
          "base_uri": "https://localhost:8080/",
          "height": 512
        },
        "id": "utekmdg375QJ",
        "outputId": "5bea60ae-e56a-4d2f-9a4e-8ab77816581d"
      },
      "source": [
        "df = acc7_gauss.copy()\n",
        "a= df.loc[df['anomaly_gauss']==1, ['date', 'balance_amt']]\n",
        "plt.figure(figsize=(20,8))\n",
        "plt.plot(df['date'], df['balance_amt'], color='blue', label='Normal')\n",
        "plt.scatter(a['date'], a['balance_amt'], color='red', label='Anomaly')\n",
        "plt.title(f'{accounts[6]} Gaussian Distribution Anomalies')\n",
        "plt.xlabel('Date')\n",
        "plt.ylabel('balance_amt')\n",
        "plt.legend()\n",
        "plt.show()"
      ],
      "execution_count": null,
      "outputs": []
    },
    {
      "cell_type": "markdown",
      "metadata": {
        "id": "73bxckqt75QJ"
      },
      "source": [
        "#### &emsp;(VIII)  Gaussian Distribution account_no: 409000493201"
      ]
    },
    {
      "cell_type": "code",
      "metadata": {
        "colab": {
          "base_uri": "https://localhost:8080/",
          "height": 162
        },
        "id": "UNo2Y3Ay75QJ",
        "outputId": "8bd6b915-2bff-400f-8a67-10be1c6555ab"
      },
      "source": [
        "acc8_gauss = acc8.copy() \n",
        "scaler = StandardScaler()\n",
        "acc8_gauss_scaled = pd.DataFrame(scaler.fit_transform(acc8_gauss[acc5.columns[2:]]), columns=acc8.columns[2:])\n",
        "acc8_gauss_scaled.set_index(acc8_gauss.index, drop=True, inplace=True)\n",
        "acc8_gauss_scaled.head(3)"
      ],
      "execution_count": null,
      "outputs": []
    },
    {
      "cell_type": "code",
      "metadata": {
        "colab": {
          "base_uri": "https://localhost:8080/"
        },
        "id": "T7uTiaWp75QJ",
        "outputId": "b46c5f03-03e2-4709-dc23-6ffdb64f94dd"
      },
      "source": [
        "outliers_fraction = .01\n",
        "model = EllipticEnvelope(contamination=outliers_fraction)\n",
        "model.fit(acc8_gauss_scaled)"
      ],
      "execution_count": null,
      "outputs": []
    },
    {
      "cell_type": "code",
      "metadata": {
        "colab": {
          "base_uri": "https://localhost:8080/"
        },
        "id": "XWj-0zL675QJ",
        "outputId": "c7f9d00a-878f-48fd-82b2-a7040b7dbe93"
      },
      "source": [
        "acc8_gauss_scaled['anomaly_gauss'] = pd.Series(model.predict(acc8_gauss_scaled)).apply(lambda x: 0 if x==1 else 1).values\n",
        "acc8_gauss['anomaly_gauss'] = acc8_gauss_scaled['anomaly_gauss']\n",
        "acc8_gauss_scaled['anomaly_gauss'].value_counts()"
      ],
      "execution_count": null,
      "outputs": []
    },
    {
      "cell_type": "code",
      "metadata": {
        "colab": {
          "base_uri": "https://localhost:8080/"
        },
        "id": "E8oZHuGZ75QK",
        "outputId": "514d7c2a-7b06-43b6-85b1-7e7dbad722c7"
      },
      "source": [
        "bank_main['gauss_8'] = 0\n",
        "bank_main.loc[acc8_gauss_scaled.index,'gauss_8'] = acc8_gauss_scaled['anomaly_gauss']\n",
        "bank_main['gauss_8'].value_counts()"
      ],
      "execution_count": null,
      "outputs": []
    },
    {
      "cell_type": "code",
      "metadata": {
        "colab": {
          "base_uri": "https://localhost:8080/",
          "height": 624
        },
        "id": "kb-1aq1t75QK",
        "outputId": "3455a839-13b9-4d84-97bc-bfb6e6ee70c0"
      },
      "source": [
        "labels = acc8_gauss_scaled.anomaly_gauss\n",
        "colors = {0:'blue', 1:'red'}\n",
        "\n",
        "fig = plt.figure(1, figsize=(8,8))\n",
        "ax = Axes3D(fig, rect=[0, 0, .95, 1], elev=48, azim=134)\n",
        "ax.scatter(acc8_gauss_scaled.iloc[:,3], acc8_gauss_scaled.iloc[:,4], acc8_gauss_scaled.iloc[:,5], c=labels.apply(lambda x:colors[x]))\n",
        "ax.set_title(f'GAUSSIAN DISTRIBUTION (account_no = {accounts[7]}, outliers_fraction = {100*outliers_fraction}%)', fontsize=14)\n",
        "ax.set_xlabel('withdrawal_amt')\n",
        "ax.set_ylabel('deposit_amt')\n",
        "ax.set_zlabel('balance_amt')"
      ],
      "execution_count": null,
      "outputs": []
    },
    {
      "cell_type": "code",
      "metadata": {
        "colab": {
          "base_uri": "https://localhost:8080/",
          "height": 512
        },
        "id": "LwOeO8Dz75QK",
        "outputId": "4eede482-ca4d-469a-c30d-16db57e0c5ac"
      },
      "source": [
        "df = acc8_gauss.copy()\n",
        "a= df.loc[df['anomaly_gauss']==1, ['date', 'balance_amt']]\n",
        "plt.figure(figsize=(20,8))\n",
        "plt.plot(df['date'], df['balance_amt'], color='blue', label='Normal')\n",
        "plt.scatter(a['date'], a['balance_amt'], color='red', label='Anomaly')\n",
        "plt.title(f'{accounts[7]} Gaussian Distribution Anomalies')\n",
        "plt.xlabel('Date')\n",
        "plt.ylabel('balance_amt')\n",
        "plt.legend()\n",
        "plt.show()"
      ],
      "execution_count": null,
      "outputs": []
    },
    {
      "cell_type": "markdown",
      "metadata": {
        "id": "Z2uZqyjP75QK"
      },
      "source": [
        "#### &emsp;(IX)  Gaussian Distribution account_no: 409000425051"
      ]
    },
    {
      "cell_type": "code",
      "metadata": {
        "colab": {
          "base_uri": "https://localhost:8080/",
          "height": 162
        },
        "id": "ZU0dORVN75QK",
        "outputId": "203042a2-f46f-464b-d50a-a612c15cd387"
      },
      "source": [
        "acc9_gauss = acc9.copy() \n",
        "scaler = StandardScaler()\n",
        "acc9_gauss_scaled = pd.DataFrame(scaler.fit_transform(acc9_gauss[acc9.columns[2:]]), columns=acc9.columns[2:])\n",
        "acc9_gauss_scaled.set_index(acc9_gauss.index, drop=True, inplace=True)\n",
        "acc9_gauss_scaled.head(3)"
      ],
      "execution_count": null,
      "outputs": []
    },
    {
      "cell_type": "code",
      "metadata": {
        "colab": {
          "base_uri": "https://localhost:8080/"
        },
        "id": "09UMJpOn75QK",
        "outputId": "2df19f5a-05a9-4f19-de8b-c9ed843ad583"
      },
      "source": [
        "outliers_fraction = .008\n",
        "model = EllipticEnvelope(contamination=outliers_fraction)\n",
        "model.fit(acc9_gauss_scaled)"
      ],
      "execution_count": null,
      "outputs": []
    },
    {
      "cell_type": "code",
      "metadata": {
        "colab": {
          "base_uri": "https://localhost:8080/"
        },
        "id": "8INepPHC75QL",
        "outputId": "b1a97d01-0478-429b-b211-860482bdb9ae"
      },
      "source": [
        "acc9_gauss_scaled['anomaly_gauss'] = pd.Series(model.predict(acc9_gauss_scaled)).apply(lambda x: 0 if x==1 else 1).values\n",
        "acc9_gauss['anomaly_gauss'] = acc9_gauss_scaled['anomaly_gauss']\n",
        "acc9_gauss_scaled['anomaly_gauss'].value_counts()"
      ],
      "execution_count": null,
      "outputs": []
    },
    {
      "cell_type": "code",
      "metadata": {
        "colab": {
          "base_uri": "https://localhost:8080/"
        },
        "id": "j4oix-Sn75QL",
        "outputId": "6455d4e6-f9f4-49c0-b4df-e37b4b74edc4"
      },
      "source": [
        "bank_main['gauss_9'] = 0\n",
        "bank_main.loc[acc9_gauss_scaled.index,'gauss_9'] = acc9_gauss_scaled['anomaly_gauss']\n",
        "bank_main['gauss_9'].value_counts()"
      ],
      "execution_count": null,
      "outputs": []
    },
    {
      "cell_type": "code",
      "metadata": {
        "colab": {
          "base_uri": "https://localhost:8080/",
          "height": 624
        },
        "id": "GmRK-A9D75QL",
        "outputId": "5a334260-5dbd-45a3-97c6-a89de66c5b8a"
      },
      "source": [
        "labels = acc9_gauss_scaled.anomaly_gauss\n",
        "colors = {0:'blue', 1:'red'}\n",
        "\n",
        "fig = plt.figure(1, figsize=(8,8))\n",
        "ax = Axes3D(fig, rect=[0, 0, .95, 1], elev=48, azim=134)\n",
        "ax.scatter(acc9_gauss_scaled.iloc[:,3], acc9_gauss_scaled.iloc[:,4], acc9_gauss_scaled.iloc[:,5], c=labels.apply(lambda x:colors[x]))\n",
        "ax.set_title(f'GAUSSIAN DISTRIBUTION (account_no = {accounts[8]}, outliers_fraction = {100*outliers_fraction}%)', fontsize=14)\n",
        "ax.set_xlabel('withdrawal_amt')\n",
        "ax.set_ylabel('deposit_amt')\n",
        "ax.set_zlabel('balance_amt')"
      ],
      "execution_count": null,
      "outputs": []
    },
    {
      "cell_type": "code",
      "metadata": {
        "colab": {
          "base_uri": "https://localhost:8080/",
          "height": 512
        },
        "id": "UkxpHUpN75QL",
        "outputId": "6e2f7076-a15f-4447-c2ca-f8bf74cdb75e"
      },
      "source": [
        "df = acc9_gauss.copy()\n",
        "a= df.loc[df['anomaly_gauss']==1, ['date', 'balance_amt']]\n",
        "plt.figure(figsize=(20,8))\n",
        "plt.plot(df['date'], df['balance_amt'], color='blue', label='Normal')\n",
        "plt.scatter(a['date'], a['balance_amt'], color='red', label='Anomaly')\n",
        "plt.title(f'{accounts[8]} Gaussian Distribution Anomalies')\n",
        "plt.xlabel('Date')\n",
        "plt.ylabel('balance_amt')\n",
        "plt.legend()\n",
        "plt.show()"
      ],
      "execution_count": null,
      "outputs": []
    },
    {
      "cell_type": "markdown",
      "metadata": {
        "id": "gkzbtZNH75QL"
      },
      "source": [
        "#### &emsp;(X)  Gaussian Distribution account_no: 409000405747"
      ]
    },
    {
      "cell_type": "code",
      "metadata": {
        "colab": {
          "base_uri": "https://localhost:8080/",
          "height": 162
        },
        "id": "Sl-idNAP75QL",
        "outputId": "5d33386e-5d9c-4172-df2f-4f3b10720745"
      },
      "source": [
        "acc10_gauss = acc10.copy() \n",
        "scaler = StandardScaler()\n",
        "acc10_gauss_scaled = pd.DataFrame(scaler.fit_transform(acc10_gauss[acc10.columns[2:]]), columns=acc10.columns[2:])\n",
        "acc10_gauss_scaled.set_index(acc10_gauss.index, drop=True, inplace=True)\n",
        "acc10_gauss_scaled.head(3)"
      ],
      "execution_count": null,
      "outputs": []
    },
    {
      "cell_type": "code",
      "metadata": {
        "colab": {
          "base_uri": "https://localhost:8080/"
        },
        "id": "1eW-NfSV75QL",
        "outputId": "8755174a-db4e-4e1f-c17c-6ac5a4a59d2f"
      },
      "source": [
        "outliers_fraction = .08\n",
        "model = EllipticEnvelope(contamination=outliers_fraction)\n",
        "model.fit(acc10_gauss_scaled)"
      ],
      "execution_count": null,
      "outputs": []
    },
    {
      "cell_type": "code",
      "metadata": {
        "colab": {
          "base_uri": "https://localhost:8080/"
        },
        "id": "-MuJn34D75QM",
        "outputId": "4e5127cd-b98a-496b-ebbf-1571b2dcfd7e"
      },
      "source": [
        "acc10_gauss_scaled['anomaly_gauss'] = pd.Series(model.predict(acc10_gauss_scaled)).apply(lambda x: 0 if x==1 else 1).values\n",
        "acc10_gauss['anomaly_gauss'] = acc10_gauss_scaled['anomaly_gauss']\n",
        "acc10_gauss_scaled['anomaly_gauss'].value_counts()"
      ],
      "execution_count": null,
      "outputs": []
    },
    {
      "cell_type": "code",
      "metadata": {
        "colab": {
          "base_uri": "https://localhost:8080/"
        },
        "id": "q-j4-4sT75QM",
        "outputId": "2c3749b0-428f-4cd9-bd59-a02c2d6d71c3"
      },
      "source": [
        "bank_main['gauss_10'] = 0\n",
        "bank_main.loc[acc10_gauss_scaled.index,'gauss_10'] = acc10_gauss_scaled['anomaly_gauss']\n",
        "bank_main['gauss_10'].value_counts()"
      ],
      "execution_count": null,
      "outputs": []
    },
    {
      "cell_type": "code",
      "metadata": {
        "colab": {
          "base_uri": "https://localhost:8080/",
          "height": 624
        },
        "id": "erAF_W_175QM",
        "outputId": "0f540b0c-85fa-4883-d4d2-41971b665b8a"
      },
      "source": [
        "labels = acc10_gauss_scaled.anomaly_gauss\n",
        "colors = {0:'blue', 1:'red'}\n",
        "\n",
        "fig = plt.figure(1, figsize=(8,8))\n",
        "ax = Axes3D(fig, rect=[0, 0, .95, 1], elev=48, azim=134)\n",
        "ax.scatter(acc10_gauss_scaled.iloc[:,3], acc10_gauss_scaled.iloc[:,4], acc10_gauss_scaled.iloc[:,5], c=labels.apply(lambda x:colors[x]))\n",
        "ax.set_title(f'GAUSSIAN DISTRIBUTION (account_no = {accounts[9]}, outliers_fraction = {100*outliers_fraction}%)', fontsize=14)\n",
        "ax.set_xlabel('withdrawal_amt')\n",
        "ax.set_ylabel('deposit_amt')\n",
        "ax.set_zlabel('balance_amt')"
      ],
      "execution_count": null,
      "outputs": []
    },
    {
      "cell_type": "code",
      "metadata": {
        "colab": {
          "base_uri": "https://localhost:8080/",
          "height": 512
        },
        "id": "3OGIFwn_75QM",
        "outputId": "dc31ca25-c826-44e7-a279-2ada5bba01f8"
      },
      "source": [
        "df = acc10_gauss.copy()\n",
        "a= df.loc[df['anomaly_gauss']==1, ['date', 'balance_amt']]\n",
        "plt.figure(figsize=(20,8))\n",
        "plt.plot(df['date'], df['balance_amt'], color='blue', label='Normal')\n",
        "plt.scatter(a['date'], a['balance_amt'], color='red', label='Anomaly')\n",
        "plt.title(f'{accounts[9]} Gaussian Distribution Anomalies')\n",
        "plt.xlabel('Date')\n",
        "plt.ylabel('balance_amt')\n",
        "plt.legend()\n",
        "plt.show()"
      ],
      "execution_count": null,
      "outputs": []
    },
    {
      "cell_type": "code",
      "metadata": {
        "id": "_ypGMl_p75QM"
      },
      "source": [
        "bank_main['accounts_gaussian_distribution'] = bank_main.gauss_1 + bank_main.gauss_2 + bank_main.gauss_3 + bank_main.gauss_4 + bank_main.gauss_5 + bank_main.gauss_6 + bank_main.gauss_7 + bank_main.gauss_8 + bank_main.gauss_9 + bank_main.gauss_10"
      ],
      "execution_count": null,
      "outputs": []
    },
    {
      "cell_type": "code",
      "metadata": {
        "colab": {
          "base_uri": "https://localhost:8080/"
        },
        "id": "SniL1sft75QM",
        "outputId": "edb86d8a-50d0-427d-b88f-28aa3e9d56d1"
      },
      "source": [
        "bank_main['accounts_gaussian_distribution'].value_counts()"
      ],
      "execution_count": null,
      "outputs": []
    },
    {
      "cell_type": "markdown",
      "metadata": {
        "id": "qZxSVLnK75QN"
      },
      "source": [
        "### iv. KMeans Clustering Anomaly Detection"
      ]
    },
    {
      "cell_type": "markdown",
      "metadata": {
        "id": "24cRmL9J75QN"
      },
      "source": [
        "#### &emsp;(I) Customer account_no_1196428"
      ]
    },
    {
      "cell_type": "code",
      "metadata": {
        "colab": {
          "base_uri": "https://localhost:8080/",
          "height": 162
        },
        "id": "GlM1LQM075QN",
        "outputId": "aac19bcf-e8d0-46ee-d356-8fd77203b7c0"
      },
      "source": [
        "acc1_kmeans = acc1.copy() \n",
        "scaler = StandardScaler()\n",
        "acc1_kmeans_scaled = pd.DataFrame(scaler.fit_transform(acc1_kmeans[acc1.columns[2:]]), columns=acc1.columns[2:])\n",
        "acc1_kmeans_scaled.set_index(acc1_kmeans.index, drop=True, inplace=True)\n",
        "acc1_kmeans_scaled.head(3)"
      ],
      "execution_count": null,
      "outputs": []
    },
    {
      "cell_type": "code",
      "metadata": {
        "colab": {
          "base_uri": "https://localhost:8080/",
          "height": 299
        },
        "id": "eG65iy0T75QO",
        "outputId": "03284b5d-688e-4ba0-92d9-d1a8ad7f6df5"
      },
      "source": [
        "# Instantiate the clustering model and visualizer\n",
        "visualizer = KElbowVisualizer(KMeans(), k=(2,15))\n",
        "plt.figure(figsize=(8,4)).patch.set_facecolor('xkcd:white')\n",
        "visualizer.fit(acc1_kmeans_scaled)       # Fit the data to the visualizer\n",
        "# visualizer.show()        # Finalize and render the figure"
      ],
      "execution_count": null,
      "outputs": []
    },
    {
      "cell_type": "code",
      "metadata": {
        "id": "ulQCqAMq75QP"
      },
      "source": [
        "kmeans = KMeans(n_clusters=4)\n",
        "kmeans.fit(acc1_kmeans_scaled)\n",
        "labels = kmeans.labels_"
      ],
      "execution_count": null,
      "outputs": []
    },
    {
      "cell_type": "code",
      "metadata": {
        "colab": {
          "base_uri": "https://localhost:8080/",
          "height": 480
        },
        "id": "6pAX4mL075QP",
        "outputId": "2f0bdf31-a94c-4b7e-b7e3-143c1c5dd0f0"
      },
      "source": [
        "fig = plt.figure(1, figsize=(6,6))\n",
        "ax = Axes3D(fig, rect=[0, 0, .95, 1], elev=48, azim=134)\n",
        "ax.scatter(acc1_kmeans_scaled.iloc[:,3], acc1_kmeans_scaled.iloc[:,4], acc1_kmeans_scaled.iloc[:,5], c=labels.astype(np.float), cmap='rainbow')\n",
        "ax.set_title(f'K MEANS {accounts[0]}', fontsize=14)\n",
        "ax.set_xlabel('withdrawal_amt')\n",
        "ax.set_ylabel('deposit_amt')\n",
        "ax.set_zlabel('balance_amt')"
      ],
      "execution_count": null,
      "outputs": []
    },
    {
      "cell_type": "code",
      "metadata": {
        "colab": {
          "base_uri": "https://localhost:8080/",
          "height": 349
        },
        "id": "fxppnxZ275QP",
        "outputId": "a7932d70-b689-4f78-f711-3cb5c49e6320"
      },
      "source": [
        "x = acc1_kmeans_scaled\n",
        "pca = PCA()\n",
        "pipeline = make_pipeline(pca)\n",
        "pipeline.fit(x)\n",
        "# Plot the principal components against their inertia\n",
        "features = range(pca.n_components_)\n",
        "_ = plt.figure(figsize=(15, 5))\n",
        "_ = plt.bar(features, pca.explained_variance_)\n",
        "_ = plt.xlabel('PCA feature')\n",
        "_ = plt.ylabel('Variance')\n",
        "_ = plt.xticks(features)\n",
        "_ = plt.title(f\"account_no{accounts[0]} Importance of the Principal Components based on inertia\")\n",
        "plt.show()"
      ],
      "execution_count": null,
      "outputs": []
    },
    {
      "cell_type": "code",
      "metadata": {
        "id": "D5-Zi4jt75QR"
      },
      "source": [
        "acc1_pca = pd.DataFrame(PCA(n_components=5).fit_transform(acc1_kmeans_scaled), columns=['c1','c2', 'c3', 'c4', 'c5'])"
      ],
      "execution_count": null,
      "outputs": []
    },
    {
      "cell_type": "code",
      "metadata": {
        "id": "GFXYFOcP75QR"
      },
      "source": [
        "kmeans = KMeans(n_clusters=4)\n",
        "kmeans.fit(acc1_pca)\n",
        "labels = kmeans.predict(acc1_pca)\n",
        "unique_elements, counts_elements = np.unique(labels, return_counts=True)\n",
        "clusters = np.asarray((unique_elements, counts_elements))\n",
        "\n",
        "# Assume that 0.5% of the entire data set are anomalies \n",
        "outliers_fraction = 0.003\n",
        "# get the distance between each point and its nearest centroid. The biggest distances are considered as anomaly\n",
        "distance = getDistanceByPoint(acc1_pca, kmeans)\n",
        "# number of observations that equate to the 0.5%  of the entire data set\n",
        "number_of_outliers = int(outliers_fraction*len(distance))\n",
        "# Take the minimum of the largest 0.5%  of the distances as the threshold\n",
        "threshold = distance.nlargest(number_of_outliers).min()\n",
        "# anomaly1 contain the anomaly result of the above method Cluster (0:normal, 1:anomaly) \n",
        "acc1_pca['anomaly_kmeans'] = (distance >= threshold).astype(int)"
      ],
      "execution_count": null,
      "outputs": []
    },
    {
      "cell_type": "code",
      "metadata": {
        "colab": {
          "base_uri": "https://localhost:8080/"
        },
        "id": "3IZnkIkH75QR",
        "outputId": "e6edcc82-5c94-4dba-da1b-3a8cc8c1e423"
      },
      "source": [
        "acc1_pca.index = acc1.index\n",
        "acc1_pca.anomaly_kmeans.value_counts()"
      ],
      "execution_count": null,
      "outputs": []
    },
    {
      "cell_type": "code",
      "metadata": {
        "colab": {
          "base_uri": "https://localhost:8080/"
        },
        "id": "nnkZaunZ75QR",
        "outputId": "adb65b89-5aa8-4da4-bf99-f51ec05cf00d"
      },
      "source": [
        "acc1_kmeans_scaled['anomaly_kmeans'] = acc1_pca.anomaly_kmeans\n",
        "bank_main['km_1'] = 0\n",
        "bank_main.loc[acc1_kmeans_scaled.index,'km_1'] = acc1_kmeans_scaled['anomaly_kmeans']\n",
        "bank_main['km_1'].value_counts()"
      ],
      "execution_count": null,
      "outputs": []
    },
    {
      "cell_type": "code",
      "metadata": {
        "colab": {
          "base_uri": "https://localhost:8080/",
          "height": 624
        },
        "id": "PMMwsV2y75QS",
        "outputId": "681a2d81-ba1d-4d84-a1bb-5ddd5ac4733a"
      },
      "source": [
        "labels = acc1_kmeans_scaled.anomaly_kmeans\n",
        "colors = {0:'blue', 1:'red'}\n",
        "\n",
        "fig = plt.figure(1, figsize=(8,8))\n",
        "ax = Axes3D(fig, rect=[0, 0, .95, 1], elev=48, azim=134)\n",
        "ax.scatter(acc1_kmeans_scaled.iloc[:,3], acc1_kmeans_scaled.iloc[:,4], acc1_kmeans_scaled.iloc[:,5], c=labels.apply(lambda x:colors[x]))\n",
        "ax.set_title(f'KMEANS Anomalies account_no = {accounts[0]} (outliers_fraction = {100*outliers_fraction})%', fontsize=14)\n",
        "ax.set_xlabel('withdrawal_amt')\n",
        "ax.set_ylabel('deposit_amt')\n",
        "ax.set_zlabel('balance_amt')"
      ],
      "execution_count": null,
      "outputs": []
    },
    {
      "cell_type": "code",
      "metadata": {
        "colab": {
          "base_uri": "https://localhost:8080/",
          "height": 512
        },
        "id": "OKR9NmYO75QS",
        "outputId": "f5c2293f-fc59-456a-da58-7cd7e40f17f1"
      },
      "source": [
        "acc1_kmeans['anomaly_kmeans'] = acc1_kmeans_scaled['anomaly_kmeans']\n",
        "df = acc1_kmeans.copy()\n",
        "a= df.loc[df['anomaly_kmeans']==1, ['date', 'balance_amt']]\n",
        "plt.figure(figsize=(20,8))\n",
        "plt.plot(df['date'], df['balance_amt'], color='blue', label='Normal')\n",
        "plt.scatter(a['date'], a['balance_amt'], color='red', label='Anomaly')\n",
        "plt.title(f'{accounts[0]} Kmeans Distribution Anomalies')\n",
        "plt.xlabel('Date')\n",
        "plt.ylabel('balance_amt')\n",
        "plt.legend()\n",
        "plt.show()"
      ],
      "execution_count": null,
      "outputs": []
    },
    {
      "cell_type": "markdown",
      "metadata": {
        "id": "WwNMDp_975QS"
      },
      "source": [
        "#### &emsp;(II) Customer account_no_409000362497"
      ]
    },
    {
      "cell_type": "code",
      "metadata": {
        "colab": {
          "base_uri": "https://localhost:8080/",
          "height": 162
        },
        "id": "0AzXelUe75QS",
        "outputId": "0efb0fc8-5235-4714-b9e8-b8c7e5558b01"
      },
      "source": [
        "acc2_kmeans = acc2.copy() \n",
        "scaler = StandardScaler()\n",
        "acc2_kmeans_scaled = pd.DataFrame(scaler.fit_transform(acc2_kmeans[acc2.columns[2:]]), columns=acc2.columns[2:])\n",
        "acc2_kmeans_scaled.set_index(acc2_kmeans.index, drop=True, inplace=True)\n",
        "acc2_kmeans_scaled.head(3)"
      ],
      "execution_count": null,
      "outputs": []
    },
    {
      "cell_type": "code",
      "metadata": {
        "colab": {
          "base_uri": "https://localhost:8080/",
          "height": 303
        },
        "id": "guNwDsoq75QT",
        "outputId": "4c31545d-2bfe-4791-e9fe-b7f65be729e0"
      },
      "source": [
        "# Instantiate the clustering model and visualizer\n",
        "visualizer = KElbowVisualizer(KMeans(), k=(2,15))\n",
        "plt.figure(figsize=(8,4)).patch.set_facecolor('xkcd:white')\n",
        "visualizer.fit(acc2_kmeans_scaled)       # Fit the data to the visualizer\n",
        "# visualizer.show()        # Finalize and render the figure"
      ],
      "execution_count": null,
      "outputs": []
    },
    {
      "cell_type": "code",
      "metadata": {
        "id": "GRZXY72f75QT"
      },
      "source": [
        "kmeans = KMeans(n_clusters=4)\n",
        "kmeans.fit(acc2_kmeans_scaled)\n",
        "labels = kmeans.labels_"
      ],
      "execution_count": null,
      "outputs": []
    },
    {
      "cell_type": "code",
      "metadata": {
        "colab": {
          "base_uri": "https://localhost:8080/",
          "height": 480
        },
        "id": "TeCEIV9R75QT",
        "outputId": "88658917-aabf-4ace-8126-319a12319ef7"
      },
      "source": [
        "fig = plt.figure(1, figsize=(6,6))\n",
        "ax = Axes3D(fig, rect=[0, 0, .95, 1], elev=48, azim=134)\n",
        "ax.scatter(acc2_kmeans_scaled.iloc[:,3], acc2_kmeans_scaled.iloc[:,4], acc2_kmeans_scaled.iloc[:,5], c=labels.astype(np.float), cmap='rainbow')\n",
        "ax.set_title(f'K MEANS {accounts[1]}', fontsize=14)\n",
        "ax.set_xlabel('withdrawal_amt')\n",
        "ax.set_ylabel('deposit_amt')\n",
        "ax.set_zlabel('balance_amt')"
      ],
      "execution_count": null,
      "outputs": []
    },
    {
      "cell_type": "code",
      "metadata": {
        "colab": {
          "base_uri": "https://localhost:8080/",
          "height": 349
        },
        "id": "ITvLUEvV75QU",
        "outputId": "8bc84c46-ba3f-4e65-e073-dd46d1fb706e"
      },
      "source": [
        "x = acc2_kmeans_scaled\n",
        "pca = PCA()\n",
        "pipeline = make_pipeline(pca)\n",
        "pipeline.fit(x)\n",
        "# Plot the principal components against their inertia\n",
        "features = range(pca.n_components_)\n",
        "_ = plt.figure(figsize=(15, 5))\n",
        "_ = plt.bar(features, pca.explained_variance_)\n",
        "_ = plt.xlabel('PCA feature')\n",
        "_ = plt.ylabel('Variance')\n",
        "_ = plt.xticks(features)\n",
        "_ = plt.title(f\"account_no{accounts[0]} Importance of the Principal Components based on inertia\")\n",
        "plt.show()"
      ],
      "execution_count": null,
      "outputs": []
    },
    {
      "cell_type": "code",
      "metadata": {
        "id": "DJ4hfMdC75QU"
      },
      "source": [
        "acc2_pca = pd.DataFrame(PCA(n_components=6).fit_transform(acc2_kmeans_scaled), columns=['c1','c2', 'c3', 'c4', 'c5', 'c6'])"
      ],
      "execution_count": null,
      "outputs": []
    },
    {
      "cell_type": "code",
      "metadata": {
        "id": "4Z20I6h675QU"
      },
      "source": [
        "kmeans = KMeans(n_clusters=4)\n",
        "kmeans.fit(acc2_pca)\n",
        "labels = kmeans.predict(acc2_pca)\n",
        "unique_elements, counts_elements = np.unique(labels, return_counts=True)\n",
        "clusters = np.asarray((unique_elements, counts_elements))\n",
        "\n",
        "outliers_fraction = 0.003\n",
        "distance = getDistanceByPoint(acc2_pca, kmeans)\n",
        "number_of_outliers = int(outliers_fraction*len(distance))\n",
        "threshold = distance.nlargest(number_of_outliers).min()\n",
        "acc2_pca['anomaly_kmeans'] = (distance >= threshold).astype(int)"
      ],
      "execution_count": null,
      "outputs": []
    },
    {
      "cell_type": "code",
      "metadata": {
        "colab": {
          "base_uri": "https://localhost:8080/"
        },
        "id": "iBC3gbhO75QU",
        "outputId": "c435ce09-3fd8-4c47-a7aa-2fe9b1b96b66"
      },
      "source": [
        "acc2_pca.index = acc2.index\n",
        "acc2_pca.anomaly_kmeans.value_counts()"
      ],
      "execution_count": null,
      "outputs": []
    },
    {
      "cell_type": "code",
      "metadata": {
        "colab": {
          "base_uri": "https://localhost:8080/"
        },
        "id": "I51Eu4Xw75QU",
        "outputId": "1e84e911-0900-4417-8c82-eb0d0be8b7d8"
      },
      "source": [
        "acc2_kmeans_scaled['anomaly_kmeans'] = acc2_pca.anomaly_kmeans\n",
        "bank_main['km_2'] = 0\n",
        "bank_main.loc[acc2_kmeans_scaled.index,'km_2'] = acc2_kmeans_scaled['anomaly_kmeans']\n",
        "bank_main['km_2'].value_counts()"
      ],
      "execution_count": null,
      "outputs": []
    },
    {
      "cell_type": "code",
      "metadata": {
        "colab": {
          "base_uri": "https://localhost:8080/",
          "height": 624
        },
        "id": "hKoLGWfo75QY",
        "outputId": "3ec892a5-47b1-44ff-db1a-a41387ea7f27"
      },
      "source": [
        "labels = acc2_kmeans_scaled.anomaly_kmeans\n",
        "colors = {0:'blue', 1:'red'}\n",
        "\n",
        "fig = plt.figure(1, figsize=(8,8))\n",
        "ax = Axes3D(fig, rect=[0, 0, .95, 1], elev=48, azim=134)\n",
        "ax.scatter(acc2_kmeans_scaled.iloc[:,3], acc2_kmeans_scaled.iloc[:,4], acc2_kmeans_scaled.iloc[:,5], c=labels.apply(lambda x:colors[x]))\n",
        "ax.set_title(f'KMEANS Anomalies account_no = {accounts[1]} (outliers_fraction = {100*outliers_fraction})%', fontsize=14)\n",
        "ax.set_xlabel('withdrawal_amt')\n",
        "ax.set_ylabel('deposit_amt')\n",
        "ax.set_zlabel('balance_amt')"
      ],
      "execution_count": null,
      "outputs": []
    },
    {
      "cell_type": "code",
      "metadata": {
        "colab": {
          "base_uri": "https://localhost:8080/",
          "height": 512
        },
        "id": "Z0US1ZnG75QY",
        "outputId": "1690a6d7-55a0-4426-b716-b8c7e754b843"
      },
      "source": [
        "acc2_kmeans['anomaly_kmeans'] = acc2_kmeans_scaled['anomaly_kmeans']\n",
        "df = acc2_kmeans.copy()\n",
        "a= df.loc[df['anomaly_kmeans']==1, ['date', 'balance_amt']]\n",
        "plt.figure(figsize=(20,8))\n",
        "plt.plot(df['date'], df['balance_amt'], color='blue', label='Normal')\n",
        "plt.scatter(a['date'], a['balance_amt'], color='red', label='Anomaly')\n",
        "plt.title(f'{accounts[1]} Kmeans Distribution Anomalies')\n",
        "plt.xlabel('Date')\n",
        "plt.ylabel('balance_amt')\n",
        "plt.legend()\n",
        "plt.show()"
      ],
      "execution_count": null,
      "outputs": []
    },
    {
      "cell_type": "code",
      "metadata": {
        "colab": {
          "base_uri": "https://localhost:8080/",
          "height": 37
        },
        "id": "kVsnTipz75QY",
        "outputId": "c6be2861-d4ff-49b8-da8a-7ffc9bdf834e"
      },
      "source": [
        "accounts[2]"
      ],
      "execution_count": null,
      "outputs": []
    },
    {
      "cell_type": "markdown",
      "metadata": {
        "id": "ChriN_3N75QY"
      },
      "source": [
        "#### &emsp;(III) Customer account_no_409000438620"
      ]
    },
    {
      "cell_type": "code",
      "metadata": {
        "colab": {
          "base_uri": "https://localhost:8080/",
          "height": 162
        },
        "id": "bOX_Ma4r75QY",
        "outputId": "0d5f6aaa-1284-48a1-f8d6-b202f1bf1aa1"
      },
      "source": [
        "acc3_kmeans = acc3.copy() \n",
        "scaler = StandardScaler()\n",
        "acc3_kmeans_scaled = pd.DataFrame(scaler.fit_transform(acc3_kmeans[acc3.columns[2:]]), columns=acc3.columns[2:])\n",
        "acc3_kmeans_scaled.set_index(acc3_kmeans.index, drop=True, inplace=True)\n",
        "acc3_kmeans_scaled.head(3)"
      ],
      "execution_count": null,
      "outputs": []
    },
    {
      "cell_type": "code",
      "metadata": {
        "colab": {
          "base_uri": "https://localhost:8080/",
          "height": 301
        },
        "id": "ccvI_QIg75QZ",
        "outputId": "bf5b7ec3-6ac9-4daf-b108-926f0c1ea42b"
      },
      "source": [
        "# Instantiate the clustering model and visualizer\n",
        "visualizer = KElbowVisualizer(KMeans(), k=(2,15))\n",
        "plt.figure(figsize=(8,4)).patch.set_facecolor('xkcd:white')\n",
        "visualizer.fit(acc3_kmeans_scaled)       # Fit the data to the visualizer\n",
        "# visualizer.show()        # Finalize and render the figure"
      ],
      "execution_count": null,
      "outputs": []
    },
    {
      "cell_type": "code",
      "metadata": {
        "id": "JGK-o87z75QZ"
      },
      "source": [
        "kmeans = KMeans(n_clusters=6)\n",
        "kmeans.fit(acc3_kmeans_scaled)\n",
        "labels = kmeans.labels_"
      ],
      "execution_count": null,
      "outputs": []
    },
    {
      "cell_type": "code",
      "metadata": {
        "colab": {
          "base_uri": "https://localhost:8080/",
          "height": 480
        },
        "id": "MK_uglC_75QZ",
        "outputId": "8023acf8-84a4-4a59-d9e6-6cd54b4465d0"
      },
      "source": [
        "fig = plt.figure(1, figsize=(6,6))\n",
        "ax = Axes3D(fig, rect=[0, 0, .95, 1], elev=48, azim=134)\n",
        "ax.scatter(acc3_kmeans_scaled.iloc[:,3], acc3_kmeans_scaled.iloc[:,4], acc3_kmeans_scaled.iloc[:,5], c=labels.astype(np.float), cmap='rainbow')\n",
        "ax.set_title(f'K MEANS {accounts[2]}', fontsize=14)\n",
        "ax.set_xlabel('withdrawal_amt')\n",
        "ax.set_ylabel('deposit_amt')\n",
        "ax.set_zlabel('balance_amt')"
      ],
      "execution_count": null,
      "outputs": []
    },
    {
      "cell_type": "code",
      "metadata": {
        "colab": {
          "base_uri": "https://localhost:8080/",
          "height": 349
        },
        "id": "LtNxFuCx75QZ",
        "outputId": "167a50e8-c969-4fb2-87e9-5be97c793d91"
      },
      "source": [
        "x = acc3_kmeans_scaled\n",
        "pca = PCA()\n",
        "pipeline = make_pipeline(pca)\n",
        "pipeline.fit(x)\n",
        "# Plot the principal components against their inertia\n",
        "features = range(pca.n_components_)\n",
        "_ = plt.figure(figsize=(15, 5))\n",
        "_ = plt.bar(features, pca.explained_variance_)\n",
        "_ = plt.xlabel('PCA feature')\n",
        "_ = plt.ylabel('Variance')\n",
        "_ = plt.xticks(features)\n",
        "_ = plt.title(f\"account_no{accounts[2]} Importance of the Principal Components based on inertia\")\n",
        "plt.show()"
      ],
      "execution_count": null,
      "outputs": []
    },
    {
      "cell_type": "code",
      "metadata": {
        "id": "NWuSPw_b75QZ"
      },
      "source": [
        "acc3_pca = pd.DataFrame(PCA(n_components=7).fit_transform(acc3_kmeans_scaled), columns=['c1','c2', 'c3', 'c4', 'c5', 'c6', 'c7'])"
      ],
      "execution_count": null,
      "outputs": []
    },
    {
      "cell_type": "code",
      "metadata": {
        "id": "1Z1XIhSc75QZ"
      },
      "source": [
        "kmeans = KMeans(n_clusters=6)\n",
        "kmeans.fit(acc3_pca)\n",
        "labels = kmeans.predict(acc3_pca)\n",
        "\n",
        "unique_elements, counts_elements = np.unique(labels, return_counts=True)\n",
        "clusters = np.asarray((unique_elements, counts_elements))\n",
        "\n",
        "outliers_fraction = 0.003\n",
        "distance = getDistanceByPoint(acc3_pca, kmeans)\n",
        "number_of_outliers = int(outliers_fraction*len(distance))\n",
        "threshold = distance.nlargest(number_of_outliers).min()\n",
        "acc3_pca['anomaly_kmeans'] = (distance >= threshold).astype(int)"
      ],
      "execution_count": null,
      "outputs": []
    },
    {
      "cell_type": "code",
      "metadata": {
        "colab": {
          "base_uri": "https://localhost:8080/"
        },
        "id": "ROS5Co7_75QZ",
        "outputId": "110d1c0c-8fa6-440b-92b7-6c8aee48ed7c"
      },
      "source": [
        "acc3_pca.index = acc3.index\n",
        "acc3_pca.anomaly_kmeans.value_counts()"
      ],
      "execution_count": null,
      "outputs": []
    },
    {
      "cell_type": "code",
      "metadata": {
        "colab": {
          "base_uri": "https://localhost:8080/"
        },
        "id": "1nne3jUx75Qa",
        "outputId": "12cba96d-d11a-4e1c-e3f0-1ecbbca3b433"
      },
      "source": [
        "acc3_kmeans_scaled['anomaly_kmeans'] = acc3_pca.anomaly_kmeans\n",
        "bank_main['km_3'] = 0\n",
        "bank_main.loc[acc3_kmeans_scaled.index,'km_3'] = acc3_kmeans_scaled['anomaly_kmeans']\n",
        "bank_main['km_3'].value_counts()"
      ],
      "execution_count": null,
      "outputs": []
    },
    {
      "cell_type": "code",
      "metadata": {
        "colab": {
          "base_uri": "https://localhost:8080/",
          "height": 624
        },
        "id": "HUx57qzb75Qa",
        "outputId": "0cad6598-b248-412c-c92a-6df40a1f68b4"
      },
      "source": [
        "labels = acc3_kmeans_scaled.anomaly_kmeans\n",
        "colors = {0:'blue', 1:'red'}\n",
        "\n",
        "fig = plt.figure(1, figsize=(8,8))\n",
        "ax = Axes3D(fig, rect=[0, 0, .95, 1], elev=48, azim=134)\n",
        "ax.scatter(acc3_kmeans_scaled.iloc[:,3], acc3_kmeans_scaled.iloc[:,4], acc3_kmeans_scaled.iloc[:,5], c=labels.apply(lambda x:colors[x]))\n",
        "ax.set_title(f'KMEANS Anomalies account_no = {accounts[2]} (outliers_fraction = {100*outliers_fraction})%', fontsize=14)\n",
        "ax.set_xlabel('withdrawal_amt')\n",
        "ax.set_ylabel('deposit_amt')\n",
        "ax.set_zlabel('balance_amt')"
      ],
      "execution_count": null,
      "outputs": []
    },
    {
      "cell_type": "code",
      "metadata": {
        "colab": {
          "base_uri": "https://localhost:8080/",
          "height": 512
        },
        "id": "J-viyNzT75Qb",
        "outputId": "2ab9f2c5-a8b2-40b2-a3a5-25f556e68406"
      },
      "source": [
        "acc3_kmeans['anomaly_kmeans'] = acc3_kmeans_scaled['anomaly_kmeans']\n",
        "df = acc3_kmeans.copy()\n",
        "a= df.loc[df['anomaly_kmeans']==1, ['date', 'balance_amt']]\n",
        "plt.figure(figsize=(20,8))\n",
        "plt.plot(df['date'], df['balance_amt'], color='blue', label='Normal')\n",
        "plt.scatter(a['date'], a['balance_amt'], color='red', label='Anomaly')\n",
        "plt.title(f'{accounts[2]} Kmeans Distribution Anomalies')\n",
        "plt.xlabel('Date')\n",
        "plt.ylabel('balance_amt')\n",
        "plt.legend()\n",
        "plt.show()"
      ],
      "execution_count": null,
      "outputs": []
    },
    {
      "cell_type": "code",
      "metadata": {
        "colab": {
          "base_uri": "https://localhost:8080/",
          "height": 37
        },
        "id": "eO7v-N-s75Qb",
        "outputId": "eb11f6d6-6ffc-43f5-e29c-7965254c6c3a"
      },
      "source": [
        "accounts[3]"
      ],
      "execution_count": null,
      "outputs": []
    },
    {
      "cell_type": "markdown",
      "metadata": {
        "id": "xf3bAc3375Qb"
      },
      "source": [
        "#### &emsp;(IV) Customer account_no_1196711"
      ]
    },
    {
      "cell_type": "code",
      "metadata": {
        "colab": {
          "base_uri": "https://localhost:8080/",
          "height": 162
        },
        "id": "PSgpiuXy75Qb",
        "outputId": "c264bec4-0f5c-48ba-9ba7-f50a5a4ddab4"
      },
      "source": [
        "acc4_kmeans = acc4.copy() \n",
        "scaler = StandardScaler()\n",
        "acc4_kmeans_scaled = pd.DataFrame(scaler.fit_transform(acc4_kmeans[acc4.columns[2:]]), columns=acc4.columns[2:])\n",
        "acc4_kmeans_scaled.set_index(acc4_kmeans.index, drop=True, inplace=True)\n",
        "acc4_kmeans_scaled.head(3)"
      ],
      "execution_count": null,
      "outputs": []
    },
    {
      "cell_type": "code",
      "metadata": {
        "colab": {
          "base_uri": "https://localhost:8080/",
          "height": 299
        },
        "id": "i_CEJRd075Qb",
        "outputId": "7aa85a14-f80d-4586-87cf-ec769f10743c"
      },
      "source": [
        "# Instantiate the clustering model and visualizer\n",
        "visualizer = KElbowVisualizer(KMeans(), k=(2,15))\n",
        "plt.figure(figsize=(8,4)).patch.set_facecolor('xkcd:white')\n",
        "visualizer.fit(acc4_kmeans_scaled)       # Fit the data to the visualizer\n",
        "# visualizer.show()        # Finalize and render the figure"
      ],
      "execution_count": null,
      "outputs": []
    },
    {
      "cell_type": "code",
      "metadata": {
        "id": "64eBuBAq75Qb"
      },
      "source": [
        "kmeans = KMeans(n_clusters=9)\n",
        "kmeans.fit(acc4_kmeans_scaled)\n",
        "labels = kmeans.labels_"
      ],
      "execution_count": null,
      "outputs": []
    },
    {
      "cell_type": "code",
      "metadata": {
        "colab": {
          "base_uri": "https://localhost:8080/",
          "height": 480
        },
        "id": "PTdHEwlI75Qc",
        "outputId": "03ed07d2-7147-4054-999e-d5cee093c73a"
      },
      "source": [
        "fig = plt.figure(1, figsize=(6,6))\n",
        "ax = Axes3D(fig, rect=[0, 0, .95, 1], elev=48, azim=134)\n",
        "ax.scatter(acc4_kmeans_scaled.iloc[:,3], acc4_kmeans_scaled.iloc[:,4], acc4_kmeans_scaled.iloc[:,5], c=labels.astype(np.float), cmap='rainbow')\n",
        "ax.set_title(f'K MEANS {accounts[3]}', fontsize=14)\n",
        "ax.set_xlabel('withdrawal_amt')\n",
        "ax.set_ylabel('deposit_amt')\n",
        "ax.set_zlabel('balance_amt')"
      ],
      "execution_count": null,
      "outputs": []
    },
    {
      "cell_type": "code",
      "metadata": {
        "colab": {
          "base_uri": "https://localhost:8080/",
          "height": 349
        },
        "id": "-s7tzIcG75Qc",
        "outputId": "7364acfa-16bf-41dc-d4cf-c5003559f9bc"
      },
      "source": [
        "x = acc4_kmeans_scaled\n",
        "pca = PCA()\n",
        "pipeline = make_pipeline(pca)\n",
        "pipeline.fit(x)\n",
        "# Plot the principal components against their inertia\n",
        "features = range(pca.n_components_)\n",
        "_ = plt.figure(figsize=(15, 5))\n",
        "_ = plt.bar(features, pca.explained_variance_)\n",
        "_ = plt.xlabel('PCA feature')\n",
        "_ = plt.ylabel('Variance')\n",
        "_ = plt.xticks(features)\n",
        "_ = plt.title(f\"account_no{accounts[3]} Importance of the Principal Components based on inertia\")\n",
        "plt.show()"
      ],
      "execution_count": null,
      "outputs": []
    },
    {
      "cell_type": "code",
      "metadata": {
        "id": "rkc3uaLM75Qc"
      },
      "source": [
        "acc4_pca = pd.DataFrame(PCA(n_components=7).fit_transform(acc4_kmeans_scaled), columns=['c1','c2', 'c3', 'c4', 'c5', 'c6', 'c7'])"
      ],
      "execution_count": null,
      "outputs": []
    },
    {
      "cell_type": "code",
      "metadata": {
        "id": "oIkn1L2Z75Qc"
      },
      "source": [
        "kmeans = KMeans(n_clusters=9)\n",
        "kmeans.fit(acc4_pca)\n",
        "labels = kmeans.predict(acc4_pca)\n",
        "\n",
        "unique_elements, counts_elements = np.unique(labels, return_counts=True)\n",
        "clusters = np.asarray((unique_elements, counts_elements))\n",
        "\n",
        "outliers_fraction = 0.005\n",
        "distance = getDistanceByPoint(acc4_pca, kmeans)\n",
        "\n",
        "number_of_outliers = int(outliers_fraction*len(distance))\n",
        "threshold = distance.nlargest(number_of_outliers).min()\n",
        "acc4_pca['anomaly_kmeans'] = (distance >= threshold).astype(int)"
      ],
      "execution_count": null,
      "outputs": []
    },
    {
      "cell_type": "code",
      "metadata": {
        "colab": {
          "base_uri": "https://localhost:8080/"
        },
        "id": "fUULGJw375Qc",
        "outputId": "0d79fbf4-30cf-4363-a9e1-3a9a0f625a58"
      },
      "source": [
        "acc4_pca.index = acc4.index\n",
        "acc4_pca.anomaly_kmeans.value_counts()"
      ],
      "execution_count": null,
      "outputs": []
    },
    {
      "cell_type": "code",
      "metadata": {
        "colab": {
          "base_uri": "https://localhost:8080/"
        },
        "id": "cpBb78js75Qc",
        "outputId": "9e910b43-bd43-41a3-b480-c87fe6284593"
      },
      "source": [
        "acc4_kmeans_scaled['anomaly_kmeans'] = acc4_pca.anomaly_kmeans\n",
        "bank_main['km_4'] = 0\n",
        "bank_main.loc[acc4_kmeans_scaled.index,'km_4'] = acc4_kmeans_scaled['anomaly_kmeans']\n",
        "bank_main['km_4'].value_counts()"
      ],
      "execution_count": null,
      "outputs": []
    },
    {
      "cell_type": "code",
      "metadata": {
        "colab": {
          "base_uri": "https://localhost:8080/",
          "height": 624
        },
        "id": "jnGw27jA75Qc",
        "outputId": "bfad1065-4eaf-47cc-cf9f-8bc20b5bda93"
      },
      "source": [
        "labels = acc4_kmeans_scaled.anomaly_kmeans\n",
        "colors = {0:'blue', 1:'red'}\n",
        "\n",
        "fig = plt.figure(1, figsize=(8,8))\n",
        "ax = Axes3D(fig, rect=[0, 0, .95, 1], elev=48, azim=134)\n",
        "ax.scatter(acc4_kmeans_scaled.iloc[:,3], acc4_kmeans_scaled.iloc[:,4], acc4_kmeans_scaled.iloc[:,5], c=labels.apply(lambda x:colors[x]))\n",
        "ax.set_title(f'KMEANS Anomalies account_no = {accounts[3]} (outliers_fraction = {100*outliers_fraction})%', fontsize=14)\n",
        "ax.set_xlabel('withdrawal_amt')\n",
        "ax.set_ylabel('deposit_amt')\n",
        "ax.set_zlabel('balance_amt')"
      ],
      "execution_count": null,
      "outputs": []
    },
    {
      "cell_type": "code",
      "metadata": {
        "colab": {
          "base_uri": "https://localhost:8080/",
          "height": 512
        },
        "id": "tt8GY8Uk75Qc",
        "outputId": "147bf819-80b7-4ee9-b8b3-a7b53b73d1c6"
      },
      "source": [
        "acc4_kmeans['anomaly_kmeans'] = acc4_kmeans_scaled['anomaly_kmeans']\n",
        "df = acc4_kmeans.copy()\n",
        "a= df.loc[df['anomaly_kmeans']==1, ['date', 'balance_amt']]\n",
        "plt.figure(figsize=(20,8))\n",
        "plt.plot(df['date'], df['balance_amt'], color='blue', label='Normal')\n",
        "plt.scatter(a['date'], a['balance_amt'], color='red', label='Anomaly')\n",
        "plt.title(f'{accounts[3]} Kmeans Distribution Anomalies')\n",
        "plt.xlabel('Date')\n",
        "plt.ylabel('balance_amt')\n",
        "plt.legend()\n",
        "plt.show()"
      ],
      "execution_count": null,
      "outputs": []
    },
    {
      "cell_type": "code",
      "metadata": {
        "colab": {
          "base_uri": "https://localhost:8080/",
          "height": 37
        },
        "id": "4-FFUWUm75Qd",
        "outputId": "d94a847d-8988-4513-a689-fc2f6845c689"
      },
      "source": [
        "accounts[4]"
      ],
      "execution_count": null,
      "outputs": []
    },
    {
      "cell_type": "markdown",
      "metadata": {
        "id": "YQPnlEDB75Qd"
      },
      "source": [
        "#### &emsp;(V) Customer account_no_409000493210"
      ]
    },
    {
      "cell_type": "code",
      "metadata": {
        "colab": {
          "base_uri": "https://localhost:8080/",
          "height": 162
        },
        "id": "DXfoFaXI75Qd",
        "outputId": "9e2db5b4-001f-4177-dd0c-8af34f41f0cc"
      },
      "source": [
        "acc5_kmeans = acc5.copy() \n",
        "scaler = StandardScaler()\n",
        "acc5_kmeans_scaled = pd.DataFrame(scaler.fit_transform(acc5_kmeans[acc5.columns[2:]]), columns=acc5.columns[2:])\n",
        "acc5_kmeans_scaled.set_index(acc5_kmeans.index, drop=True, inplace=True)\n",
        "acc5_kmeans_scaled.head(3)"
      ],
      "execution_count": null,
      "outputs": []
    },
    {
      "cell_type": "code",
      "metadata": {
        "colab": {
          "base_uri": "https://localhost:8080/",
          "height": 300
        },
        "id": "53ehtZ_z75Qd",
        "outputId": "555764d9-4a3a-4931-f21a-bff913c18b8d"
      },
      "source": [
        "# Instantiate the clustering model and visualizer\n",
        "visualizer = KElbowVisualizer(KMeans(), k=(2,15))\n",
        "plt.figure(figsize=(8,4)).patch.set_facecolor('xkcd:white')\n",
        "visualizer.fit(acc5_kmeans_scaled)       # Fit the data to the visualizer\n",
        "# visualizer.show()        # Finalize and render the figure"
      ],
      "execution_count": null,
      "outputs": []
    },
    {
      "cell_type": "code",
      "metadata": {
        "id": "_AObKNmX75Qd"
      },
      "source": [
        "kmeans = KMeans(n_clusters=4)\n",
        "kmeans.fit(acc5_kmeans_scaled)\n",
        "labels = kmeans.labels_"
      ],
      "execution_count": null,
      "outputs": []
    },
    {
      "cell_type": "code",
      "metadata": {
        "colab": {
          "base_uri": "https://localhost:8080/",
          "height": 480
        },
        "id": "VEw495Bw75Qd",
        "outputId": "53c6116c-4320-47bd-abaa-239a41c93a94"
      },
      "source": [
        "fig = plt.figure(1, figsize=(6,6))\n",
        "ax = Axes3D(fig, rect=[0, 0, .95, 1], elev=48, azim=134)\n",
        "ax.scatter(acc5_kmeans_scaled.iloc[:,3], acc5_kmeans_scaled.iloc[:,4], acc5_kmeans_scaled.iloc[:,5], c=labels.astype(np.float), cmap='rainbow')\n",
        "ax.set_title(f'K MEANS {accounts[4]}', fontsize=14)\n",
        "ax.set_xlabel('withdrawal_amt')\n",
        "ax.set_ylabel('deposit_amt')\n",
        "ax.set_zlabel('balance_amt')"
      ],
      "execution_count": null,
      "outputs": []
    },
    {
      "cell_type": "code",
      "metadata": {
        "colab": {
          "base_uri": "https://localhost:8080/",
          "height": 349
        },
        "id": "RPQXZHcm75Qd",
        "outputId": "ab570ab7-d78b-4c71-e39f-837157509468"
      },
      "source": [
        "x = acc5_kmeans_scaled\n",
        "pca = PCA()\n",
        "pipeline = make_pipeline(pca)\n",
        "pipeline.fit(x)\n",
        "# Plot the principal components against their inertia\n",
        "features = range(pca.n_components_)\n",
        "_ = plt.figure(figsize=(15, 5))\n",
        "_ = plt.bar(features, pca.explained_variance_)\n",
        "_ = plt.xlabel('PCA feature')\n",
        "_ = plt.ylabel('Variance')\n",
        "_ = plt.xticks(features)\n",
        "_ = plt.title(f\"account_no{accounts[4]} Importance of the Principal Components based on inertia\")\n",
        "plt.show()"
      ],
      "execution_count": null,
      "outputs": []
    },
    {
      "cell_type": "code",
      "metadata": {
        "id": "gh0y_os675Qd"
      },
      "source": [
        "acc5_pca = pd.DataFrame(PCA(n_components=3).fit_transform(acc5_kmeans_scaled), columns=['c1','c2', 'c3'])"
      ],
      "execution_count": null,
      "outputs": []
    },
    {
      "cell_type": "code",
      "metadata": {
        "id": "O5NCSLAm75Qd"
      },
      "source": [
        "kmeans = KMeans(n_clusters=4)\n",
        "kmeans.fit(acc5_pca)\n",
        "labels = kmeans.predict(acc5_pca)\n",
        "\n",
        "unique_elements, counts_elements = np.unique(labels, return_counts=True)\n",
        "clusters = np.asarray((unique_elements, counts_elements))\n",
        "\n",
        "outliers_fraction = 0.005\n",
        "distance = getDistanceByPoint(acc5_pca, kmeans)\n",
        "\n",
        "number_of_outliers = int(outliers_fraction*len(distance))\n",
        "threshold = distance.nlargest(number_of_outliers).min()\n",
        "acc5_pca['anomaly_kmeans'] = (distance >= threshold).astype(int)"
      ],
      "execution_count": null,
      "outputs": []
    },
    {
      "cell_type": "code",
      "metadata": {
        "colab": {
          "base_uri": "https://localhost:8080/"
        },
        "id": "PAP3C7-I75Qe",
        "outputId": "5ecc8e4e-3dea-48c6-8a80-c4dd7b6f9f58"
      },
      "source": [
        "acc5_pca.index = acc5.index\n",
        "acc5_pca.anomaly_kmeans.value_counts()"
      ],
      "execution_count": null,
      "outputs": []
    },
    {
      "cell_type": "code",
      "metadata": {
        "colab": {
          "base_uri": "https://localhost:8080/"
        },
        "id": "xKEtsjwW75Qe",
        "outputId": "bfe1289b-f2d6-4d02-fe85-e0186d8a0d01"
      },
      "source": [
        "acc5_kmeans_scaled['anomaly_kmeans'] = acc5_pca.anomaly_kmeans\n",
        "bank_main['km_5'] = 0\n",
        "bank_main.loc[acc5_kmeans_scaled.index,'km_5'] = acc5_kmeans_scaled['anomaly_kmeans']\n",
        "bank_main['km_5'].value_counts()"
      ],
      "execution_count": null,
      "outputs": []
    },
    {
      "cell_type": "code",
      "metadata": {
        "colab": {
          "base_uri": "https://localhost:8080/",
          "height": 624
        },
        "id": "BE-LhgJD75Qe",
        "outputId": "8700e669-e180-413d-ae78-ab6427cb0df4"
      },
      "source": [
        "labels = acc5_kmeans_scaled.anomaly_kmeans\n",
        "colors = {0:'blue', 1:'red'}\n",
        "\n",
        "fig = plt.figure(1, figsize=(8,8))\n",
        "ax = Axes3D(fig, rect=[0, 0, .95, 1], elev=48, azim=134)\n",
        "ax.scatter(acc5_kmeans_scaled.iloc[:,3], acc5_kmeans_scaled.iloc[:,4], acc5_kmeans_scaled.iloc[:,5], c=labels.apply(lambda x:colors[x]))\n",
        "ax.set_title(f'KMEANS Anomalies account_no = {accounts[4]} (outliers_fraction = {100*outliers_fraction})%', fontsize=14)\n",
        "ax.set_xlabel('withdrawal_amt')\n",
        "ax.set_ylabel('deposit_amt')\n",
        "ax.set_zlabel('balance_amt')"
      ],
      "execution_count": null,
      "outputs": []
    },
    {
      "cell_type": "code",
      "metadata": {
        "colab": {
          "base_uri": "https://localhost:8080/",
          "height": 512
        },
        "id": "3UCbRfGk75Qe",
        "outputId": "2da6d6c3-6e07-40eb-d4fa-bc73e5db8650"
      },
      "source": [
        "acc5_kmeans['anomaly_kmeans'] = acc5_kmeans_scaled['anomaly_kmeans']\n",
        "df = acc5_kmeans.copy()\n",
        "a= df.loc[df['anomaly_kmeans']==1, ['date', 'balance_amt']]\n",
        "plt.figure(figsize=(20,8))\n",
        "plt.plot(df['date'], df['balance_amt'], color='blue', label='Normal')\n",
        "plt.scatter(a['date'], a['balance_amt'], color='red', label='Anomaly')\n",
        "plt.title(f'{accounts[4]} Kmeans Distribution Anomalies')\n",
        "plt.xlabel('Date')\n",
        "plt.ylabel('balance_amt')\n",
        "plt.legend()\n",
        "plt.show()"
      ],
      "execution_count": null,
      "outputs": []
    },
    {
      "cell_type": "markdown",
      "metadata": {
        "id": "s6drGJjt75Qe"
      },
      "source": [
        "#### &emsp;(V) Customer account_no_409000438611"
      ]
    },
    {
      "cell_type": "code",
      "metadata": {
        "colab": {
          "base_uri": "https://localhost:8080/",
          "height": 162
        },
        "id": "q5o-LhXz75Qe",
        "outputId": "a20eca41-d1fb-4db4-f863-d7c7154b9590"
      },
      "source": [
        "acc6_kmeans = acc6.copy() \n",
        "scaler = StandardScaler()\n",
        "acc6_kmeans_scaled = pd.DataFrame(scaler.fit_transform(acc6_kmeans[acc6.columns[2:]]), columns=acc6.columns[2:])\n",
        "acc6_kmeans_scaled.set_index(acc6_kmeans.index, drop=True, inplace=True)\n",
        "acc6_kmeans_scaled.head(3)"
      ],
      "execution_count": null,
      "outputs": []
    },
    {
      "cell_type": "code",
      "metadata": {
        "colab": {
          "base_uri": "https://localhost:8080/",
          "height": 302
        },
        "id": "-fi4VzzJ75Qf",
        "outputId": "90080219-e716-47ec-a870-6eefe5927198"
      },
      "source": [
        "# Instantiate the clustering model and visualizer\n",
        "visualizer = KElbowVisualizer(KMeans(), k=(2,15))\n",
        "plt.figure(figsize=(8,4)).patch.set_facecolor('xkcd:white')\n",
        "visualizer.fit(acc6_kmeans_scaled)       # Fit the data to the visualizer\n",
        "# visualizer.show()        # Finalize and render the figure"
      ],
      "execution_count": null,
      "outputs": []
    },
    {
      "cell_type": "code",
      "metadata": {
        "id": "pKpfpmtd75Qf"
      },
      "source": [
        "kmeans = KMeans(n_clusters=6)\n",
        "kmeans.fit(acc6_kmeans_scaled)\n",
        "labels = kmeans.labels_"
      ],
      "execution_count": null,
      "outputs": []
    },
    {
      "cell_type": "code",
      "metadata": {
        "colab": {
          "base_uri": "https://localhost:8080/",
          "height": 480
        },
        "id": "HBuw6k5Q75Qf",
        "outputId": "12f66209-8769-4082-8e1a-a980d54beff5"
      },
      "source": [
        "fig = plt.figure(1, figsize=(6,6))\n",
        "ax = Axes3D(fig, rect=[0, 0, .95, 1], elev=48, azim=134)\n",
        "ax.scatter(acc6_kmeans_scaled.iloc[:,3], acc6_kmeans_scaled.iloc[:,4], acc6_kmeans_scaled.iloc[:,5], c=labels.astype(np.float), cmap='rainbow')\n",
        "ax.set_title(f'K MEANS {accounts[5]}', fontsize=14)\n",
        "ax.set_xlabel('withdrawal_amt')\n",
        "ax.set_ylabel('deposit_amt')\n",
        "ax.set_zlabel('balance_amt')"
      ],
      "execution_count": null,
      "outputs": []
    },
    {
      "cell_type": "code",
      "metadata": {
        "colab": {
          "base_uri": "https://localhost:8080/",
          "height": 349
        },
        "id": "22FlUliW75Qf",
        "outputId": "bbb99405-a891-4ce7-8ec8-820f004ddd39"
      },
      "source": [
        "x = acc6_kmeans_scaled\n",
        "pca = PCA()\n",
        "pipeline = make_pipeline(pca)\n",
        "pipeline.fit(x)\n",
        "# Plot the principal components against their inertia\n",
        "features = range(pca.n_components_)\n",
        "_ = plt.figure(figsize=(15, 5))\n",
        "_ = plt.bar(features, pca.explained_variance_)\n",
        "_ = plt.xlabel('PCA feature')\n",
        "_ = plt.ylabel('Variance')\n",
        "_ = plt.xticks(features)\n",
        "_ = plt.title(f\"account_no{accounts[5]} Importance of the Principal Components based on inertia\")\n",
        "plt.show()"
      ],
      "execution_count": null,
      "outputs": []
    },
    {
      "cell_type": "code",
      "metadata": {
        "id": "Ohrn4Dga75Qf"
      },
      "source": [
        "acc6_pca = pd.DataFrame(PCA(n_components=5).fit_transform(acc6_kmeans_scaled), columns=['c1','c2', 'c3', 'c4', 'c5'])"
      ],
      "execution_count": null,
      "outputs": []
    },
    {
      "cell_type": "code",
      "metadata": {
        "id": "9fNCCMyX75Qf"
      },
      "source": [
        "kmeans = KMeans(n_clusters=6)\n",
        "kmeans.fit(acc6_pca)\n",
        "labels = kmeans.predict(acc6_pca)\n",
        "\n",
        "unique_elements, counts_elements = np.unique(labels, return_counts=True)\n",
        "clusters = np.asarray((unique_elements, counts_elements))\n",
        "\n",
        "outliers_fraction = 0.005\n",
        "distance = getDistanceByPoint(acc6_pca, kmeans)\n",
        "\n",
        "number_of_outliers = int(outliers_fraction*len(distance))\n",
        "threshold = distance.nlargest(number_of_outliers).min()\n",
        "acc6_pca['anomaly_kmeans'] = (distance >= threshold).astype(int)"
      ],
      "execution_count": null,
      "outputs": []
    },
    {
      "cell_type": "code",
      "metadata": {
        "colab": {
          "base_uri": "https://localhost:8080/"
        },
        "id": "fm7llDhz75Qg",
        "outputId": "685a280b-280a-411c-c9d0-649c270565b1"
      },
      "source": [
        "acc6_pca.index = acc6.index\n",
        "acc6_pca.anomaly_kmeans.value_counts()"
      ],
      "execution_count": null,
      "outputs": []
    },
    {
      "cell_type": "code",
      "metadata": {
        "colab": {
          "base_uri": "https://localhost:8080/"
        },
        "id": "LFUpTmLe75Qg",
        "outputId": "a61d95a2-cdd7-4834-f0c3-8cae7f77d840"
      },
      "source": [
        "acc6_kmeans_scaled['anomaly_kmeans'] = acc6_pca.anomaly_kmeans\n",
        "bank_main['km_6'] = 0\n",
        "bank_main.loc[acc6_kmeans_scaled.index,'km_6'] = acc6_kmeans_scaled['anomaly_kmeans']\n",
        "bank_main['km_6'].value_counts()"
      ],
      "execution_count": null,
      "outputs": []
    },
    {
      "cell_type": "code",
      "metadata": {
        "colab": {
          "base_uri": "https://localhost:8080/",
          "height": 624
        },
        "id": "_symyf2X75Qg",
        "outputId": "0c81552c-86ac-4c17-8d10-c1c6fba7397c"
      },
      "source": [
        "labels = acc6_kmeans_scaled.anomaly_kmeans\n",
        "colors = {0:'blue', 1:'red'}\n",
        "\n",
        "fig = plt.figure(1, figsize=(8,8))\n",
        "ax = Axes3D(fig, rect=[0, 0, .95, 1], elev=48, azim=134)\n",
        "ax.scatter(acc6_kmeans_scaled.iloc[:,3], acc6_kmeans_scaled.iloc[:,4], acc6_kmeans_scaled.iloc[:,5], c=labels.apply(lambda x:colors[x]))\n",
        "ax.set_title(f'KMEANS Anomalies account_no = {accounts[5]} (outliers_fraction = {100*outliers_fraction})%', fontsize=14)\n",
        "ax.set_xlabel('withdrawal_amt')\n",
        "ax.set_ylabel('deposit_amt')\n",
        "ax.set_zlabel('balance_amt')"
      ],
      "execution_count": null,
      "outputs": []
    },
    {
      "cell_type": "code",
      "metadata": {
        "colab": {
          "base_uri": "https://localhost:8080/",
          "height": 512
        },
        "id": "FCDvzw6w75Qg",
        "outputId": "df080adb-3461-4eeb-d46f-4f3b10b6b8dd"
      },
      "source": [
        "acc6_kmeans['anomaly_kmeans'] = acc6_kmeans_scaled['anomaly_kmeans']\n",
        "df = acc6_kmeans.copy()\n",
        "a= df.loc[df['anomaly_kmeans']==1, ['date', 'balance_amt']]\n",
        "plt.figure(figsize=(20,8))\n",
        "plt.plot(df['date'], df['balance_amt'], color='blue', label='Normal')\n",
        "plt.scatter(a['date'], a['balance_amt'], color='red', label='Anomaly')\n",
        "plt.title(f'{accounts[5]} Kmeans Distribution Anomalies')\n",
        "plt.xlabel('Date')\n",
        "plt.ylabel('balance_amt')\n",
        "plt.legend()\n",
        "plt.show()"
      ],
      "execution_count": null,
      "outputs": []
    },
    {
      "cell_type": "code",
      "metadata": {
        "id": "Abc2N35n75Qg"
      },
      "source": [],
      "execution_count": null,
      "outputs": []
    },
    {
      "cell_type": "markdown",
      "metadata": {
        "id": "DmQ_mJvt75Qg"
      },
      "source": [
        "#### &emsp;(VII) Customer account_no_409000611074"
      ]
    },
    {
      "cell_type": "code",
      "metadata": {
        "colab": {
          "base_uri": "https://localhost:8080/",
          "height": 162
        },
        "id": "Mq2hKjHs75Qg",
        "outputId": "68d71b9f-c7ae-4bf0-c2dc-977d433b8ae0"
      },
      "source": [
        "acc7_kmeans = acc7.copy() \n",
        "scaler = StandardScaler()\n",
        "acc7_kmeans_scaled = pd.DataFrame(scaler.fit_transform(acc7_kmeans[acc7.columns[2:]]), columns=acc7.columns[2:])\n",
        "acc7_kmeans_scaled.set_index(acc7_kmeans.index, drop=True, inplace=True)\n",
        "acc7_kmeans_scaled.head(3)"
      ],
      "execution_count": null,
      "outputs": []
    },
    {
      "cell_type": "code",
      "metadata": {
        "colab": {
          "base_uri": "https://localhost:8080/",
          "height": 299
        },
        "id": "TtXN53OO75Qh",
        "outputId": "892a0060-d269-4eee-8071-17b7e87ee997"
      },
      "source": [
        "# Instantiate the clustering model and visualizer\n",
        "visualizer = KElbowVisualizer(KMeans(), k=(2,15))\n",
        "plt.figure(figsize=(8,4)).patch.set_facecolor('xkcd:white')\n",
        "visualizer.fit(acc7_kmeans_scaled)       # Fit the data to the visualizer\n",
        "# visualizer.show()        # Finalize and render the figure"
      ],
      "execution_count": null,
      "outputs": []
    },
    {
      "cell_type": "code",
      "metadata": {
        "id": "QD8UakY475Qh"
      },
      "source": [
        "kmeans = KMeans(n_clusters=5)\n",
        "kmeans.fit(acc7_kmeans_scaled)\n",
        "labels = kmeans.labels_"
      ],
      "execution_count": null,
      "outputs": []
    },
    {
      "cell_type": "code",
      "metadata": {
        "colab": {
          "base_uri": "https://localhost:8080/",
          "height": 480
        },
        "id": "NElRsbwm75Qh",
        "outputId": "cb353a38-4b13-402c-f345-e97c8d3547c0"
      },
      "source": [
        "fig = plt.figure(1, figsize=(6,6))\n",
        "ax = Axes3D(fig, rect=[0, 0, .95, 1], elev=48, azim=134)\n",
        "ax.scatter(acc7_kmeans_scaled.iloc[:,3], acc7_kmeans_scaled.iloc[:,4], acc7_kmeans_scaled.iloc[:,5], c=labels.astype(np.float), cmap='rainbow')\n",
        "ax.set_title(f'K MEANS {accounts[6]}', fontsize=14)\n",
        "ax.set_xlabel('withdrawal_amt')\n",
        "ax.set_ylabel('deposit_amt')\n",
        "ax.set_zlabel('balance_amt')"
      ],
      "execution_count": null,
      "outputs": []
    },
    {
      "cell_type": "code",
      "metadata": {
        "colab": {
          "base_uri": "https://localhost:8080/",
          "height": 349
        },
        "id": "Vx6p2zLJ75Qh",
        "outputId": "3c8e5fbe-0426-4aea-b493-6f9010e45983"
      },
      "source": [
        "x = acc7_kmeans_scaled\n",
        "pca = PCA()\n",
        "pipeline = make_pipeline(pca)\n",
        "pipeline.fit(x)\n",
        "# Plot the principal components against their inertia\n",
        "features = range(pca.n_components_)\n",
        "_ = plt.figure(figsize=(15, 5))\n",
        "_ = plt.bar(features, pca.explained_variance_)\n",
        "_ = plt.xlabel('PCA feature')\n",
        "_ = plt.ylabel('Variance')\n",
        "_ = plt.xticks(features)\n",
        "_ = plt.title(f\"account_no{accounts[6]} Importance of the Principal Components based on inertia\")\n",
        "plt.show()"
      ],
      "execution_count": null,
      "outputs": []
    },
    {
      "cell_type": "code",
      "metadata": {
        "id": "3ljVDZGQ75Qh"
      },
      "source": [
        "acc7_pca = pd.DataFrame(PCA(n_components=5).fit_transform(acc7_kmeans_scaled), columns=['c1','c2', 'c3', 'c4', 'c5'])"
      ],
      "execution_count": null,
      "outputs": []
    },
    {
      "cell_type": "code",
      "metadata": {
        "id": "Z0mmjWkG75Qj"
      },
      "source": [
        "kmeans = KMeans(n_clusters=5)\n",
        "kmeans.fit(acc7_pca)\n",
        "labels = kmeans.predict(acc7_pca)\n",
        "\n",
        "unique_elements, counts_elements = np.unique(labels, return_counts=True)\n",
        "clusters = np.asarray((unique_elements, counts_elements))\n",
        "\n",
        "outliers_fraction = 0.01\n",
        "distance = getDistanceByPoint(acc7_pca, kmeans)\n",
        "\n",
        "number_of_outliers = int(outliers_fraction*len(distance))\n",
        "threshold = distance.nlargest(number_of_outliers).min()\n",
        "acc7_pca['anomaly_kmeans'] = (distance >= threshold).astype(int)"
      ],
      "execution_count": null,
      "outputs": []
    },
    {
      "cell_type": "code",
      "metadata": {
        "colab": {
          "base_uri": "https://localhost:8080/"
        },
        "id": "MUbLOWCI75Qk",
        "outputId": "22164b9c-3f52-4b65-b5ba-88d34bb888c6"
      },
      "source": [
        "acc7_pca.index = acc7.index\n",
        "acc7_pca.anomaly_kmeans.value_counts()"
      ],
      "execution_count": null,
      "outputs": []
    },
    {
      "cell_type": "code",
      "metadata": {
        "colab": {
          "base_uri": "https://localhost:8080/"
        },
        "id": "NY84XO9n75Qk",
        "outputId": "a9cceb05-4ec8-4d2b-c6d2-f4c7be6dda8e"
      },
      "source": [
        "acc7_kmeans_scaled['anomaly_kmeans'] = acc7_pca.anomaly_kmeans\n",
        "bank_main['km_7'] = 0\n",
        "bank_main.loc[acc7_kmeans_scaled.index,'km_7'] = acc7_kmeans_scaled['anomaly_kmeans']\n",
        "bank_main['km_7'].value_counts()"
      ],
      "execution_count": null,
      "outputs": []
    },
    {
      "cell_type": "code",
      "metadata": {
        "colab": {
          "base_uri": "https://localhost:8080/",
          "height": 624
        },
        "id": "BFtul0PQ75Qk",
        "outputId": "0641567b-d9fb-474c-b908-486b3aeb4b66"
      },
      "source": [
        "labels = acc7_kmeans_scaled.anomaly_kmeans\n",
        "colors = {0:'blue', 1:'red'}\n",
        "\n",
        "fig = plt.figure(1, figsize=(8,8))\n",
        "ax = Axes3D(fig, rect=[0, 0, .95, 1], elev=48, azim=134)\n",
        "ax.scatter(acc7_kmeans_scaled.iloc[:,3], acc7_kmeans_scaled.iloc[:,4], acc7_kmeans_scaled.iloc[:,5], c=labels.apply(lambda x:colors[x]))\n",
        "ax.set_title(f'KMEANS Anomalies account_no = {accounts[6]} (outliers_fraction = {100*outliers_fraction})%', fontsize=14)\n",
        "ax.set_xlabel('withdrawal_amt')\n",
        "ax.set_ylabel('deposit_amt')\n",
        "ax.set_zlabel('balance_amt')"
      ],
      "execution_count": null,
      "outputs": []
    },
    {
      "cell_type": "code",
      "metadata": {
        "colab": {
          "base_uri": "https://localhost:8080/",
          "height": 512
        },
        "id": "rcmaeQqr75Ql",
        "outputId": "615f9606-9615-4976-ba93-7653beed162e"
      },
      "source": [
        "acc7_kmeans['anomaly_kmeans'] = acc7_kmeans_scaled['anomaly_kmeans']\n",
        "df = acc7_kmeans.copy()\n",
        "a= df.loc[df['anomaly_kmeans']==1, ['date', 'balance_amt']]\n",
        "plt.figure(figsize=(20,8))\n",
        "plt.plot(df['date'], df['balance_amt'], color='blue', label='Normal')\n",
        "plt.scatter(a['date'], a['balance_amt'], color='red', label='Anomaly')\n",
        "plt.title(f'{accounts[6]} Kmeans Distribution Anomalies')\n",
        "plt.xlabel('Date')\n",
        "plt.ylabel('balance_amt')\n",
        "plt.legend()\n",
        "plt.show()"
      ],
      "execution_count": null,
      "outputs": []
    },
    {
      "cell_type": "code",
      "metadata": {
        "id": "fiqBTwbP75Ql"
      },
      "source": [],
      "execution_count": null,
      "outputs": []
    },
    {
      "cell_type": "markdown",
      "metadata": {
        "id": "VBQVK8Wl75Ql"
      },
      "source": [
        "#### &emsp;(VIII) Customer account_no_409000493201"
      ]
    },
    {
      "cell_type": "code",
      "metadata": {
        "colab": {
          "base_uri": "https://localhost:8080/",
          "height": 162
        },
        "id": "rpu09H3i75Ql",
        "outputId": "1288ce41-1423-4d6b-ee72-287dae61c34e"
      },
      "source": [
        "acc8_kmeans = acc8.copy() \n",
        "scaler = StandardScaler()\n",
        "acc8_kmeans_scaled = pd.DataFrame(scaler.fit_transform(acc8_kmeans[acc8.columns[2:]]), columns=acc8.columns[2:])\n",
        "acc8_kmeans_scaled.set_index(acc8_kmeans.index, drop=True, inplace=True)\n",
        "acc8_kmeans_scaled.head(3)"
      ],
      "execution_count": null,
      "outputs": []
    },
    {
      "cell_type": "code",
      "metadata": {
        "colab": {
          "base_uri": "https://localhost:8080/",
          "height": 299
        },
        "id": "HFXTfpQj75Ql",
        "outputId": "2e640d0d-cbf7-403e-fb72-35dc49f1db0b"
      },
      "source": [
        "# Instantiate the clustering model and visualizer\n",
        "visualizer = KElbowVisualizer(KMeans(), k=(2,15))\n",
        "plt.figure(figsize=(8,4)).patch.set_facecolor('xkcd:white')\n",
        "visualizer.fit(acc8_kmeans_scaled)       # Fit the data to the visualizer\n",
        "# visualizer.show()        # Finalize and render the figure"
      ],
      "execution_count": null,
      "outputs": []
    },
    {
      "cell_type": "code",
      "metadata": {
        "id": "Sjpneaeq75Ql"
      },
      "source": [
        "kmeans = KMeans(n_clusters=5)\n",
        "kmeans.fit(acc8_kmeans_scaled)\n",
        "labels = kmeans.labels_"
      ],
      "execution_count": null,
      "outputs": []
    },
    {
      "cell_type": "code",
      "metadata": {
        "colab": {
          "base_uri": "https://localhost:8080/",
          "height": 480
        },
        "id": "w32z5poB75Ql",
        "outputId": "f0c9b66c-3047-453d-f410-08a7513bd8c1"
      },
      "source": [
        "fig = plt.figure(1, figsize=(6,6))\n",
        "ax = Axes3D(fig, rect=[0, 0, .95, 1], elev=48, azim=134)\n",
        "ax.scatter(acc8_kmeans_scaled.iloc[:,3], acc8_kmeans_scaled.iloc[:,4], acc8_kmeans_scaled.iloc[:,5], c=labels.astype(np.float), cmap='rainbow')\n",
        "ax.set_title(f'K MEANS {accounts[7]}', fontsize=14)\n",
        "ax.set_xlabel('withdrawal_amt')\n",
        "ax.set_ylabel('deposit_amt')\n",
        "ax.set_zlabel('balance_amt')"
      ],
      "execution_count": null,
      "outputs": []
    },
    {
      "cell_type": "code",
      "metadata": {
        "colab": {
          "base_uri": "https://localhost:8080/",
          "height": 349
        },
        "id": "Bi8gmaLz75Qm",
        "outputId": "3e00f9f6-d78e-48e4-b840-caad92fa26d3"
      },
      "source": [
        "x = acc8_kmeans_scaled\n",
        "pca = PCA()\n",
        "pipeline = make_pipeline(pca)\n",
        "pipeline.fit(x)\n",
        "# Plot the principal components against their inertia\n",
        "features = range(pca.n_components_)\n",
        "_ = plt.figure(figsize=(15, 5))\n",
        "_ = plt.bar(features, pca.explained_variance_)\n",
        "_ = plt.xlabel('PCA feature')\n",
        "_ = plt.ylabel('Variance')\n",
        "_ = plt.xticks(features)\n",
        "_ = plt.title(f\"account_no{accounts[7]} Importance of the Principal Components based on inertia\")\n",
        "plt.show()"
      ],
      "execution_count": null,
      "outputs": []
    },
    {
      "cell_type": "code",
      "metadata": {
        "id": "_d9jAqkn75Qm"
      },
      "source": [
        "acc8_pca = pd.DataFrame(PCA(n_components=5).fit_transform(acc8_kmeans_scaled), columns=['c1','c2', 'c3', 'c4', 'c5'])"
      ],
      "execution_count": null,
      "outputs": []
    },
    {
      "cell_type": "code",
      "metadata": {
        "id": "8aq0Gnf_75Qm"
      },
      "source": [
        "kmeans = KMeans(n_clusters=5)\n",
        "kmeans.fit(acc8_pca)\n",
        "labels = kmeans.predict(acc8_pca)\n",
        "\n",
        "unique_elements, counts_elements = np.unique(labels, return_counts=True)\n",
        "clusters = np.asarray((unique_elements, counts_elements))\n",
        "\n",
        "outliers_fraction = 0.007\n",
        "distance = getDistanceByPoint(acc8_pca, kmeans)\n",
        "\n",
        "number_of_outliers = int(outliers_fraction*len(distance))\n",
        "threshold = distance.nlargest(number_of_outliers).min()\n",
        "acc8_pca['anomaly_kmeans'] = (distance >= threshold).astype(int)"
      ],
      "execution_count": null,
      "outputs": []
    },
    {
      "cell_type": "code",
      "metadata": {
        "colab": {
          "base_uri": "https://localhost:8080/"
        },
        "id": "CggqAWP975Qm",
        "outputId": "b26bae67-620a-44fa-f875-f30fcfaf476d"
      },
      "source": [
        "acc8_pca.index = acc8.index\n",
        "acc8_pca.anomaly_kmeans.value_counts()"
      ],
      "execution_count": null,
      "outputs": []
    },
    {
      "cell_type": "code",
      "metadata": {
        "colab": {
          "base_uri": "https://localhost:8080/"
        },
        "id": "dRc0QS0f75Qm",
        "outputId": "4307e296-7f62-47a8-c121-3a134f876eb4"
      },
      "source": [
        "acc8_kmeans_scaled['anomaly_kmeans'] = acc8_pca.anomaly_kmeans\n",
        "bank_main['km_8'] = 0\n",
        "bank_main.loc[acc8_kmeans_scaled.index,'km_8'] = acc8_kmeans_scaled['anomaly_kmeans']\n",
        "bank_main['km_8'].value_counts()"
      ],
      "execution_count": null,
      "outputs": []
    },
    {
      "cell_type": "code",
      "metadata": {
        "colab": {
          "base_uri": "https://localhost:8080/",
          "height": 624
        },
        "id": "yG8_HOiK75Qm",
        "outputId": "e30c0286-f230-43ac-fff7-a2fa101742f1"
      },
      "source": [
        "labels = acc8_kmeans_scaled.anomaly_kmeans\n",
        "colors = {0:'blue', 1:'red'}\n",
        "\n",
        "fig = plt.figure(1, figsize=(8,8))\n",
        "ax = Axes3D(fig, rect=[0, 0, .95, 1], elev=48, azim=134)\n",
        "ax.scatter(acc8_kmeans_scaled.iloc[:,3], acc8_kmeans_scaled.iloc[:,4], acc8_kmeans_scaled.iloc[:,5], c=labels.apply(lambda x:colors[x]))\n",
        "ax.set_title(f'KMEANS Anomalies account_no = {accounts[7]} (outliers_fraction = {100*outliers_fraction})%', fontsize=14)\n",
        "ax.set_xlabel('withdrawal_amt')\n",
        "ax.set_ylabel('deposit_amt')\n",
        "ax.set_zlabel('balance_amt')"
      ],
      "execution_count": null,
      "outputs": []
    },
    {
      "cell_type": "code",
      "metadata": {
        "colab": {
          "base_uri": "https://localhost:8080/",
          "height": 512
        },
        "id": "xc_aZ3r275Qm",
        "outputId": "a9ec4540-eb6e-4a4f-88f2-56a363107171"
      },
      "source": [
        "acc8_kmeans['anomaly_kmeans'] = acc8_kmeans_scaled['anomaly_kmeans']\n",
        "df = acc8_kmeans.copy()\n",
        "a= df.loc[df['anomaly_kmeans']==1, ['date', 'balance_amt']]\n",
        "plt.figure(figsize=(20,8))\n",
        "plt.plot(df['date'], df['balance_amt'], color='blue', label='Normal')\n",
        "plt.scatter(a['date'], a['balance_amt'], color='red', label='Anomaly')\n",
        "plt.title(f'{accounts[7]} Kmeans Distribution Anomalies')\n",
        "plt.xlabel('Date')\n",
        "plt.ylabel('balance_amt')\n",
        "plt.legend()\n",
        "plt.show()"
      ],
      "execution_count": null,
      "outputs": []
    },
    {
      "cell_type": "markdown",
      "metadata": {
        "id": "j0Z5fo0n75Qm"
      },
      "source": [
        "#### &emsp;(IX) Customer account_no_409000425051"
      ]
    },
    {
      "cell_type": "code",
      "metadata": {
        "colab": {
          "base_uri": "https://localhost:8080/",
          "height": 162
        },
        "id": "EKFZUdYK75Qm",
        "outputId": "eeff7c11-88c7-482c-87cb-01d2ff584da8"
      },
      "source": [
        "acc9_kmeans = acc9.copy() \n",
        "scaler = StandardScaler()\n",
        "acc9_kmeans_scaled = pd.DataFrame(scaler.fit_transform(acc9_kmeans[acc9.columns[2:]]), columns=acc9.columns[2:])\n",
        "acc9_kmeans_scaled.set_index(acc9_kmeans.index, drop=True, inplace=True)\n",
        "acc9_kmeans_scaled.head(3)"
      ],
      "execution_count": null,
      "outputs": []
    },
    {
      "cell_type": "code",
      "metadata": {
        "colab": {
          "base_uri": "https://localhost:8080/",
          "height": 299
        },
        "id": "S59aqHtj75Qm",
        "outputId": "4b8bc28d-40d8-4bd4-9591-5d6cb2fe119e"
      },
      "source": [
        "# Instantiate the clustering model and visualizer\n",
        "visualizer = KElbowVisualizer(KMeans(), k=(2,15))\n",
        "plt.figure(figsize=(8,4)).patch.set_facecolor('xkcd:white')\n",
        "visualizer.fit(acc9_kmeans_scaled)       # Fit the data to the visualizer\n",
        "# visualizer.show()        # Finalize and render the figure"
      ],
      "execution_count": null,
      "outputs": []
    },
    {
      "cell_type": "code",
      "metadata": {
        "id": "cdda9T9o75Qn"
      },
      "source": [
        "kmeans = KMeans(n_clusters=7)\n",
        "kmeans.fit(acc9_kmeans_scaled)\n",
        "labels = kmeans.labels_"
      ],
      "execution_count": null,
      "outputs": []
    },
    {
      "cell_type": "code",
      "metadata": {
        "colab": {
          "base_uri": "https://localhost:8080/",
          "height": 480
        },
        "id": "lfYDeFPY75Qn",
        "outputId": "0227294e-f636-4b40-a5b4-e754830c4b36"
      },
      "source": [
        "fig = plt.figure(1, figsize=(6,6))\n",
        "ax = Axes3D(fig, rect=[0, 0, .95, 1], elev=48, azim=134)\n",
        "ax.scatter(acc9_kmeans_scaled.iloc[:,3], acc9_kmeans_scaled.iloc[:,4], acc9_kmeans_scaled.iloc[:,5], c=labels.astype(np.float), cmap='rainbow')\n",
        "ax.set_title(f'K MEANS {accounts[8]}', fontsize=14)\n",
        "ax.set_xlabel('withdrawal_amt')\n",
        "ax.set_ylabel('deposit_amt')\n",
        "ax.set_zlabel('balance_amt')"
      ],
      "execution_count": null,
      "outputs": []
    },
    {
      "cell_type": "code",
      "metadata": {
        "colab": {
          "base_uri": "https://localhost:8080/",
          "height": 349
        },
        "id": "0aF8vGc475Qn",
        "outputId": "05baa7c3-aaa8-4e16-ce84-537c32394da4"
      },
      "source": [
        "x = acc9_kmeans_scaled\n",
        "pca = PCA()\n",
        "pipeline = make_pipeline(pca)\n",
        "pipeline.fit(x)\n",
        "# Plot the principal components against their inertia\n",
        "features = range(pca.n_components_)\n",
        "_ = plt.figure(figsize=(15, 5))\n",
        "_ = plt.bar(features, pca.explained_variance_)\n",
        "_ = plt.xlabel('PCA feature')\n",
        "_ = plt.ylabel('Variance')\n",
        "_ = plt.xticks(features)\n",
        "_ = plt.title(f\"account_no{accounts[8]} Importance of the Principal Components based on inertia\")\n",
        "plt.show()"
      ],
      "execution_count": null,
      "outputs": []
    },
    {
      "cell_type": "code",
      "metadata": {
        "id": "vUGXr_oe75Qn"
      },
      "source": [
        "acc9_pca = pd.DataFrame(PCA(n_components=6).fit_transform(acc9_kmeans_scaled), columns=['c1','c2', 'c3', 'c4', 'c5', 'c6'])"
      ],
      "execution_count": null,
      "outputs": []
    },
    {
      "cell_type": "code",
      "metadata": {
        "id": "9Lq5Qh8P75Qn"
      },
      "source": [
        "kmeans = KMeans(n_clusters=7)\n",
        "kmeans.fit(acc9_pca)\n",
        "labels = kmeans.predict(acc9_pca)\n",
        "\n",
        "unique_elements, counts_elements = np.unique(labels, return_counts=True)\n",
        "clusters = np.asarray((unique_elements, counts_elements))\n",
        "\n",
        "outliers_fraction = 0.008\n",
        "distance = getDistanceByPoint(acc9_pca, kmeans)\n",
        "\n",
        "number_of_outliers = int(outliers_fraction*len(distance))\n",
        "threshold = distance.nlargest(number_of_outliers).min()\n",
        "acc9_pca['anomaly_kmeans'] = (distance >= threshold).astype(int)"
      ],
      "execution_count": null,
      "outputs": []
    },
    {
      "cell_type": "code",
      "metadata": {
        "colab": {
          "base_uri": "https://localhost:8080/"
        },
        "id": "c5NaR_x475Qn",
        "outputId": "8e46d982-449c-4032-9cfe-8dfd4efbfb6c"
      },
      "source": [
        "acc9_pca.index = acc9.index\n",
        "acc9_pca.anomaly_kmeans.value_counts()"
      ],
      "execution_count": null,
      "outputs": []
    },
    {
      "cell_type": "code",
      "metadata": {
        "colab": {
          "base_uri": "https://localhost:8080/"
        },
        "id": "ISXXWY1s75Qn",
        "outputId": "8a111677-1c59-4dc8-bb32-95c0aef9ce1b"
      },
      "source": [
        "acc9_kmeans_scaled['anomaly_kmeans'] = acc9_pca.anomaly_kmeans\n",
        "bank_main['km_9'] = 0\n",
        "bank_main.loc[acc9_kmeans_scaled.index,'km_9'] = acc9_kmeans_scaled['anomaly_kmeans']\n",
        "bank_main['km_9'].value_counts()"
      ],
      "execution_count": null,
      "outputs": []
    },
    {
      "cell_type": "code",
      "metadata": {
        "colab": {
          "base_uri": "https://localhost:8080/",
          "height": 624
        },
        "id": "FAnv2iSW75Qn",
        "outputId": "fd42a36a-7ad2-4fca-fc58-3ed6d8b7b8b2"
      },
      "source": [
        "labels = acc9_kmeans_scaled.anomaly_kmeans\n",
        "colors = {0:'blue', 1:'red'}\n",
        "\n",
        "fig = plt.figure(1, figsize=(8,8))\n",
        "ax = Axes3D(fig, rect=[0, 0, .95, 1], elev=48, azim=134)\n",
        "ax.scatter(acc9_kmeans_scaled.iloc[:,3], acc9_kmeans_scaled.iloc[:,4], acc9_kmeans_scaled.iloc[:,5], c=labels.apply(lambda x:colors[x]))\n",
        "ax.set_title(f'KMEANS Anomalies account_no = {accounts[8]} (outliers_fraction = {100*outliers_fraction})%', fontsize=14)\n",
        "ax.set_xlabel('withdrawal_amt')\n",
        "ax.set_ylabel('deposit_amt')\n",
        "ax.set_zlabel('balance_amt')"
      ],
      "execution_count": null,
      "outputs": []
    },
    {
      "cell_type": "code",
      "metadata": {
        "colab": {
          "base_uri": "https://localhost:8080/",
          "height": 512
        },
        "id": "DCfoLKus75Qn",
        "outputId": "d5f4cc90-86dc-41f7-a838-3968768cf554"
      },
      "source": [
        "acc9_kmeans['anomaly_kmeans'] = acc9_kmeans_scaled['anomaly_kmeans']\n",
        "df = acc9_kmeans.copy()\n",
        "a= df.loc[df['anomaly_kmeans']==1, ['date', 'balance_amt']]\n",
        "plt.figure(figsize=(20,8))\n",
        "plt.plot(df['date'], df['balance_amt'], color='blue', label='Normal')\n",
        "plt.scatter(a['date'], a['balance_amt'], color='red', label='Anomaly')\n",
        "plt.title(f'{accounts[8]} Kmeans Distribution Anomalies')\n",
        "plt.xlabel('Date')\n",
        "plt.ylabel('balance_amt')\n",
        "plt.legend()\n",
        "plt.show()"
      ],
      "execution_count": null,
      "outputs": []
    },
    {
      "cell_type": "markdown",
      "metadata": {
        "id": "0ipvRTU275Qn"
      },
      "source": [
        "#### &emsp;(X) Customer account_no_409000405747"
      ]
    },
    {
      "cell_type": "code",
      "metadata": {
        "colab": {
          "base_uri": "https://localhost:8080/",
          "height": 162
        },
        "id": "bkQcC-in75Qo",
        "outputId": "1ad2b0bc-b6ec-40d5-baf9-ee15cbb2bb8a"
      },
      "source": [
        "acc10_kmeans = acc10.copy() \n",
        "scaler = StandardScaler()\n",
        "acc10_kmeans_scaled = pd.DataFrame(scaler.fit_transform(acc10_kmeans[acc10.columns[2:]]), columns=acc10.columns[2:])\n",
        "acc10_kmeans_scaled.set_index(acc10_kmeans.index, drop=True, inplace=True)\n",
        "acc10_kmeans_scaled.head(3)"
      ],
      "execution_count": null,
      "outputs": []
    },
    {
      "cell_type": "code",
      "metadata": {
        "colab": {
          "base_uri": "https://localhost:8080/",
          "height": 299
        },
        "id": "JqL1ZQgs75Qo",
        "outputId": "12e4613c-cc77-46f4-9fff-05bc7e810892"
      },
      "source": [
        "# Instantiate the clustering model and visualizer\n",
        "visualizer = KElbowVisualizer(KMeans(), k=(2,15))\n",
        "plt.figure(figsize=(8,4)).patch.set_facecolor('xkcd:white')\n",
        "visualizer.fit(acc10_kmeans_scaled)       # Fit the data to the visualizer\n",
        "# visualizer.show()        # Finalize and render the figure"
      ],
      "execution_count": null,
      "outputs": []
    },
    {
      "cell_type": "code",
      "metadata": {
        "id": "AHGUBiuy75Qo"
      },
      "source": [
        "kmeans = KMeans(n_clusters=6)\n",
        "kmeans.fit(acc10_kmeans_scaled)\n",
        "labels = kmeans.labels_"
      ],
      "execution_count": null,
      "outputs": []
    },
    {
      "cell_type": "code",
      "metadata": {
        "colab": {
          "base_uri": "https://localhost:8080/",
          "height": 480
        },
        "id": "9X0nWjZ075Qo",
        "outputId": "fb8ace74-1980-4ce7-e5fa-556691c71786"
      },
      "source": [
        "fig = plt.figure(1, figsize=(6,6))\n",
        "ax = Axes3D(fig, rect=[0, 0, .95, 1], elev=48, azim=134)\n",
        "ax.scatter(acc10_kmeans_scaled.iloc[:,3], acc10_kmeans_scaled.iloc[:,4], acc10_kmeans_scaled.iloc[:,5], c=labels.astype(np.float), cmap='rainbow')\n",
        "ax.set_title(f'K MEANS {accounts[9]}', fontsize=14)\n",
        "ax.set_xlabel('withdrawal_amt')\n",
        "ax.set_ylabel('deposit_amt')\n",
        "ax.set_zlabel('balance_amt')"
      ],
      "execution_count": null,
      "outputs": []
    },
    {
      "cell_type": "code",
      "metadata": {
        "colab": {
          "base_uri": "https://localhost:8080/",
          "height": 349
        },
        "id": "xNkzSOXo75Qo",
        "outputId": "1d461e4b-1b05-43ee-a2f1-682d0ae30887"
      },
      "source": [
        "x = acc10_kmeans_scaled\n",
        "pca = PCA()\n",
        "pipeline = make_pipeline(pca)\n",
        "pipeline.fit(x)\n",
        "# Plot the principal components against their inertia\n",
        "features = range(pca.n_components_)\n",
        "_ = plt.figure(figsize=(15, 5))\n",
        "_ = plt.bar(features, pca.explained_variance_)\n",
        "_ = plt.xlabel('PCA feature')\n",
        "_ = plt.ylabel('Variance')\n",
        "_ = plt.xticks(features)\n",
        "_ = plt.title(f\"account_no{accounts[9]} Importance of the Principal Components based on inertia\")\n",
        "plt.show()"
      ],
      "execution_count": null,
      "outputs": []
    },
    {
      "cell_type": "code",
      "metadata": {
        "id": "fD-Nt8pI75Qo"
      },
      "source": [
        "acc10_pca = pd.DataFrame(PCA(n_components=3).fit_transform(acc10_kmeans_scaled), columns=['c1','c2', 'c3'])"
      ],
      "execution_count": null,
      "outputs": []
    },
    {
      "cell_type": "code",
      "metadata": {
        "id": "TiI7eqQg75Qo"
      },
      "source": [
        "kmeans = KMeans(n_clusters=4)\n",
        "kmeans.fit(acc10_pca)\n",
        "labels = kmeans.predict(acc10_pca)\n",
        "\n",
        "unique_elements, counts_elements = np.unique(labels, return_counts=True)\n",
        "clusters = np.asarray((unique_elements, counts_elements))\n",
        "\n",
        "outliers_fraction = 0.1\n",
        "distance = getDistanceByPoint(acc10_pca, kmeans)\n",
        "\n",
        "number_of_outliers = int(outliers_fraction*len(distance))\n",
        "threshold = distance.nlargest(number_of_outliers).min()\n",
        "acc10_pca['anomaly_kmeans'] = (distance >= threshold).astype(int)"
      ],
      "execution_count": null,
      "outputs": []
    },
    {
      "cell_type": "code",
      "metadata": {
        "colab": {
          "base_uri": "https://localhost:8080/"
        },
        "id": "XoL1aH-B75Qo",
        "outputId": "a54e9e0f-7547-4cce-eebc-92a3b3f25ffe"
      },
      "source": [
        "acc10_pca.index = acc10.index\n",
        "acc10_pca.anomaly_kmeans.value_counts()"
      ],
      "execution_count": null,
      "outputs": []
    },
    {
      "cell_type": "code",
      "metadata": {
        "colab": {
          "base_uri": "https://localhost:8080/"
        },
        "id": "ZQHn0fc175Qo",
        "outputId": "96c41f87-0ded-4912-fed3-9f042976553f"
      },
      "source": [
        "acc10_kmeans_scaled['anomaly_kmeans'] = acc10_pca.anomaly_kmeans\n",
        "bank_main['km_10'] = 0\n",
        "bank_main.loc[acc10_kmeans_scaled.index,'km_10'] = acc10_kmeans_scaled['anomaly_kmeans']\n",
        "bank_main['km_10'].value_counts()"
      ],
      "execution_count": null,
      "outputs": []
    },
    {
      "cell_type": "code",
      "metadata": {
        "colab": {
          "base_uri": "https://localhost:8080/",
          "height": 624
        },
        "id": "PeXsmEUW75Qo",
        "outputId": "d482ba1e-35b4-4703-9be2-c8392f8c28e8"
      },
      "source": [
        "labels = acc10_kmeans_scaled.anomaly_kmeans\n",
        "colors = {0:'blue', 1:'red'}\n",
        "\n",
        "fig = plt.figure(1, figsize=(8,8))\n",
        "ax = Axes3D(fig, rect=[0, 0, .95, 1], elev=48, azim=134)\n",
        "ax.scatter(acc10_kmeans_scaled.iloc[:,3], acc10_kmeans_scaled.iloc[:,4], acc10_kmeans_scaled.iloc[:,5], c=labels.apply(lambda x:colors[x]))\n",
        "ax.set_title(f'KMEANS Anomalies account_no = {accounts[9]} (outliers_fraction = {100*outliers_fraction})%', fontsize=14)\n",
        "ax.set_xlabel('withdrawal_amt')\n",
        "ax.set_ylabel('deposit_amt')\n",
        "ax.set_zlabel('balance_amt')"
      ],
      "execution_count": null,
      "outputs": []
    },
    {
      "cell_type": "code",
      "metadata": {
        "colab": {
          "base_uri": "https://localhost:8080/",
          "height": 512
        },
        "id": "WoOc7baJ75Qp",
        "outputId": "b79552a2-209f-430e-f5f8-b408d0be8f38"
      },
      "source": [
        "acc10_kmeans['anomaly_kmeans'] = acc10_kmeans_scaled['anomaly_kmeans']\n",
        "df = acc10_kmeans.copy()\n",
        "a= df.loc[df['anomaly_kmeans']==1, ['date', 'balance_amt']]\n",
        "plt.figure(figsize=(20,8))\n",
        "plt.plot(df['date'], df['balance_amt'], color='blue', label='Normal')\n",
        "plt.scatter(a['date'], a['balance_amt'], color='red', label='Anomaly')\n",
        "plt.title(f'{accounts[9]} Kmeans Distribution Anomalies')\n",
        "plt.xlabel('Date')\n",
        "plt.ylabel('balance_amt')\n",
        "plt.legend()\n",
        "plt.show()"
      ],
      "execution_count": null,
      "outputs": []
    },
    {
      "cell_type": "code",
      "metadata": {
        "id": "76mxzWm975Qp"
      },
      "source": [
        "bank_main['accounts_kmeans'] = bank_main.km_1 + bank_main.km_2 + bank_main.km_3 + bank_main.km_4 + bank_main.km_5 + bank_main.km_6 + bank_main.km_7 + bank_main.km_8 + bank_main.km_9 + bank_main.km_10"
      ],
      "execution_count": null,
      "outputs": []
    },
    {
      "cell_type": "code",
      "metadata": {
        "colab": {
          "base_uri": "https://localhost:8080/"
        },
        "id": "UIrAWP4975Qp",
        "outputId": "813bb753-8a9c-4570-fa41-5d5126cfa417"
      },
      "source": [
        "bank_main['accounts_kmeans'].value_counts()"
      ],
      "execution_count": null,
      "outputs": []
    },
    {
      "cell_type": "code",
      "metadata": {
        "id": "rtt4PTUH75Qp"
      },
      "source": [
        "bank_main['anomaly_sum_2'] = bank_main.accounts_isolation_forest + bank_main.accounts_SVM + bank_main.accounts_gaussian_distribution + bank_main.accounts_kmeans"
      ],
      "execution_count": null,
      "outputs": []
    },
    {
      "cell_type": "markdown",
      "metadata": {
        "id": "P0AEf5u-75Qp"
      },
      "source": [
        "## 5. Grading Anomalies"
      ]
    },
    {
      "cell_type": "code",
      "metadata": {
        "id": "o0HrMf3a75Qp"
      },
      "source": [
        "bank_graded = bank_main.copy()"
      ],
      "execution_count": null,
      "outputs": []
    },
    {
      "cell_type": "code",
      "metadata": {
        "id": "seJNJxkH75Qp"
      },
      "source": [
        "drop_lst =['iso_1', 'iso_2', 'iso_3', 'iso_4', 'iso_5', 'iso_6', 'iso_7', 'iso_8', 'iso_9', 'iso_10',\\\n",
        " 'svm_1', 'svm_2', 'svm_3', 'svm_4', 'svm_5', 'svm_6', 'svm_7', 'svm_8', 'svm_9', 'svm_10',\\\n",
        " 'gauss_10', 'gauss_2', 'gauss_1', 'gauss_3', 'gauss_4', 'gauss_5', 'gauss_6', 'gauss_7', 'gauss_8', 'gauss_9',\\\n",
        " 'km_1', 'km_2', 'km_3', 'km_4', 'km_5', 'km_6', 'km_7', 'km_8', 'km_9', 'km_10']\n",
        "\n",
        "bank_graded.drop(columns=drop_lst, axis=1, inplace=True)"
      ],
      "execution_count": null,
      "outputs": []
    },
    {
      "cell_type": "code",
      "metadata": {
        "colab": {
          "base_uri": "https://localhost:8080/"
        },
        "id": "IcJgSCgZ75Qp",
        "outputId": "694736dd-cb63-4d98-edbe-1d058c4f4e81"
      },
      "source": [
        "bank_graded['weighted_anomaly'] = bank_graded.anomaly_sum_1 + 2 * bank_graded.anomaly_sum_2\n",
        "bank_graded['weighted_anomaly'].value_counts()"
      ],
      "execution_count": null,
      "outputs": []
    },
    {
      "cell_type": "code",
      "metadata": {
        "id": "1rUkCH3h75Qp"
      },
      "source": [
        "bank_graded['ranks'] =  0"
      ],
      "execution_count": null,
      "outputs": []
    },
    {
      "cell_type": "code",
      "metadata": {
        "colab": {
          "base_uri": "https://localhost:8080/"
        },
        "id": "Yjp3t_qI75Qp",
        "outputId": "891c9979-fb5d-45df-88ae-6c0fcfd7279d"
      },
      "source": [
        "bank_graded.loc[bank_graded.weighted_anomaly>8, 'ranks'] = 1\n",
        "bank_graded.loc[(bank_graded.weighted_anomaly>4) & (bank_graded.weighted_anomaly<=8),'ranks'] = 2\n",
        "bank_graded.loc[(bank_graded.weighted_anomaly>2) & (bank_graded.weighted_anomaly<=4), 'ranks'] = 3\n",
        "bank_graded.ranks.value_counts()"
      ],
      "execution_count": null,
      "outputs": []
    },
    {
      "cell_type": "markdown",
      "metadata": {
        "id": "6kG40HMo75Qp"
      },
      "source": [
        "Since we have essentially determined **weighted_anomaly** using machine learning algorithms, we now want to check some suspicious points that we discovered during the EDA phase. And finally, we synthesize a rank value for each instance."
      ]
    },
    {
      "cell_type": "markdown",
      "metadata": {
        "id": "YTE_AezA75Qq"
      },
      "source": [
        "### day_diff vs. weighted_anomaly"
      ]
    },
    {
      "cell_type": "code",
      "metadata": {
        "colab": {
          "base_uri": "https://localhost:8080/",
          "height": 80
        },
        "id": "tgQeZpIe75Qq",
        "outputId": "04868770-34a9-41f8-8462-6f5c768ed176"
      },
      "source": [
        "bank_graded[bank_graded.day_diff<0][['day_diff', 'weighted_anomaly', 'ranks']]"
      ],
      "execution_count": null,
      "outputs": []
    },
    {
      "cell_type": "code",
      "metadata": {
        "id": "vm72D3bD75Qq"
      },
      "source": [
        "bank_graded.loc[bank_graded.day_diff<0, 'ranks'] = 1"
      ],
      "execution_count": null,
      "outputs": []
    },
    {
      "cell_type": "code",
      "metadata": {
        "colab": {
          "base_uri": "https://localhost:8080/",
          "height": 483
        },
        "id": "obyRwdK775Qq",
        "outputId": "f2b8ee2d-1853-4797-8c19-f4f1025b03cb"
      },
      "source": [
        "bank_graded[bank_graded.day_diff>4][['day_diff', 'weighted_anomaly', 'ranks']]"
      ],
      "execution_count": null,
      "outputs": []
    },
    {
      "cell_type": "code",
      "metadata": {
        "id": "BBH_6goC75Qq"
      },
      "source": [
        "bank_graded.loc[(bank_graded.day_diff>4) & (bank_graded.day_diff<6) & (bank_graded.ranks==0), 'ranks'] = 3\n",
        "bank_graded.loc[bank_graded.day_diff>10, 'ranks'] = 1"
      ],
      "execution_count": null,
      "outputs": []
    },
    {
      "cell_type": "code",
      "metadata": {
        "colab": {
          "base_uri": "https://localhost:8080/"
        },
        "id": "ewUNgB1p75Qq",
        "outputId": "4ba07f90-5112-4066-bde4-a68b53bbc73a"
      },
      "source": [
        "bank_graded[bank_graded.day_diff>4].ranks.value_counts()"
      ],
      "execution_count": null,
      "outputs": []
    },
    {
      "cell_type": "markdown",
      "metadata": {
        "id": "UVeYjTIX75Qq"
      },
      "source": [
        "### details_null_penalty vs. weighted_anomaly"
      ]
    },
    {
      "cell_type": "code",
      "metadata": {
        "colab": {
          "base_uri": "https://localhost:8080/",
          "height": 419
        },
        "id": "X5qD5v1475Qq",
        "outputId": "c23e8f49-42ca-484e-b0d4-0bf174454e36"
      },
      "source": [
        "bank_graded[bank_graded.details_null_penalty>0][['details_null_penalty', 'weighted_anomaly', 'ranks']]"
      ],
      "execution_count": null,
      "outputs": []
    },
    {
      "cell_type": "code",
      "metadata": {
        "colab": {
          "base_uri": "https://localhost:8080/"
        },
        "id": "E2exPfXS75Qq",
        "outputId": "6439de7f-9cf6-483b-facb-2026acca58f8"
      },
      "source": [
        "bank_graded[bank_graded.details_null_penalty>0].ranks.value_counts()"
      ],
      "execution_count": null,
      "outputs": []
    },
    {
      "cell_type": "markdown",
      "metadata": {
        "id": "a7RT_xyq75Qq"
      },
      "source": [
        "### weekend_date vs. weighted_anomaly"
      ]
    },
    {
      "cell_type": "code",
      "metadata": {
        "colab": {
          "base_uri": "https://localhost:8080/",
          "height": 419
        },
        "id": "uMMJaWbn75Qq",
        "outputId": "ff18392b-8210-4f1a-b7da-2b2ec49bba5e"
      },
      "source": [
        "bank_graded[bank_graded.weekend_date>0][['weekend_date', 'weekend_value_date', 'weighted_anomaly', 'ranks']]"
      ],
      "execution_count": null,
      "outputs": []
    },
    {
      "cell_type": "code",
      "metadata": {
        "colab": {
          "base_uri": "https://localhost:8080/"
        },
        "id": "NJ39owOM75Qr",
        "outputId": "3297930e-4a9a-4f74-c8da-55bd09953035"
      },
      "source": [
        "bank_graded[bank_graded.weekend_date>0].ranks.value_counts()"
      ],
      "execution_count": null,
      "outputs": []
    },
    {
      "cell_type": "code",
      "metadata": {
        "id": "A1xzl_eW75Qr"
      },
      "source": [],
      "execution_count": null,
      "outputs": []
    },
    {
      "cell_type": "code",
      "metadata": {
        "colab": {
          "base_uri": "https://localhost:8080/",
          "height": 483
        },
        "id": "qf-d-lI875Qr",
        "outputId": "8aa5e0c5-92f1-4d42-a98c-2c2f72dd1c17"
      },
      "source": [
        "bank_graded[bank_graded.weekend_date + bank_graded.weekend_value_date==1][['weekend_date', 'weekend_value_date', 'weighted_anomaly', 'ranks']]"
      ],
      "execution_count": null,
      "outputs": []
    },
    {
      "cell_type": "code",
      "metadata": {
        "id": "kKscpL7R75Qr"
      },
      "source": [
        "bank_graded.loc[(bank_graded.weekend_date + bank_graded.weekend_value_date==1) & (bank_graded.weekend_date ==1) & (bank_graded.ranks==0), 'ranks'] = 3"
      ],
      "execution_count": null,
      "outputs": []
    },
    {
      "cell_type": "code",
      "metadata": {
        "colab": {
          "base_uri": "https://localhost:8080/"
        },
        "id": "rO8nbhlw75Qr",
        "outputId": "11f87a78-5935-47b8-e5c6-3e1f054a2176"
      },
      "source": [
        "bank_graded[bank_graded.weekend_date + bank_graded.weekend_value_date==1].ranks.value_counts()"
      ],
      "execution_count": null,
      "outputs": []
    },
    {
      "cell_type": "markdown",
      "metadata": {
        "id": "Lxi1alIW75Qr"
      },
      "source": [
        "### cheque_penalty vs. weighted_anomaly"
      ]
    },
    {
      "cell_type": "code",
      "metadata": {
        "colab": {
          "base_uri": "https://localhost:8080/",
          "height": 700
        },
        "id": "ia3OdTiC75Qr",
        "outputId": "70691a69-df36-40f1-c232-2ddce5e293ec"
      },
      "source": [
        "bank_graded[bank_graded.cheque_penalty>0][['cheque_penalty', 'weighted_anomaly', 'ranks']]"
      ],
      "execution_count": null,
      "outputs": []
    },
    {
      "cell_type": "code",
      "metadata": {
        "colab": {
          "base_uri": "https://localhost:8080/"
        },
        "id": "h3BdoX7U75Qr",
        "outputId": "2e986439-2b94-4999-f4df-6e33a2c7fb71"
      },
      "source": [
        "bank_graded[bank_graded.cheque_penalty>0].ranks.value_counts()"
      ],
      "execution_count": null,
      "outputs": []
    },
    {
      "cell_type": "code",
      "metadata": {
        "colab": {
          "base_uri": "https://localhost:8080/"
        },
        "id": "aBV_kPDW75Qr",
        "outputId": "d58e88a3-3d70-499c-9ab6-fa952b41fa11"
      },
      "source": [
        "bank_graded.ranks.value_counts()"
      ],
      "execution_count": null,
      "outputs": []
    },
    {
      "cell_type": "markdown",
      "metadata": {
        "id": "86XqWXp_75Qr"
      },
      "source": [
        "## 6. Conclusion"
      ]
    },
    {
      "cell_type": "code",
      "metadata": {
        "id": "Z1ZMb_dQ75Qr"
      },
      "source": [
        "bank_ranked = bank_graded.copy()"
      ],
      "execution_count": null,
      "outputs": []
    },
    {
      "cell_type": "code",
      "metadata": {
        "id": "g12LeNUk75Qr"
      },
      "source": [
        "drop_lst = ['account_no_1196428', 'account_no_1196711', 'account_no_409000362497', 'account_no_409000405747', 'account_no_409000425051',\\\n",
        "            'account_no_409000438611', 'account_no_409000438620', 'account_no_409000493201', 'account_no_409000493210', 'account_no_409000611074',\\\n",
        "            'anomaly_kmeans', 'anomaly_isolation_forest', 'anomaly_one_class_svm', 'anomaly_gaussian_elliptic_envelope', 'anomaly_sum_1',\\\n",
        "            'accounts_isolation_forest', 'accounts_SVM', 'accounts_gaussian_distribution', 'accounts_kmeans', 'anomaly_sum_2']\n",
        "\n",
        "bank_ranked.drop(columns=drop_lst, axis=1, inplace=True)"
      ],
      "execution_count": null,
      "outputs": []
    },
    {
      "cell_type": "code",
      "metadata": {
        "id": "gDHRH6bp75Qs"
      },
      "source": [
        "bank_ranked['account_no'] = bank_premodel.account_no"
      ],
      "execution_count": null,
      "outputs": []
    },
    {
      "cell_type": "code",
      "metadata": {
        "colab": {
          "base_uri": "https://localhost:8080/",
          "height": 309
        },
        "id": "CVIxDH1-75Qs",
        "outputId": "900e891b-3cd6-4e69-d595-a122cab22258"
      },
      "source": [
        "bank_ranked.head()"
      ],
      "execution_count": null,
      "outputs": []
    },
    {
      "cell_type": "code",
      "metadata": {
        "id": "8CumsVnd75Qs"
      },
      "source": [
        "bank_ranked.to_excel('bank_transaction_ranked.xlsx')"
      ],
      "execution_count": null,
      "outputs": []
    },
    {
      "cell_type": "code",
      "metadata": {
        "colab": {
          "base_uri": "https://localhost:8080/"
        },
        "id": "ow4AwEXUSXNa",
        "outputId": "820c7f5e-b83e-49ca-d651-1cfeea068144"
      },
      "source": [
        "bank_ranked[bank_ranked.deposit_over_balance < 0].ranks.value_counts()"
      ],
      "execution_count": null,
      "outputs": []
    },
    {
      "cell_type": "code",
      "execution_count": null,
      "metadata": {},
      "outputs": [],
      "source": [
        "bank_ranked[bank_ranked.ranks > 0]"
      ]
    },
    {
      "cell_type": "code",
      "metadata": {
        "id": "uTh6gxH_pGew"
      },
      "source": [],
      "execution_count": null,
      "outputs": []
    },
    {
      "cell_type": "code",
      "execution_count": null,
      "metadata": {},
      "outputs": [],
      "source": []
    }
  ]
}